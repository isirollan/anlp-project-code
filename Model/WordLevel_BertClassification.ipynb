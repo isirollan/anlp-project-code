{
  "cells": [
    {
      "cell_type": "markdown",
      "metadata": {
        "id": "sDh-kfcnxKPI"
      },
      "source": [
        "Thie notebook explores using BERT for text classification.  Before starting, change the runtime to GPU: Runtime > Change runtime type > Hardware accelerator: GPU."
      ]
    },
    {
      "cell_type": "markdown",
      "metadata": {
        "id": "3m2nlYY_dnXP"
      },
      "source": [
        "First, create a folder named ANLP23_data in your Google drive account, and copy this notebook to that folder, along with `data/convote`, `data/loc` and `data/lmrd` from the Github repo.  Double click on this notebook from your drive account, which will open it in the Google Colab environment.  Begin executing the cells from that environment.\n",
        "\n",
        "Let's give this notebook access to the data in your ANLP23 folder so we can train and evaluate BERT on the `convote` data.  (Note you are only providing this access to yourself as you execute this notebook.)  You can give Colab notebooks access to other data in the same way (by uploading it first to your Drive account, and then providing access here)."
      ]
    },
    {
      "cell_type": "code",
      "execution_count": null,
      "metadata": {
        "id": "p4nx0eL5cuTd",
        "colab": {
          "base_uri": "https://localhost:8080/"
        },
        "outputId": "944d0af6-a995-4119-874f-4f75a03e1de3"
      },
      "outputs": [
        {
          "output_type": "stream",
          "name": "stdout",
          "text": [
            "Mounted at /content/drive\n"
          ]
        }
      ],
      "source": [
        "from google.colab import drive\n",
        "drive.mount('/content/drive')"
      ]
    },
    {
      "cell_type": "code",
      "execution_count": null,
      "metadata": {
        "id": "kRyQBPDKxczl",
        "colab": {
          "base_uri": "https://localhost:8080/"
        },
        "outputId": "69a13fe6-d4eb-48db-c017-6cc4a856d1cd"
      },
      "outputs": [
        {
          "output_type": "stream",
          "name": "stdout",
          "text": [
            "Requirement already satisfied: transformers in /usr/local/lib/python3.10/dist-packages (4.35.2)\n",
            "Requirement already satisfied: filelock in /usr/local/lib/python3.10/dist-packages (from transformers) (3.13.1)\n",
            "Requirement already satisfied: huggingface-hub<1.0,>=0.16.4 in /usr/local/lib/python3.10/dist-packages (from transformers) (0.19.4)\n",
            "Requirement already satisfied: numpy>=1.17 in /usr/local/lib/python3.10/dist-packages (from transformers) (1.23.5)\n",
            "Requirement already satisfied: packaging>=20.0 in /usr/local/lib/python3.10/dist-packages (from transformers) (23.2)\n",
            "Requirement already satisfied: pyyaml>=5.1 in /usr/local/lib/python3.10/dist-packages (from transformers) (6.0.1)\n",
            "Requirement already satisfied: regex!=2019.12.17 in /usr/local/lib/python3.10/dist-packages (from transformers) (2023.6.3)\n",
            "Requirement already satisfied: requests in /usr/local/lib/python3.10/dist-packages (from transformers) (2.31.0)\n",
            "Requirement already satisfied: tokenizers<0.19,>=0.14 in /usr/local/lib/python3.10/dist-packages (from transformers) (0.15.0)\n",
            "Requirement already satisfied: safetensors>=0.3.1 in /usr/local/lib/python3.10/dist-packages (from transformers) (0.4.1)\n",
            "Requirement already satisfied: tqdm>=4.27 in /usr/local/lib/python3.10/dist-packages (from transformers) (4.66.1)\n",
            "Requirement already satisfied: fsspec>=2023.5.0 in /usr/local/lib/python3.10/dist-packages (from huggingface-hub<1.0,>=0.16.4->transformers) (2023.6.0)\n",
            "Requirement already satisfied: typing-extensions>=3.7.4.3 in /usr/local/lib/python3.10/dist-packages (from huggingface-hub<1.0,>=0.16.4->transformers) (4.5.0)\n",
            "Requirement already satisfied: charset-normalizer<4,>=2 in /usr/local/lib/python3.10/dist-packages (from requests->transformers) (3.3.2)\n",
            "Requirement already satisfied: idna<4,>=2.5 in /usr/local/lib/python3.10/dist-packages (from requests->transformers) (3.6)\n",
            "Requirement already satisfied: urllib3<3,>=1.21.1 in /usr/local/lib/python3.10/dist-packages (from requests->transformers) (2.0.7)\n",
            "Requirement already satisfied: certifi>=2017.4.17 in /usr/local/lib/python3.10/dist-packages (from requests->transformers) (2023.11.17)\n",
            "Collecting sentence-transformers\n",
            "  Downloading sentence-transformers-2.2.2.tar.gz (85 kB)\n",
            "\u001b[2K     \u001b[90m━━━━━━━━━━━━━━━━━━━━━━━━━━━━━━━━━━━━━━━━\u001b[0m \u001b[32m86.0/86.0 kB\u001b[0m \u001b[31m2.5 MB/s\u001b[0m eta \u001b[36m0:00:00\u001b[0m\n",
            "\u001b[?25h  Preparing metadata (setup.py) ... \u001b[?25l\u001b[?25hdone\n",
            "Requirement already satisfied: transformers<5.0.0,>=4.6.0 in /usr/local/lib/python3.10/dist-packages (from sentence-transformers) (4.35.2)\n",
            "Requirement already satisfied: tqdm in /usr/local/lib/python3.10/dist-packages (from sentence-transformers) (4.66.1)\n",
            "Requirement already satisfied: torch>=1.6.0 in /usr/local/lib/python3.10/dist-packages (from sentence-transformers) (2.1.0+cu118)\n",
            "Requirement already satisfied: torchvision in /usr/local/lib/python3.10/dist-packages (from sentence-transformers) (0.16.0+cu118)\n",
            "Requirement already satisfied: numpy in /usr/local/lib/python3.10/dist-packages (from sentence-transformers) (1.23.5)\n",
            "Requirement already satisfied: scikit-learn in /usr/local/lib/python3.10/dist-packages (from sentence-transformers) (1.2.2)\n",
            "Requirement already satisfied: scipy in /usr/local/lib/python3.10/dist-packages (from sentence-transformers) (1.11.4)\n",
            "Requirement already satisfied: nltk in /usr/local/lib/python3.10/dist-packages (from sentence-transformers) (3.8.1)\n",
            "Collecting sentencepiece (from sentence-transformers)\n",
            "  Downloading sentencepiece-0.1.99-cp310-cp310-manylinux_2_17_x86_64.manylinux2014_x86_64.whl (1.3 MB)\n",
            "\u001b[2K     \u001b[90m━━━━━━━━━━━━━━━━━━━━━━━━━━━━━━━━━━━━━━━━\u001b[0m \u001b[32m1.3/1.3 MB\u001b[0m \u001b[31m29.3 MB/s\u001b[0m eta \u001b[36m0:00:00\u001b[0m\n",
            "\u001b[?25hRequirement already satisfied: huggingface-hub>=0.4.0 in /usr/local/lib/python3.10/dist-packages (from sentence-transformers) (0.19.4)\n",
            "Requirement already satisfied: filelock in /usr/local/lib/python3.10/dist-packages (from huggingface-hub>=0.4.0->sentence-transformers) (3.13.1)\n",
            "Requirement already satisfied: fsspec>=2023.5.0 in /usr/local/lib/python3.10/dist-packages (from huggingface-hub>=0.4.0->sentence-transformers) (2023.6.0)\n",
            "Requirement already satisfied: requests in /usr/local/lib/python3.10/dist-packages (from huggingface-hub>=0.4.0->sentence-transformers) (2.31.0)\n",
            "Requirement already satisfied: pyyaml>=5.1 in /usr/local/lib/python3.10/dist-packages (from huggingface-hub>=0.4.0->sentence-transformers) (6.0.1)\n",
            "Requirement already satisfied: typing-extensions>=3.7.4.3 in /usr/local/lib/python3.10/dist-packages (from huggingface-hub>=0.4.0->sentence-transformers) (4.5.0)\n",
            "Requirement already satisfied: packaging>=20.9 in /usr/local/lib/python3.10/dist-packages (from huggingface-hub>=0.4.0->sentence-transformers) (23.2)\n",
            "Requirement already satisfied: sympy in /usr/local/lib/python3.10/dist-packages (from torch>=1.6.0->sentence-transformers) (1.12)\n",
            "Requirement already satisfied: networkx in /usr/local/lib/python3.10/dist-packages (from torch>=1.6.0->sentence-transformers) (3.2.1)\n",
            "Requirement already satisfied: jinja2 in /usr/local/lib/python3.10/dist-packages (from torch>=1.6.0->sentence-transformers) (3.1.2)\n",
            "Requirement already satisfied: triton==2.1.0 in /usr/local/lib/python3.10/dist-packages (from torch>=1.6.0->sentence-transformers) (2.1.0)\n",
            "Requirement already satisfied: regex!=2019.12.17 in /usr/local/lib/python3.10/dist-packages (from transformers<5.0.0,>=4.6.0->sentence-transformers) (2023.6.3)\n",
            "Requirement already satisfied: tokenizers<0.19,>=0.14 in /usr/local/lib/python3.10/dist-packages (from transformers<5.0.0,>=4.6.0->sentence-transformers) (0.15.0)\n",
            "Requirement already satisfied: safetensors>=0.3.1 in /usr/local/lib/python3.10/dist-packages (from transformers<5.0.0,>=4.6.0->sentence-transformers) (0.4.1)\n",
            "Requirement already satisfied: click in /usr/local/lib/python3.10/dist-packages (from nltk->sentence-transformers) (8.1.7)\n",
            "Requirement already satisfied: joblib in /usr/local/lib/python3.10/dist-packages (from nltk->sentence-transformers) (1.3.2)\n",
            "Requirement already satisfied: threadpoolctl>=2.0.0 in /usr/local/lib/python3.10/dist-packages (from scikit-learn->sentence-transformers) (3.2.0)\n",
            "Requirement already satisfied: pillow!=8.3.*,>=5.3.0 in /usr/local/lib/python3.10/dist-packages (from torchvision->sentence-transformers) (9.4.0)\n",
            "Requirement already satisfied: MarkupSafe>=2.0 in /usr/local/lib/python3.10/dist-packages (from jinja2->torch>=1.6.0->sentence-transformers) (2.1.3)\n",
            "Requirement already satisfied: charset-normalizer<4,>=2 in /usr/local/lib/python3.10/dist-packages (from requests->huggingface-hub>=0.4.0->sentence-transformers) (3.3.2)\n",
            "Requirement already satisfied: idna<4,>=2.5 in /usr/local/lib/python3.10/dist-packages (from requests->huggingface-hub>=0.4.0->sentence-transformers) (3.6)\n",
            "Requirement already satisfied: urllib3<3,>=1.21.1 in /usr/local/lib/python3.10/dist-packages (from requests->huggingface-hub>=0.4.0->sentence-transformers) (2.0.7)\n",
            "Requirement already satisfied: certifi>=2017.4.17 in /usr/local/lib/python3.10/dist-packages (from requests->huggingface-hub>=0.4.0->sentence-transformers) (2023.11.17)\n",
            "Requirement already satisfied: mpmath>=0.19 in /usr/local/lib/python3.10/dist-packages (from sympy->torch>=1.6.0->sentence-transformers) (1.3.0)\n",
            "Building wheels for collected packages: sentence-transformers\n",
            "  Building wheel for sentence-transformers (setup.py) ... \u001b[?25l\u001b[?25hdone\n",
            "  Created wheel for sentence-transformers: filename=sentence_transformers-2.2.2-py3-none-any.whl size=125923 sha256=6cdff6ba0c44b2a8d97c8fd75b895320337fd005e83a7cd40238c956d9dd0f43\n",
            "  Stored in directory: /root/.cache/pip/wheels/62/f2/10/1e606fd5f02395388f74e7462910fe851042f97238cbbd902f\n",
            "Successfully built sentence-transformers\n",
            "Installing collected packages: sentencepiece, sentence-transformers\n",
            "Successfully installed sentence-transformers-2.2.2 sentencepiece-0.1.99\n",
            "Collecting pysbd\n",
            "  Downloading pysbd-0.3.4-py3-none-any.whl (71 kB)\n",
            "\u001b[2K     \u001b[90m━━━━━━━━━━━━━━━━━━━━━━━━━━━━━━━━━━━━━━━━\u001b[0m \u001b[32m71.1/71.1 kB\u001b[0m \u001b[31m2.5 MB/s\u001b[0m eta \u001b[36m0:00:00\u001b[0m\n",
            "\u001b[?25hInstalling collected packages: pysbd\n",
            "Successfully installed pysbd-0.3.4\n"
          ]
        }
      ],
      "source": [
        "!pip install transformers\n",
        "!pip install sentence-transformers\n",
        "!pip install pysbd"
      ]
    },
    {
      "cell_type": "code",
      "source": [
        "import pysbd\n",
        "text = \"My name is Jonas E. Smith. Please turn to p. 55.\"\n",
        "seg = pysbd.Segmenter(language=\"en\", clean=False)\n",
        "print(seg.segment(text))"
      ],
      "metadata": {
        "colab": {
          "base_uri": "https://localhost:8080/"
        },
        "id": "fiZREtM5Qjz_",
        "outputId": "eb919892-b495-4f02-f4ea-102a29563229"
      },
      "execution_count": null,
      "outputs": [
        {
          "output_type": "stream",
          "name": "stdout",
          "text": [
            "['My name is Jonas E. Smith. ', 'Please turn to p. 55.']\n"
          ]
        }
      ]
    },
    {
      "cell_type": "code",
      "source": [
        "!pip install vaderSentiment"
      ],
      "metadata": {
        "colab": {
          "base_uri": "https://localhost:8080/"
        },
        "id": "CjF4rLui9mSH",
        "outputId": "008d710d-c452-42f4-d7c1-955af59fddac"
      },
      "execution_count": null,
      "outputs": [
        {
          "output_type": "stream",
          "name": "stdout",
          "text": [
            "Collecting vaderSentiment\n",
            "  Downloading vaderSentiment-3.3.2-py2.py3-none-any.whl (125 kB)\n",
            "\u001b[?25l     \u001b[90m━━━━━━━━━━━━━━━━━━━━━━━━━━━━━━━━━━━━━━━━\u001b[0m \u001b[32m0.0/126.0 kB\u001b[0m \u001b[31m?\u001b[0m eta \u001b[36m-:--:--\u001b[0m\r\u001b[2K     \u001b[91m━━━━━━━━━━━━━━━━━━━━━━━━━━\u001b[0m\u001b[90m╺\u001b[0m\u001b[90m━━━━━━━━━━━━━\u001b[0m \u001b[32m81.9/126.0 kB\u001b[0m \u001b[31m2.2 MB/s\u001b[0m eta \u001b[36m0:00:01\u001b[0m\r\u001b[2K     \u001b[90m━━━━━━━━━━━━━━━━━━━━━━━━━━━━━━━━━━━━━━━━\u001b[0m \u001b[32m126.0/126.0 kB\u001b[0m \u001b[31m2.6 MB/s\u001b[0m eta \u001b[36m0:00:00\u001b[0m\n",
            "\u001b[?25hRequirement already satisfied: requests in /usr/local/lib/python3.10/dist-packages (from vaderSentiment) (2.31.0)\n",
            "Requirement already satisfied: charset-normalizer<4,>=2 in /usr/local/lib/python3.10/dist-packages (from requests->vaderSentiment) (3.3.2)\n",
            "Requirement already satisfied: idna<4,>=2.5 in /usr/local/lib/python3.10/dist-packages (from requests->vaderSentiment) (3.6)\n",
            "Requirement already satisfied: urllib3<3,>=1.21.1 in /usr/local/lib/python3.10/dist-packages (from requests->vaderSentiment) (2.0.7)\n",
            "Requirement already satisfied: certifi>=2017.4.17 in /usr/local/lib/python3.10/dist-packages (from requests->vaderSentiment) (2023.11.17)\n",
            "Installing collected packages: vaderSentiment\n",
            "Successfully installed vaderSentiment-3.3.2\n"
          ]
        }
      ]
    },
    {
      "cell_type": "code",
      "execution_count": null,
      "metadata": {
        "id": "mWZy26Ld0nGo"
      },
      "outputs": [],
      "source": [
        "from transformers import BertModel, BertTokenizer\n",
        "import torch\n",
        "from tqdm import tqdm\n",
        "import torch.nn as nn\n",
        "import numpy as np\n",
        "import random\n",
        "import time\n",
        "from scipy import sparse\n",
        "from sklearn import linear_model\n",
        "from sklearn.metrics import classification_report, f1_score, accuracy_score\n",
        "#from vaderSentiment.vaderSentiment import SentimentIntensityAnalyzer\n",
        "from collections import Counter"
      ]
    },
    {
      "cell_type": "markdown",
      "metadata": {
        "id": "g_N5SRVPyvDt"
      },
      "source": [
        "Double-check that this notebook is running on the GPU (this should \"Running on cuda\")."
      ]
    },
    {
      "cell_type": "code",
      "execution_count": null,
      "metadata": {
        "id": "QTsJHWfVzS6Y",
        "colab": {
          "base_uri": "https://localhost:8080/"
        },
        "outputId": "b4af8c9d-66d2-4dbf-8130-625c63760340"
      },
      "outputs": [
        {
          "output_type": "stream",
          "name": "stdout",
          "text": [
            "Running on cuda\n"
          ]
        }
      ],
      "source": [
        "device = torch.device(\"cuda\" if torch.cuda.is_available() else \"cpu\")\n",
        "print(\"Running on {}\".format(device))"
      ]
    },
    {
      "cell_type": "code",
      "execution_count": null,
      "metadata": {
        "id": "iH5KcMBMxKPP"
      },
      "outputs": [],
      "source": [
        "def read_labels(filename):\n",
        "    labels={}\n",
        "    with open(filename, \"r\", encoding=\"utf-8-sig\") as file:\n",
        "        for line in file:\n",
        "            cols = line.split(\"\\t\")\n",
        "            label = cols[0]\n",
        "            if label not in labels:\n",
        "                labels[label]=len(labels)\n",
        "    return labels"
      ]
    },
    {
      "cell_type": "code",
      "execution_count": null,
      "metadata": {
        "id": "ZUOIgxLrxKPQ"
      },
      "outputs": [],
      "source": [
        "def read_data(filename, labels, max_data_points=None):\n",
        "    \"\"\"\n",
        "    :param filename: the name of the file\n",
        "    :return: list of tuple ([word index list], label)\n",
        "    as input for the forward and backward function\n",
        "    \"\"\"\n",
        "    data = []\n",
        "    data_labels = []\n",
        "    with open(filename, \"r\", encoding=\"utf-8-sig\") as file:\n",
        "        for line in file:\n",
        "            cols = line.split(\"\\t\")\n",
        "            label = cols[0]\n",
        "            text = cols[1]\n",
        "\n",
        "            data.append(text)\n",
        "            data_labels.append(labels[label])\n",
        "\n",
        "\n",
        "    # shuffle the data - regression training needs shuffles (see class of Hypothesis testing 2)\n",
        "    tmp = list(zip(data, data_labels))\n",
        "    random.shuffle(tmp)\n",
        "    data, data_labels = zip(*tmp)\n",
        "\n",
        "    if max_data_points is None:\n",
        "        return data, data_labels\n",
        "\n",
        "    return data[:max_data_points], data_labels[:max_data_points]"
      ]
    },
    {
      "cell_type": "code",
      "execution_count": null,
      "metadata": {
        "id": "eSMOvzrNxKPS",
        "colab": {
          "base_uri": "https://localhost:8080/"
        },
        "outputId": "bc3bcf87-1214-48ac-c1a9-4e2573e97fd3"
      },
      "outputs": [
        {
          "output_type": "stream",
          "name": "stdout",
          "text": [
            "{'NK': 0, 'K': 1}\n"
          ]
        }
      ],
      "source": [
        "labels=read_labels(\"/content/train.tsv\")\n",
        "print(labels)"
      ]
    },
    {
      "cell_type": "markdown",
      "metadata": {
        "id": "nvQKP6t2xKPS"
      },
      "source": [
        "We'll limit the training and dev data to 1,000 data points for this exercise."
      ]
    },
    {
      "cell_type": "code",
      "execution_count": null,
      "metadata": {
        "id": "JmHGHDJDxKPS"
      },
      "outputs": [],
      "source": [
        "train_x, train_y=read_data(\"/content/train.tsv\", labels, max_data_points=1000)"
      ]
    },
    {
      "cell_type": "code",
      "source": [
        "print(train_x)"
      ],
      "metadata": {
        "colab": {
          "base_uri": "https://localhost:8080/"
        },
        "id": "tVHDT1W6cP-5",
        "outputId": "b7809ddf-adf5-4c2b-d6dc-efebad807718"
      },
      "execution_count": null,
      "outputs": [
        {
          "output_type": "stream",
          "name": "stdout",
          "text": [
            "(\"Everything (socially) gets SO much easier after high school. It's all up from here!\\n\", \"Happy New Year to you, you lovely person! I like to think we're cooler than the cool kids...\\n\", \"The thing is, we're not social enough to feel normal in a group of people. Maybe you might feel normal, but I definitely feel like I don't belong, so in that sense, I am a social outcast. There's nothing wrong with being a social outcast to be honest, it's just that social outcasts have to tone their expectations differently. They can't expect the same thing that normal people expect.\\n\", \"I don't know what to say other than try talking to her. You might be able to fix it still. I think she just has a lot shit going on in her own life that made her snap when you made a harmless joke.\\n\", \"Diagnosed with GAD, started Zoloft about 3 weeks ago, slowly tapering up to 50 mg. I say slowly tapering because I had some side effects that made me feel more anxious but discussed them with my psych and continued more gradually. I'm just now getting to almost the full dose. From the very start it made me feel more social and able to interact with strangers. I'm not sure how it'll work out in the long run, but I'm interested to see how I feel after a couple of months at the 50 mg level. I have learned the hard way to avoid Benadryl while on an SSRI -- it left me feeling like shit for a day.\\n\", 'This was the year that I decided to avoid social media at all costs on both christmas and new years and it was the best decision I could have made. For the first time I could actually enjoy the situation and the people that were in front of me rather than comparing myself to what everybody else was doing.\\n', \"Maybe it *was* a spur of the moment thing. You say you lived close to where the eating place was? But yeah, they should've called you or something. It's hard to know what kind of people they are through text though. They could still be your casual aquaintances if you feel they aren't trustworhty as friends. Not many adult people have really close friends other than their partners.\\n\", 'A failed attempt and close to trying again. Against what I thought I suppose I made it\\n', \"i used to have really bad SA , i got into so much worst senarios that could happen as a guy with SA i dealt with them all , i didn't do good but i dealt with them i don't have understanding parents and a country that understand this stuff i'm in a really bad 3rd world country with strict rules strict parents none even know i have SA because i act that i don't none knows how is my school and how i suffer none knows ! the worst thing you could imagine to happen to you always happened to me i'm talking as the bad thing to happen while u have SA so i kinda got immune sorta ? i have no problem going to the boss i will feel a little bit afraid but i won't care much because i don't care no more if i fuck up or said or did something wrong then i did something wrong if people laugh i forget that they laugh , i just nolonger care\\n\", 'I think that you\\'re really right that all of our \"existential crises\" don\\'t mean that we can\\'t be happy. Maybe life\\'s meaningless - maybe there\\'s no God - maybe nothing is right or wrong - maybe all of those things are true. But that doesn\\'t mean that we can\\'t be happy, and find a way to enjoy the time that we have. Of course, that can be hard too; but I\\'d like to think it really is possible for us, all the same. Happy 2017 to you too, and thanks for the words of encouragement.\\n', \"Have you tried emailing them? If that doesn't work, you'll probably just have to decide if making that phone call is worth the $25.\\n\", \"I don't do either. I do what I call realistic thinking. I made a video about it a while back. I just judge each situation for how it is and decide what the most likely outcome is. I don't categorise the thoughts as positive or negative.\\n\", \"I can't even imagine how much pain you must be in. My whole life I've never had the fortune of knowing someone who I truly felt like I could be open with. Too often I'm afraid of being judged for the way that I feel, and from what you said it sounds like you're in the same boat (along with almost every other person on the planet, I imagine). However, I feel really honored that you feel safe to share your feelings with all of us here right now. Don't forget that we'll always be here for you to express your feelings to. We obviously can't come anywhere close to replacing your fiance, but we can always offer you a completely judgment free shoulder to lean on.\\n\", \"Well honestly there are a few times here and there where you do get positive symptoms, but most are negative and just kills you inside. There is a word for people like you, but I don't recall. It's almost Histrionic except you're not doing this for attention, but more for the escape factor, fascinating. Well if you want SZ, here's a sample for you https://www.youtube.com/watch?v=LWYwckFrksg&amp;t=132s\\n\", 'Conversation is key. Talk to her. Tell her how you felt when you sae her doing it. Tell her you can help her. Be there for her\\n', 'I suffer from this a fair bit, although I do have a bit better control of it at the moment (compared to in the past). My pdoc suggested I look up Intrusive thoughts, and the wiki article gives a bit more info : https://en.wikipedia.org/wiki/Intrusive_thought Whilst the thoughts themselves are not \\'normal\\', having intrusive thoughts is - to quote the above article.... &gt; Such bad thoughts are universal among humans, and have \"almost certainly always been a part of the human condition\" Seeking help is important though, especially if you struggle to resist the temptations. Speak to your doctor about them perhaps in the first instance and go from there?\\n', \"Thank you for sharing this. It resonates with me. It's beautiful in an honest and true way.\\n\", \"Hope you're doing well, too. Happy New Year!\\n\", \"I wish you the best of luck! You show anxiety who's boss!\\n\", 'R E P O S T The other post is literally right below this one on top of all time on this sub\\n', 'Sometimes we get into a hole and it is okay to feel the way you are feeling. Somedays you will be better with this, other days worse. Focus on the people you are comfortable talking with, love you or understand your having trouble. Also I suggest looking into journalling, this should help get out your thoughts without having to speak out loud. There are a few different ways you can do this, just research which sounds best for you.\\n', \"I can't offer much help but I can relate to everything you said. My mum talked for me outside aswell. Now I can barely talk to other people and feel like dying in social situations :))\\n\", 'My NYE sucked just about the same, if you wanna PM me or something. Alcohol and fireworks seem to be a good cure to a shitty new year, though. Also, fuck yeah for no throwaway.\\n', \"As always, the most important advice I can give is to talk to a professional. From your descriptions, there are likely some deeper issues going on here, and it's worth it to get real help, not just (admittedly excellent, /u/BeBuildHave) advice.\\n\", \"You know... I feel like you're exaggerating; you must be wrong. I bet you don't even have walls.\\n\", \"But doesn't he have another $230 from the sale to the other party?\\n\", 'I am prone to hitting my legs when I get frustrated. Some of that is anger. Some of that is sciatica.\\n', \"what ends up being a dumb thing to get around (if you happen to have this issue) is actually showing genuine interest. sometimes i really don't care about the question im about to ask but i do it to keep the convo going or to make them think I care or another sort of reason. usually I do care I guess but sometimes I don't. I am actually an asshole honestly...\\n\", \"I really hope things get better. If no one is there for you, then we are, damn it. Please don't.\\n\", 'Having been there, I can suggest the following (because they all worked for me): 1) If you\\'re taking drugs of any kind (including alcohol), take yourself to a detox and get off of them with expert help. (*This* kind of depression is actually chronic, cyclical, feedback-looping over-stimulation and [withdrawal](https://www.google.com/webhp?sourceid=chrome-instant&amp;ion=1&amp;espv=2&amp;ie=UTF-8#safe=off&amp;q=drug+withdrawal+psychology).) Or at least get into some [AA](http://www.aa.org/), [MA](https://www.marijuana-anonymous.org/) and/or [NA](https://www.google.com/webhp?sourceid=chrome-instant&amp;ion=1&amp;espv=2&amp;ie=UTF-8#safe=off&amp;q=narcotics+anonymous). 2) If you came from an invalidating, frustrating, demoralizing, humiliating, [crazy-making family](https://www.google.com/webhp?sourceid=chrome-instant&amp;ion=1&amp;espv=2&amp;ie=UTF-8#safe=off&amp;q=dysfunctional+family), get yourself to an [ACA](https://www.google.com/webhp?sourceid=chrome-instant&amp;ion=1&amp;espv=2&amp;ie=UTF-8#safe=off&amp;q=adult+children+of+alcoholics+) meeting and read everything on their website before making any further decisions. (You\\'ll find you are not only not alone, but that thousands of other people have found their way out of the \"soup\" in ACA.) 3) If you [stressed](https://www.google.com/webhp?sourceid=chrome-instant&amp;ion=1&amp;espv=2&amp;ie=UTF-8#safe=off&amp;q=autonomic+stress+response) your way into depression, understand that your [autonomic nervous system](https://www.google.com/webhp?sourceid=chrome-instant&amp;ion=1&amp;espv=2&amp;ie=UTF-8#safe=off&amp;q=autonomic+nervous+system) is probably tilted out of balance, and that rest, relaxation, vitamins (D is *really* important), healthy food and appropriate medications and supplements (not always including anti-depressants, btw) offer good possibilities. 4) Be careful with anti-D meds. If one is depressed as the result of having been [in-struct-ed](https://www.google.com/webhp?sourceid=chrome-instant&amp;ion=1&amp;espv=2&amp;ie=UTF-8#q=social%20constructionism), [programmed]( https://www.google.com/webhp?sourceid=chrome-instant&amp;ion=1&amp;espv=2&amp;ie=UTF-8#safe=off&amp;q=mind+programming), [conditioned](https://www.google.com/webhp?sourceid=chrome-instant&amp;ion=1&amp;espv=2&amp;ie=UTF-8#safe=off&amp;q=operant+classical+conditioning), [socialized](https://www.google.com/webhp?sourceid=chrome-instant&amp;ion=1&amp;espv=2&amp;ie=UTF-8#safe=off&amp;q=socialization+psychology) and/or [normalized](https://www.google.com/webhp?sourceid=chrome-instant&amp;ion=1&amp;espv=2&amp;ie=UTF-8#safe=off&amp;q=normalization+social+psychology) to beliefs, values, ideals, principles, convictions, rules, codes, regulations and requirements about how one should / must / ought / has to be but cannot live up to, anti-Ds are not going to accomplish much other than get you dependent upon -- and functionally addicted *to* -- them. 5) Get checked for thyroid and other hormonal disorders. 6) If you have [thought](https://www.google.com/webhp?sourceid=chrome-instant&amp;ion=1&amp;espv=2&amp;ie=UTF-8#safe=off&amp;q=cognitive+distortions) your way into depression with shame, guilt, worry, remorse, regret and morbid reflection, dig into the better cognitive psychotherapies like [REBT](https://www.google.com/webhp?sourceid=chrome-instant&amp;ion=1&amp;espv=2&amp;ie=UTF-8#safe=off&amp;q=rebt+therapy), [CBT](https://www.google.com/webhp?sourceid=chrome-instant&amp;ion=1&amp;espv=2&amp;ie=UTF-8#safe=off&amp;q=cbt+therapy), [critical thinking](https://www.google.com/webhp?sourceid=chrome-instant&amp;ion=1&amp;espv=2&amp;ie=UTF-8#safe=off&amp;q=critical+thinking) and [schema therapy](https://www.google.com/webhp?sourceid=chrome-instant&amp;ion=1&amp;espv=2&amp;ie=UTF-8#safe=off&amp;q=schema+therapy), all of which have much better than even potential of getting your mind out of the mental mush and into reality. I currently use Ogden\\'s [SP4T](http://pairadocks.blogspot.com/2016/07/the-10-steps-ogdens-sensorymotor.html) as the 9th of the [10 StEPs of Emotion Processing]( https://www.google.com/webhp?sourceid=chrome-instant&amp;ion=1&amp;espv=2&amp;ie=UTF-8#q=10+StEPs+of+Emotion+Processing), but had good results over the years with all of the psychotherapies I listed above.\\n', \"That was yesterday. Today is a new day. Just like tomorrow. Yes it was embarrassing, but people always have those drunk moments. In 2 weeks nobody will care. Or maybe sooner. Also don't call yourself those names, that's not helping anything. Just continue your life. Also have you thought about medication?\\n\", 'Hey im 25 and live with my parents. Honestly it sucks sometimes. My sex life sucks. My friends have moved on. I just work and feel like a robot stuck in the same old routine sometimes. But you know what? I love my parents. And they love me. Im sure your grandma doesnt hate you. Try to spend more time with her so she knows you appriciate everything she is doing for you. I promise you whatever she \"hates\" you fir tonight doesnt mean anything long term. Dont let the the hateful attitude she may sonetimes give you impact the way you feel. Im sure it can be resolved. Its a new year-new start-new opportunities to grow closer to one another. I dont mean to sound supwr depressing but your grandma won\\'t be around forever. I know i was 11 when mine died and i didnt get to say goodbye. My other grandma has alsheimers so i slowly watched her mind slip from her Take advantage of the time you have with her by doing whatever you can to make her happy. Even if she has an attitude or whatever. I promise this will make both of you feel better everyday living with one another!\\n', \"&gt; [...] Pretty sure no one will respond. [...] NYC apartment that doesn't belong to me. Don't ask. Too late. I wanna hear that story.\\n\", 'Congrats!!! I just got a job that will get my ass out of the house, so im feeling good as well. Go us!\\n', 'We discuss solutions to anger here: what do you think you can do to fix the situation?\\n', \"Chat with me here http://stinto.net/68xa5 We will spend the NYE together. It's a private chat with /r/depression\\n\", \"I'm sorry.\\n\", 'I felt you did the right thing IMO. Its hard for me to believe she made a bunch of posts about her depression/anxiety just for the world to just sit back and see with a bag of popcorn. Putting your own struggles on blast on social media happens all the time, but if there’s an excessive amount of these posts or even just a few with serious undertone, it may warrant a check-in by anyone that has an ounce of concern. I get that she may be venting; keeping a journal or writing down how we’re feeling in a given moment is a great exercise to process and keep our emotional compromise in check, but if this reaches social media, she ought to know what kinda feedback she’ll be receiving. It makes me curious that she hates talking about it, yet she creates a bunch of struggle posts? Unless there was miscommunication in what was really meant(which can also happen a ton online), things aren’t really adding up and I really have help but think there may be a sprinkle of borderline personality in he mix.\\n', \"I know you want to help her, and loving her will help, but this also isn't yours to fix. I'm sorry if it feels like your responsibility, but you can't fix it for her, you can just be there\\n\", 'Not to sound like a druggie or anything but if you never have before i suggest you go to r/darknetmarkets, set your stuff up and acquire some mdma and try that. It\\'s been shown to help with depression before and from personal experience i can guarantee you it can work. You will see a side of life you didn\\'t even know existed. It\\'s really not that hard to do and if you\\'re planning on ending everything anyway, why not just devote one more day to this? You can do it before friday anyway. Downvote me away for suggesting drug \"abuse\" on such a serious issue, but if nothing else will help, this might. Have a great night everybody :)\\n', 'There is a nightmare subreddit\\n', \"Hey :) I think it's pretty normal for socially anxious people to be scared of online stuff too. The amount for me varies. Some days I don't want to speak to ANYONE in ANY form, and some days I actually want to be chatting online. Usually the easiest social interaction for me is IRC or instant messenger, because if I say something stupid it will disappear pretty quickly ;) I'm usually not happy posting online in things like forums or reddit, but some days I feel more confident and it's not as much of an issue (like today). I am glad you're reaching out. I know the start is always hardest. If you want to PM me to talk about anything, feel free! I've been living with social anxiety disorder for many years now and I can at least be an understanding listener. Take care of yourself and it's great to meet you.\\n\", \"Your friends have tried to include you in their group, but the people in the group have more resources than you do. It's not a bad thing, it's just a reality that you have to adjust to. Don't throw the friendships away because you aren't able to do all that they can do. Instead find more friends that have similar interests and capabilities as you have. Is it possible that the security you have with your parents is threatened? Friends can become a surrogate family, and now your 2nd family is threatening your security at school. This makes school easy to blame since you can't hurt its feelings like you could a person. Does the school have a counselor you could vent upon? Is it possible to have a heart to heart talk with your parents? Perhaps get counseling as a family. You also have the ability to post here. No diagnosis needed! You are in my prayers.\\n\", \"Yeah, hubby and I had a fight so I'm sitting on the couch with my dog and drinking a bottle of champagne by myself. Happy new year!\\n\", 'No joke, try recording yourself. Audio diaries or whatever. Just practice talking about what you want to say.\\n', \"He and his SO should be a bit more understanding about when people are drunk. Especially if they are going to serve alcohol. Neither one of them should be as dismissive as they are being. Honestly that's really assinine on their part. If he was actually a friend he would understand and explain to his SO. The thing about being anxiety ridden is we tend to attract overbearing narcissistic types, as those types like people they can step over the top of. From what you say your friend sounds like a douche. It's ok because they surface from time to time. Recognize them as assholes and not worth your time. It doesn't represent all people out there. Cutting yourself off from everyone is robbing yourself of finding those wonderful amazing people who you count as surrogate family. They understand you, care about you, and make dealing with the asshats worth it. You can't find them if you cut yourself off. It's nor worth it in the end. As a side note, you're better off without facebook. Just text people.\\n\", 'Yep, exactly the same for me\\n', \"It sounds as if these irrational thoughts are brought on by larger markets or places where crowds of people are to be expected. It's probably uncommon for you to visit such places, making it overwhelming. With time, it'll become easier. It doesn't sound as if your Anxiety is preventing you from leaving the house or anything so just keep trying. Best of luck.\\n\", 'Yes. I have an obsession with time. I plan my hours out every day, and when I don\\'t stick to it I feel extremely lost. When I\\'m at work I plan the rest of my evening, so I have a schedule like this: 5:30 - 6:30 - food 6:30 - 7:30 - piano 7:30 - 8:00 - shower 8:00 - 9:00 - TV etc. I\\'ve become so militant with time it\\'s become a curse. I even plan \"relaxation\" time, but feel guilty for not reading, when I\\'ve watched a movie instead. When I sleep, I constantly check my phone and realise that I have \"6 hours left\" or \"maybe I can get 3 more hours if I just stop thinking about it\". When it comes to waking up 1-2 hours before my alarm goes off, going back to sleep is impossible. The weekends are slightly easier because of a lie-in. I did have a few glorious hours of doing nothing productive during the winter break, and not berating myself for it. I guess that\\'s how most people function.\\n', \"Unless you've smoked marijuana I wouldn't try to argue from your point of view, I would stick to scientific research, economic arguments, and the like. There are tons of scientific articles out there. As to your question, I smoked heavily for about a year and it didn't help my social anxiety, I still had all the same feelings as I did normally around strangers. I enjoyed smoking but I did it alone or with very, very close friends. I've heard some people benefit greatly from smoking pot and it eases a lot of their anxieties, other people it makes them worse. It varies from person to person.\\n\", \"I've been working at my job for a year now and I still feel this way. Like I just put people off, it's disheartening.\\n\", \"Went out to a bar with a friend of mine. Had a good time. Was approached by a cute girl who asked if I would kiss her at midnight. I panicked and said no... Spent the rest of the night pretty disappointed in myself. Decided I'm going to make a bigger effort tackling my SA in the new year.\\n\", \"I just hung out with my loser friends. Had a great time, you're not alone :).\\n\", \"Suggested: 1) Read this article on the [five stages of recovery](http://pairadocks.blogspot.com/2015/12/the-five-stages-of-recovery.html) about the *other* party, seeing where they are among those five stages. 2) (erased because it didn't apply here) 3) Rather than just take him to a therapist, I would have him evaluated by a board-certified psychopharmacologist, because what you wrote suggests problems therapists are not always equipped to deal with. For such MDs, I suggest looking [here]( http://doctor.webmd.com/find-a-doctor/specialty/psychiatry). If or when hospitalization becomes an issue, I suggest looking [here](https://findtreatment.samhsa.gov/), and moreover if he is drinking hard, using street drugs or abusing prescription medications, because *if* he is, it's crucial that he be treated for that first and foremost. 4) If his depression proves to be as or more the result of having been [in-struct-ed](https://www.google.com/webhp?sourceid=chrome-instant&amp;ion=1&amp;espv=2&amp;ie=UTF-8#q=social%20constructionism), [programmed]( https://www.google.com/webhp?sourceid=chrome-instant&amp;ion=1&amp;espv=2&amp;ie=UTF-8#safe=off&amp;q=mind+programming), [conditioned](https://www.google.com/webhp?sourceid=chrome-instant&amp;ion=1&amp;espv=2&amp;ie=UTF-8#safe=off&amp;q=operant+classical+conditioning), [socialized](https://www.google.com/webhp?sourceid=chrome-instant&amp;ion=1&amp;espv=2&amp;ie=UTF-8#safe=off&amp;q=socialization+psychology) and/or [normalized](https://www.google.com/webhp?sourceid=chrome-instant&amp;ion=1&amp;espv=2&amp;ie=UTF-8#safe=off&amp;q=normalization+social+psychology) to beliefs, values, ideals, principles, convictions, rules, codes, regulations and requirements about how one should / must / ought / have to be that are grossly unrealistic, the better therapies for that will be the [CBTs](https://en.wikipedia.org/wiki/Cognitive_behavioral_therapy) including [REBT](https://en.wikipedia.org/wiki/Rational_emotive_behavior_therapy), collegiate [critical thinking](https://en.wikipedia.org/wiki/Critical_thinking), [schema therapy](https://www.google.com/webhp?sourceid=chrome-instant&amp;ion=1&amp;espv=2&amp;ie=UTF-8#safe=off&amp;q=schema+therapy), and [CPT]( https://en.wikipedia.org/wiki/Cognitive_processing_therapy), though he may respond well to and get a quick lift-off with [this](https://www.google.com/webhp?sourceid=chrome-instant&amp;ion=1&amp;espv=2&amp;ie=UTF-8#q=10+StEPs+of+Emotion+Processing) and [this](http://pairadocks.blogspot.com/2016/04/critical-thinking-and-logical-fallacies.html) *if* he is at stage three or higher on that list of five stages. But one does need to be motivated to use that empirical-observation-based method. In whatever event as regards therapists, I strongly suggest that you interview *them* as though they were applying for a job with *your* company, as well as using the *PT* website to look over which therapies any given therapist is certified to use.\\n\", \"Anger and depression can be similar in a lot of ways, oddly enough. We often find ourselves being angry with something else as an excuse not to be angry with ourselves over things we're unhappy with. For me, I knew that I was being selfish and cruel to other people on some level. But rather than admit that to myself, I would blame other people for failing to act in such a way that they made up for the shortcomings I had. Maybe that's what's happening with you. Maybe it isn't. I think that you've already taken a very important step-- you've figured out what it is that you're unhappy with. You want to be able to let stuff slide and to not get so angry. But implementing that is rough-- I understand. I can't tell you what your plan has to be, unfortunately, because everyone is different, and what worked for myself or others may not work for you. But I think it's important for you to look at what you're displeased with and come up with a plan for addressing it. Maybe you'll find that you're just treating the symptoms. That's ok. It doesn't mean that you've done anything wrong. It means that you're getting closer to figuring out what you're upset over. That's really quite valuable, even though it's also frustrating to not be finished. Getting yourself to a place you're happy with isn't quick or easy or painless. And I think you know that. But it *is* worth it. I can promise you that.\\n\", \"Man I don't have any advice but I can identify. Was 8 months unemployed and living at home and sometimes I just get so agitated I don't know what to do. It's like I want to scream or jump out of my skin or something but I can't. When I'm like that I can be really unkind to people. Like you I don't know what the problem is exactly but I know there is one and like you I can kind of control it. I just tell myself it's a temporary state and I'll feel better tomorrow or another time. Going out with friends helps the most for me and exercise is OK. Quit tobacco about a year ago and have drank a lot in the past so maybe it has something to do with that too.\\n\", \"have them do the talking. if they ask you a question respond and then turn it around on them. seem engaged in what they're telling you.\\n\", \"The hospital is a safe place where you can't hurt yourself, but if you go in for suicidal ideation, you won't really be receiving one-on-one therapy. You could be in anywhere from 3 to 7 days, but there are longer term inpatient programs designed for borderline personality patients at some facilities that do involve therapy. The best way to go about it is to have your doctor call around at local facilities and find out if a bed is available at a place with a good reputation. But, if you can just find a therapist on short notice who has experience with your diagnosis, this would be the best option. Do you have close friends or family members you can stay with or who can visit with you in the meantime? The point of finding therapy asap or going to the hospital, whichever you end up doing, is to stay physically safe. If you can accomplish this without 24/7 medical supervision, it's cheaper and might prevent you from dealing with the trauma of being in the hospital (also, you won't miss as much school/work). P.S. Antidepressants tend to make me ultra suicidal. Perhaps you could get your doctor to offer some alternatives and find out if the problem isn't the dosage but maybe the type of medication. Antipsychotics or mood stabilizers are sometimes prescribed to BPD patients to manage symptoms. Also, there is a subreddit /r/BPD where you can vent or talk to people who are in DBT. Stay safe!\\n\", \"No matter how hard it may seem, question yourself as to whether or not the action is warranted. I've broken my fair share of house-hold items but overtime I have reduced my fits drastically. I attribute this to being self-aware, identifying the problem, and from there questioning whether or not my actions/reactions are justified. ProTip: 9 out of 10 times - breaking shit accomplishes nothing.\\n\", \"I've had a FB for a number of years and at one time i had a couple hundred friends on there. Most of them were people I knew in school, but I only talked to a few of them. Eventually I decided since I never talked to 99% of my friends on there I just deleted all of them except relatives and a few friends. I also never had any pictures of myself, and have never really posted anything. I think its nice to have for messaging though.\\n\", \"I wish I did drugs in highschool and didn't get into a decent college. Than I'd have an excuse for being unhappy. Now I'm just pissed at the world\\n\", 'Same for me. I think the cause is shame. My mom was really weird about media of all kinds. For example, I\\'d be sitting at my computer, and the TV would be on. She would always say \"what are you watching? In a very critical way. She\\'d do it with all types of content. I just recently realized that I view a lot of things out side of myself as being a reflection of me. For example, if music is playing (mine or other peoples\\') I\\'ll feel like it\\'s my responsibility. I\\'ll feel the threat of shame or punishment by others if something weird happens. Especially sexual content. It\\'s a really strange thing to think I\\'m at fault for all the random content out there. My mom unloaded her shame on to me. And I think this is how the cycle continues. If you\\'re a parent, and something on TV triggers shame in you, you\\'ll unload it onto the child. Have you ever felt like you were in trouble for simply being in earshot of certain content? I don\\'t think parents get how children easily interpret things as being their fault.\\n', 'Same, from the UK and alone on New Years. A happy new year to you and I hope this new year will be better for you :D\\n', 'Super project.\\n', \"Sitting by myself while my roommates have a great time with their plethora of friends and boyfriend. Cried a little and I don't feel like intruding on any of their fun. Who am I to butt in. This time last year I was making an awful choice to betray someone and karma got me as I sit here all alone thinking about how I've treated people and put myself in this lonely situation. Too anxious and awkward to go out... so sitting and watching Netflix with beer...thinking about whether or not I'll always be alone like this. God I hate the holidays and I can't wait for this to be over.\\n\", 'My problem is that I overthink the call, and what I am going to say. I have found that it is best to just pick up the phone and do it. When I worked retail doing specialty sales, I got better because it was all part of the job. They were my customers, and I had to complete the project. Xanax helps too, when I am insured and can get it.\\n', \"I go through something similiar almost daily. I'll look in the mirror and think I'm ugly and old. Then I'll look later or the next day and think I look good and youthful. It's scary because I don't know what is real and what my delusions.\\n\", 'Maybe she had an \"accident\"\\n', \"You're human and a human teen at that. Desiring physical contact is part of being human. :) My 16 yr. old son is going through this as well. I'm no professional, but I'm sure what you're feeling is perfectly normal. Maybe you'll meet someone soon, who knows? Either way, I wish you well. :)\\n\", 'When I\\'m feeling low and useless, I sometimes like to come to /r/depression, read some posts, and try and help someone who needs something I can provide. I\\'m a giver, rarely a taker, but what kills me is what little I can give others who need something. I come here, and just feel more useless about how little I relate to the causes of suffering here. My life is normal, I haven\\'t lost anyone, or had this mental disorder from an incredibly young age. I think this post is the most impactful thing I\\'ve read in a long time. I find myself very similar to you, 22, single, alone, college undergrad. I personally went into mathematics, but that\\'s another story. I too think about other dimensions, similar to string theory, but more focusing on the infinite different paths my life could have taken and their respective probablities. What if I left home 5 minutes later? What if I asked her out? What if I barely avoided death? Are my alternate selves fine? I never once thought to relate this thought pattern of mine to 5D, and respectively, variations of time to 4D (assuming that was what you meant). I didn\\'t think of how time is a constant variable in our 3D, while in 2D, the Z-axis is the constant. Everytime I have these kinds of thoughts, I\\'m going to remember back to this tidbit of information, and consequently, I\\'ll remember you. I also tried to fling myself from a building. To be fair, I was more in the planning stage, but I was making efforts to get everything in order. I was inspecting all the buildings on my campus, late at night, and seeing which might be high enough to kill me, and out of those, which had any doors that might be unlocked. Suddenly, I see a campus cop driving towards me. Fuck. I\\'ve got to come up with something quick. Before I could say anything, he just looks at me and says \"wanna see a snake?\" He then takes out a clear Starbucks cup with a tiny green snake in it. We then spent the next 15 minutes idly chatting about snakes and the weather and what not. Complete nonsense. But I felt much better after that. Went home with a smile on my face. You shared with us, hope you didn\\'t mind me sharing with you.\\n', \"It's not immediate but she could get started with a psychotherapist and then her need to meet with someone on an hour's notice may subside, and if it hasn't by the first time she needs someone right away, she'd have that person--in her town--to call. Getting through loss typically takes more of a sustained effort, especially as it's been, in your words, a long journey. It sounds like you really care about her, and having professional help might be a good way to support her.\\n\", 'I always assume it’s negative. Even if they say something positive it still gets me feeling all messed up.\\n', \"&gt;I'm shy as hell with grills. Tey're not that difficult to handle. Just be confident in that if you understandnone, you'll likely understand how all of them work ;) ==== Anyway, in all seriousness, stop thinking about the future, that stresses you. Stop thinking about being like others, it is better if you focus on being you. If thinking about a destiny is making you feel bad then stop thinking about that. You are the only one who decides what you are going to do, but sometimes circumstances won't allow you to do it (say you decide you'll be the president, even though you may try as hard as you can maybe corruption or whatever would make you fail). As you grow up you'll get more and more experience with each desicion you take, don't worry too much, it's all part of living. You are not wasting anything because you want to learn, you are here asking for help. It's ok to do it, and it's also ok to talk to your parents about your fears, doubts and problems. Each person will tell you something different because we've all had different experiences. Don't be afraid to ask and stop thinking that you are doing something wrong, it's life, most of us have no idea what we're doing. :)\\n\", \"I'm no therapist but I'd recommend you look into counseling for this problem. By yourself, maybe recognize your triggers - when it starts to build - and try different tactics to deal with the root cause of the anger, avoid the blow up and write down how they worked in a kind of journal. Example: 1/22/2014 got angry about becky taking my hat. googled tips for dealing with anger and did #3, sticking grapes up my nose. it helped. Sort of just documenting it to yourself so you can learn how you work. That way you'd either have it under control or if you still dont have it entirely under control later on, you have more data to work with when you do see a therapist and maybe the therapist would see patterns in the journal you didnt.\\n\", \"I've been taking it for a year, and it does seem to help. I don't notice it myself as much but my husband tells me what a difference it makes. I'm taking 150 mg. I'll agree that it killed my sex drive at first, but honestly my anxiety did that before anyway, and now it's not so bad. Maybe your body just needs to get used to it. I think the only other negative side effect I have was sleeplessness, but if I take it in the morning it's not a problem.\\n\", 'Screw them. You are so much better than them in every way. Raise your head and realize that you are above them. I promise you, you are worth so much more. And even how cliché it sounds, things will get better.\\n', \"Don't think much about friends, you don't need them. I am a 18 years old boy, I have no brothers, no cousins, and no friends. I don't talk to anyone pretty much, I hang out with bunch of people in my school, but I can't call them friends. At first I was upset and I always was thinking why I don't have real friends or brothers or even cousins, I don't have anyone to share my secrets with... hell.. I don't even tell anything to my parents, nothing at all... I just can't do it, they judge! and I don't feel comfortable telling them anything, believe it or not, I want to get out of this house ASAP! I know it's frustrating to be alone, to have no one to talk to.. no one to share your secrets with, your sadness, your happiness. but eventually you will get used to it, things that bother you? they are going to bother you for a while, but they'll eventually die inside you, you will become stronger. Being alone has it's perks, I have knowledge about almost everything, computers, websites, programming languages, servers, games, video editing, photo editing, etc... If you need someone to talk to, you can talk to someone over the internet, I feel its safer this way, no one will ever know your secret. (Sorry for my English, It's not my first language)\\n\", \"I wish I had an answer for you. But you do have my sympathy. My boyfriend is the same way. His friends are all the people we went to high school with. Mostly people I didn't get along with or didn't know. They're pretty crude and just moronic. Even he has said he wants to move on and get new friends but still he sees them and wants me to see them too. I know how you feel.\\n\", \"Most useless advice I have seen. It doesn't say anything. Try www.panicend.com if your serious about preventing panic attacks.\\n\", 'Yup I feel like that way some times. I have no problem making friends it’s just there are days where I’m not myself and I feel like I’m a robot haha __ and other days I feel confident as hell. I don’t know if people notice this but it’s annoying.\\n', \"Yup, message me anytime. I've had amazingly terrible anxiety for the last 13 years - I'm sure we have at least anxiety in common :) Sorry about the depression and the lack of friends. Glad to help how I can.\\n\", 'if they exist\\n', \"So what haven't you tried yet in life? You should try that in 2017.\\n\", \"Im sorry that happened. I just wanted to let you know that Christmas/new years birthdays suck, and you're not alone. My birthday is Dec. 23rd. I've invited countless people over the years and I'm lucky if I even see one person. I actually just turned 21, and there was no one to celebrate with. It sucks, but its one day a year that we are focusing on ourselves for sure. If no on will focus on you then make sure you're focusing on you. I would be lying if I said I wasn't upset on my birthday, but it passed. Feel free to message me anytime if you wanna talk.\\n\", 'Really sorry to hear about work! I hope this video cheers you up! https://www.youtube.com/watch?v=L8c3Tn8Gxvw\\n', \"Yes, I think most sufferers of SA have dealt with ruminations on bad social experiences and what they could have done differently, Fuck I used to spend hours replaying the silliest things. Anyway, fact is its over. You can't get that moment back to change it. So you can either sit there, and berate yourself and tell yourself everyone will hate you or think you're odd now. Or you can say, ok, that wasn't great - Fuck there's no point trying to hide that. But freindships, relationships of all kind are a journey, a path. Sure you've stumbled at the first hurdle. Which is exactly why you should now pick yourself up, look at yourself in the mirrior, know that you're not the weired guy, and go back to the next class and prove it. But listen, you can either believe the words of an internet stranger or not, and I know it's hard when you suffer from SA, but trust me - shit like that really doesn't matter. Sure first impressions count, but the people you want to like you, and be your friends aren't going to hate on you for being nervous in a task like that, just have to make sure you're cool if you talk to them personally. Anyway, don't beat yourself up about it. If you'd lived the life I have, you'd never stop ruminating on the stupid and embarrassing things you've done. Comes a point thoughwhere you've got to stop looking in the rear view mirror, and vow to be who youwant to be, and change what you want to change in the now.\\n\", 'From what I have read, typical antidepressants (SSRIs, plus Wellbutrin) do not affect intelligence. But prolonged use of anti anxiety meds like benzos (Ativan xanax etc) are proven to cause long term brain damage and impaired cognitive functioning. Google for the details, and decide if it is worth it for you.\\n', \"The one thing I've learned in my own life is understand the huge difference in physical loneliness and mental loneliness - really it's all within oneself. This is only my opinion and I am not a professional, but: we feel alone because we cannot voice to anyone how we feel or what we're experiencing at any given moment - I've found this to be regardless of the physical presence. We want people to understand, and comprehend; to have gone through what we have, or maybe be able to echo the same level of emotions (whether happy, sad, or angry). It's going to sound cliche as hell but you need to learn to befriend yourself. It's going to start with disconnecting and really listening to yourself instead of avoiding it (by watching shows, consuming substances, ingesting alcoholic beverages). There are a ton of ways people avoid themselves as people, and the biggest way I've found to face it is to simply embrace myself even when I am disappointed with the negative emotions and thoughts I have. It's okay to be alone and with yourself. Support is awesome, but if you refuse to walk, what was the point of someone helping you up? Learn to be on your own and the right people will eventually come to you. Instant gratification only yields temporary results.\\n\", \"You have every reason to be angry, but surely it can only get better? One thing I've learned in the past is that a negative perspective gets me nowhere. Try to look at things in at positive light and believe in yourself. I know it's harder than it sounds but it's something to work on.\\n\", 'What were they?\\n', 'I was born with an ear deformity and it is the source of my anxiety but all I can tell you is that you need to stop caring what people think. I just decided to own it and not let it bother me and I can tell you that no negative thing has come out of it.\\n', '\"I have always known that I would take this road. But yesterday, I did not know that it would be today.\" Charles Dudley Warner So long op. I hope that January 1 is a peaceful day for you.\\n', 'The cashier does not care. At all. All they care about is getting rid of you as quickly as possible so they can take the next person.\\n', 'yay\\n', 'Honestly, I think you did everything fine, I\\'m in the same boat at 24 and I was in a -somewhat- similar situation; I was talking with some coworkers (one being my crush) and at one point the conversation turned into past relationships, when the attention was on me I flat out said I\\'ve never had a girlfriend before. They gave me weird looks and my crush re-blurted my statement, \"you\\'ve never had a girlfriend?!\" I was just being honest and in situations like this it really makes me proud of my best quality, and maybe a month or two later we went out! Not really a date so much but we both had fun. Of course I would maybe wait or never bring it up if you don\\'t have/want to, but you were sort of pinned into an answer. In short I believe honesty is one of the best traits you can have, and really claiming it to be who you are is a great feeling!\\n', 'You have a few options. You could ask your prescriber to explain, in detail, the rationale for the choice in medication. The bottom line here is that if you don’t agree with the diagnosis, you aren’t going to trust the method of treatment. So the other option is to get a second opinion.\\n', \"Not sure why your work would respond that way, but therapy and medical records are confidential. Even if they did somehow find out, it would be illegal for them to fire you for it. Especially when it's not affecting your job and they know that you have the money to hire a good lawyer. I would try seeing a psychologist. Learn some techniques to calm yourself too. See if that helps. To me it sounds like you're putting a lot of pressure on yourself. If you can, try to remember yourself being social and successful in other situations. Then try to apply that same attitude, state of mind..etc to your wife's family. You already know that you can be social. Now you just have to apply it to this one situation. What would help with that? * tell yourself that your wife loves you and she chose to be with you. That's huge. And it doesn't matter what her family thinks. * practice meditation, breathing, mindfulness...etc. So that you learn how to be calm and present. * Tell yourself that quiet is okay. You don't have to talk. It's enough to just be there in the moment. Try to look at some trees, or wrap your arm around your wife. * take some breaks. Go to the bathroom. Go outside. Plan an activity, so that you don't have to talk. You could offer to make a big dinner for everyone. Having something where you're confident in your actions and let your brain focus on that.\\n\", \"Remember, when it comes to friendships and relationships, quality over quantity. I would focus on your close friend and fixing that first. Try to open a dialogue with them. It's hard, but if it is a close friend they will be understanding and try to help.\\n\", \"Its allright to vent. Here on reddit you can always be yourself and rent because we understand what you're going through and a lot of us have even been there\\n\", \"Reading the comments I though they were written by an AI lol. I'm not sure if comments that nice are even allowed on the internet.\\n\", \"Have you ever counted someone else's birthday congratulations count? Because I haven't. That said I removed my birthday from my Facebook because I think it is quite a bit spammy.\\n\", 'What kind of jobs have you searched for/applied to?\\n', \"I know this isn't an indoor hobby, but it's the hobby that helps me through dark times is motorcycling. Sorry if it's not much help, but this is the hobby that saved me for the most part. I just wanted to tell you what worked for me.\\n\", 'Hey, we never know.\\n', 'Feel much the same way, always on that verge of breaking down, even when I should be happy, or at least pretend to be.\\n', \"It's good that you have at least taken action and moved out, people like that just bring you down in life.\\n\", 'I always get my hopes up that things will be better. But then quickly come back down to reality\\n', 'Think of one sentence to get it out there. They\\'ll ask, \"what can I do for you today?\" And you\\'ll say, \"I think I have an anxiety problem.\" Sooooooo many people have this problem, the doctor will just see you like any other patient. They\\'ll think, \"oh another person with anxiety, I want to help.\" You\\'re in a safe place to talk about these things. Be honest, and proud of yourself for getting help!\\n', 'Does anyone else keep confusing this sub and r/introvert with r/me_irl\\n', \"First off I just want to say sorry for your loss. I'm about your age and I couldn't imagine losing a parent this early on in life. As people have said down below, talk to a therapist/psychologist! And if not that talk to somebody on here! Talking to somebody I met in this very subreddit has been a great experience and has helped me a lot. Other than that, just take things one step at a time. Start doing little things like ordering the food instead of your sister and just building up confidence. Good luck, and feel free to PM me!\\n\", 'Family activities are a great opportunity to bond.\\n', '1) Yup, I find it quite hard to even speak to my mother and when I do talk to her, it tends to be short answers. 2) Noone really, I just find it most comfortable when noone talks to me, though when someone is kind to me I end up feeling really guilty since I can never really bring myself to say \"thank you\". 3) Very self-concious, mainly about my voice since it\\'s quite deep, I mumble and it;s just generally kinda hard to understand unless I talk fairly loudly - because of this I end up shaking, sweating, blushing and getting a very shaky voice. 4) Dunno really, I\\'m not really too interesting. 5) Got bullied frequently as a kid because I would stutter and wasn\\'t able to pronounce certain letters / words. Plus I was constantly ignored in school and never really felt connected to anyone I did speak to. 6) I\\'m kind of sensitive to bright lights, but it\\'s not really a big deal. 7) Short, one-on-one conversations with a stranger tend to not be *too* bad. 8) Tried talking to it about my mum, but she just doesn\\'t seem to understand how bad it is, and to my few friends but there\\'s not a whole lot they can do. I am seeing a psychiatrist just now though. 9) Yup, though I think that\\'s more due to depression. I find it pretty hard to really enjoy anything anymore and I\\'m constantly tired. It\\'s been years since I last had a good night\\'s sleep. 10) Internet / gaming I guess. 11) Wasn\\'t too big of a deal until about 4 years ago when everything just began to get too much for me. I was getting older and realising just how much my anxiety could hold me back from things such as a successful job, losing contact with friends and having the only girl I cared about reject me - those negative thoughts just built up more and more and made me less willing to socialise with people. 12) Sort of, but not for the social aspect, mainly just because I\\'m terrible with directions and get scared I\\'ll end up becoming lost. 13) Well I\\'d honestly rather not talk to people at all, but sadly that\\'s not something I\\'d be able to do, I\\'m only really wanting to get over this because teamwork is heavily required for the career hope to get involved in. I\\'m a male that turned 18 a couple weeks ago.\\n', \"Depends on the alters. It's usually more difficult, at least from my understanding, with a Jekyl and Hyde situation.\\n\", \"Thank you for posting tihs and I agree with the other comment about expectations. I simply have unreasonable expectations to uphold for myself so it's so difficult to not have them for others. I jus hate my mind.\\n\", \"Kudos for wanting to change, man! Deciding that you want to make changes is the first and one of the toughest steps! I don't know if you're looking for advice, but here's some unsolicited advice anyway: make a plan for how to deal with the anger. It doesn't have to be the stereotypical counting to ten (though that does work for some people). It can be whatever works for you. My father found that he did better if he asked himself what he wanted to have happen next. Mine was to ask myself what the best possible outcome was, and how I could make that best outcome happen. These may work for you, you may have to forge your own path. Regardless-- good on you for deciding to head down it.\\n\", \"I just try to be honest and realistic with myself. Most everything I said to myself with low-self esteem was often inaccurate and a gross underestimation of my abilities. People give us enough bullshit in life, so I think it's important to look yourself in the mirror and cut the crap. If I'm not doing so good in life, that's something I have to work on. But it'd be dishonest to go further than what's actually the case.\\n\", 'Very much. I still feel like a child when i talk to people even slightly older than me or in a higher position than me. It makes it hard to land good jobs even though Im talented.\\n', '4 beers in. Sis, wife and my two kids sleeping on the couch. Only 945 here, so alone yet comforted in a new day will come in a few hours and I can say I made it one more year.\\n', \"I want to start with saying, unless you're qualified you shouldn't be attaching diagnosis labels to your friend. I appreciate that you have good intentions but doing so can cause a lot more issues than it will ever resolve. I say this because depression can cause the symptoms that you're attributing to ADD/ADHD. I think the most important thing for your friend is for her to work on her communication skills. There is a type of therapy called mentalization based therapy which involves a person thinking about their actions and how those actions relate to their emotional state. You can read more about MBT here: http://psychcentral.com/lib/mentalization-based-therapy-mbt/ This is a treatment used for those with Borderline Personality Disorder, although I think that it can be helpful for a wide range of social issues. Perhaps it's not the right thing for your friend to necessarily attend an MBT group, but it could be helpful for her to read about the therapy and to try and apply it in her day to day life. Inevitably, if someone is 'acting out', it will distance them from others. The only thing you can do as a friend is to stick around and be there for her. You can't control the actions of others as much as anyone else. I don't think this is selfish but it is probably due to a lack of insight into your friend's position. It seems clear to me that she's unable to overcome her issues alone, the worst thing that can happen for her at this point is for her support network to break down. This will only compound her current issues. So, in summary, try to help your friend directly by trying to get her to think about her own emotional state and her triggers and maybe you can work together to figure out some small solutions. Indirectly, you can help her by educating those around her and making sure that her support network knows how valuable each and every one of them are to her, even if she doesn't realise it. To change the way a person sees themselves, the world around them and their behaviour takes a very long time and a lot of hard work, these problems won't fix themselves over night. However, with the right care and support you should be able to help.\\n\", \"Daaaw that's so great. I'd be awesome actually. But you didn't invite me, so, shame on you, OP.\\n\", 'Sad to admit that it crossed my mind, too\\n', 'If these thoughts are bothering you, they are worth getting help for because who knows what \"normal\" is. However, if it\\'s causing you distress it\\'s worth getting help. A doctor or therapist will help you conquer these thoughts.\\n', \"Just waiting. That's a beautiful way to put it. Mind if I ask what makes the new year seem so hopeless?\\n\", 'As a result of people at Uni (this was my first semester) constantly asking me for it, I recently started using my old account that I\\'d left derelict for years. One of the first people to add me after I\\'d reopened it (a girl, which made me feel even worse) upon looking at my profile commented how \"boring\" I seemed cause there was nothing on there. I ended up spending a bit of time setting up my profile (privacy settings, a decent picture, where I\\'m going to school etc.) and for a little while there I kinda checked it constantly. This, as you can imagine, really wasn\\'t the best move and decreased my self-esteem even more cause of my lacking social life. Needless to say, I tried my best to get out of that habit and instead tend to check in every week or so, since I\\'ve met a couple of people who would occasionally invite me to social events. Maybe use it like I do, OP.\\n', \"I feel ya man, 2013 was awful for me too. I'm determined to make 2014 amazing!\\n\", \"Actually yes, a while ago I had just moved high schools and was going through the whole new guy thing. I had pretty crippling SA at the time, but I managed to talk to some dude in my class I thought was pretty cool and he invited me to join him with some of his other friends at lunch, I never showed up and instead hung around with a bunch of sport jerks, instead. A real bunch of boring, slightly jerkish average guys. I tried to figure out why I didn't just go hang out with that other crowd. and i realised it come down to self worth. I didn't think myself worthy of hanging with that group. Instead il hang with these jerks that I don't care about, because even if our friendship fails, it's not like I lost anything valuable right? I don't have to deal with any anxiety with these guys because they are on my level, the level I deserve. Anyway, that's my thinking about what can cause this: Ones self worth can come into play. I have stopped this kind of thinking with CBD, recognising untrue thoughts and perception about myself, and changing them, I think I'm a lot freer socially now.\\n\", \"Ask your doctor to rule out H. Pylori. Something about it interacting with the stomach lining creating ammonia, which then activates anxiety pathways in the brain. A long shot, but I have seen extreme anxiety come along with the H. Pylori. If that's the root cause, it's great because it's an easy fix.\\n\", 'Good luck!\\n', 'Wow, that was amazingly well done. I wonder if the writers had any experience with SA to put it into words so well.\\n', 'Maybe you should see a doc to rule out anything else. You must be perfectly honest there.\\n', \"Try going out with a different kind of women, you must be dating the same kind of women over and over again. Sometimes we are attracted to the things that are bad for us, the only way to change this is to try a different kind of company and it sometimes requires some changing in ourselves too. If you are a hot-headed person, no one sticks around that much with a hot-headed person. (Personal experience) If you are not a hot-headed person, then I'm happy for you.\\n\", \"I feel the same. I don't think I'm ever gonna change tbh.\\n\", 'Hmm, I just started taking Zoloft...I wonder if Celexa would have been a better choice.\\n', 'You’re an inspiration! Have fun! I find going out to places where I don’t know anyone doesn’t really activate my social anxiety as much, because people have no reason to have expectations about me. It’s really enjoyable. Around people I know though? Eg family? Lord, the “real” me just gets shoved in a drawer. To whomever might read this, you rock! Yeah, you!\\n', 'I feel like this is one of the few times Reddit\\'s favorite line of \"didn\\'t matter; had sex\" is actually appropriate. All I can say is, that\\'s great. Congratulations.\\n', \"I know these thoughts. I know how much they hurt. What brought me peace was this - life exists here. From the harshest environments to the most docile, life exists. It doesn't do this because it's easy, or because it has a purpose. It exists because it CAN. There is opportunity and there doesn't need to be a reason. Yes, things lead to pain. But they lead to happiness too. Sometimes the two aren't equal. You're here because you can be :) inside that is infinite possibilty... inside that is hope. Not everything will happen, but anything CAN happen. If you want to talk more, I'm here :)\\n\", \"I have the same problem. I can talk to my friends, but my parrents write off what I'm saying quite often. My sister has 3 diagnoses on psychological issues, and my other sister is going nowhere (mainly because of her own stupidity) They rely on me to be the sucessfull one, often telling me that I have no reason for being sad, and I have everything, while my sisters have nothing. No one really listened when I lost my to-be wife, and after that, things just fucked me over all of the time. I hope that you know someone to talk with, because I've never had much luck explaining it to mine\\n\", \"High school sucks. It is a terrible place. I had friends in HS but I never hung out with them. I pretty much went to school, came home, went to work, and then slept. That was my sophmore-senior year. Senior year I became really good friends with my coworkers and we are still good friends now. I never went to prom or any silly dances. Sure I felt a little mad at myself at the time for not going, but I couldn't care less now. If you really want to not be an outsider, you need to change what you're doing. Going to school and not talking to anyone is not going to get you anywhere. Seriously talk to some people, eventually you'll become friends. I think you should get a job that requires you to talk to people and do that. That'll help you out way more than any friends from high school will, and to me it forces you to fix the problem. Making friends is optional, but if you're at work, you are expected to talk to them or you get fired.\\n\", 'I like that even though I find it hard to connect with anyone on a certain level, I still have a lot of emotion and compassion for others\\n', 'I can completely relate. Like when people say \"as long as you\\'re with the right person you can get lost in the conversation and talk for hours\" or something along those lines I just don\\'t feel that way at all. I feel like I constantly need to be actively thinking about how to continue the conversation and what to say next because if I don\\'t then it will immediately die. But I\\'m just not capable of doing it. I just can\\'t continuously think up topics to talk about and seamlessly transition into the next thing. Fuck, man.\\n', \"Hey man I'm down to talk.\\n\", \"I'm right there with you, just found this sub.\\n\", \"Sounds like you're dealing with social anxiety and perhaps some agoraphobia. This can lead to depression. Anxiety and depression are on a kind of a slope for most people.\\n\", 'I think everybody has the ability to snap on confidence. You have to channel your energy into it.\\n', 'Even just saying something in front of a couple people I might not know that well, I go soooo red. My ears too! I wish there was a way to control it or not happen because it is so embarrassing.\\n', 'Can you possibly call your PCP and try to get into something called \"Partial Hospitalization?\" It is meant for people that aren\\'t a danger to themselves or others (i.e. they don\\'t really belong in the ER or inpatient area) but need more stabilization than what a normal counseling practice can provide. I essentially went for 10 days in a row, from 9:30am-3:15pm and learned some coping skills and had medication management. It\\'s more like a boot camp.\\n', \"What kind of job will you be doing? Project programming, tool programming, IT, bugfix, databases management, ...? Depending on what your tasks are, your involvement with other people vary. I'm a software engineering student currently doing and internship in a big name company. I'm mostly doi g programming on the main project to further that peoject, and I also work a lot with another department of peogrammers specialized in datamining on the user's interacrions with our project. I implement stuff that sends data to their databases. I also do bugfixing like every other programmer in my department. My point is, I was scared shitless to do interviews, and when I entered the company for my first 2 weeks. I had no prior programming job experience, so this was pretty much like stepping on the unknown. And I adapted. It is scary at first, because you don't know anybody, you don't know what you're doing, you don't know if you're doing your job properly or if you are closing tasks fast enough. I know that for the first 2 months, I was scared that I wasn't doing a good enough job. My main contact throughout the first month was my internship supervisor, who was the lead for my team of programmers. I would report to him, I would get my tasks from him, and I would go to him for help. He introduced me to other people from various departments sometimes because they had the info I needed. He helped me fit in. He helped me know who to go to when I needed help from a specific department. After a month, I was pretty much ok with asking other people directly for help. I even started talking a lot more to the collegues that were sitting on the desks around me. After two months, I had and internship meeting with my school evaluator and my supervisor. And I learn that I was doing a great job, and that I adapted to and learned the project better than most interns they had in the past. However, he said that I was reluctant to go directly to other people for help and that I needed to broaden my circle of contacts. So overall, I wasn't doing so bad at all. I'm saying all this because I was in your shoes. Scared of interactions, scared of judgement from co-workers. And overall, I discovered that its not that bad. Its harder at first simply because you don't know anyone and you have to learn the project, and you feel like you don't know what your doing or that you're not doing it good enough. Truth is, you're an intern. You're not expected to know everything. You're not expected to adapt as fast as someone who has been in the industry for years. As for relationship, everything will come in time. If you're scared of talking to other people and need help with your tasks, go to your supervisor or your lead. Talk to him. He'll guide you to whom you need to talk to. He's there to help you. He'll introduce you to the right people. Good luck! I hope you enjoy yourself!\\n\", \"Good for you! I wish I could do the same but my SA is too severe, plus I don't know where I could go alone without money.\\n\", 'I love calling a cab, normally the driver is really nice and we have an entertaining conversation. Hope you find your girl and cheers !\\n', \"SSRIs help with fear and anxiety they don't change how you feel; they help you get perspective and manage your feelings. Lots of love stories start with a whirlwind. All relationships adapt with time. To me it sounds like you are saying that he only loves you because he isn't on his meds. As a long term off and on med taker that doesn't make sense to me. Pills can tame the rollercoaster of emotion but they don't suddenly change what kind of movie you like or the people you put your time and energy into.\\n\", 'Congratulations\\n', \"Today I read this book..https://www.amazon.com/Dance-Anger-Changing-Patterns-Relationships/dp/0062319043 by Harriet Lerner..it's a nice little book about anger issues..you can try it if you like.. also try this breathing exercise https://m.youtube.com/watch?v=QOgKutspaNY it really calmed me down...I hope it will help a little...\\n\", 'Wow. The feels.\\n', 'would you rather have the feedback here or amazon?\\n', 'Potential trigger alert.\\n', 'Wonderfully said\\n', \"Just be like ''Hi guys :)) What are we talking about?''\\n\", \"I saw people with way less anxiety and less problems going to therapists. That's when I said enough is enough and I should go too.\\n\", 'Same.\\n', 'Well first think you really need to concentrate on your addiction, I\\'ve seen what that can do to people, but I think you know that so no need to hammer that. As for your mom I would say go one of two routes or both, first being have her sit in with your therapist or whoever you\\'re seeing and have him explain things to her. Option two wait it out. One of the most frustraiting things with mental illness is that time sometimes does alot of healling but its hard to see it happen. And as for your mom it might take a while for her to get older and mature to realize just how much her behavour effected you and your sister. At the same time you might want to move out when you can, if you\\'re going to college thats good but if not than you should try and maybe find some sort of community living or a roomate whos a good influence because you dont need to let your addiction control you. One thing thats important to know is that envermental factors such as your mother have a strong effect on how bad your symtoms become, like a dimmer swich the more you turn it the brighter the light same thing applies to stress factors. But as for \"getting over it\" and shit like that dont listen you can help urself but thats only when others can help give you power, and sometimes meds. You have a limited control of this and you cant force yourself to stop feeling depressed no matter who you are. Also if you every find that you\\'re mom or anyone you\\'re talking to about this is giving you advice using their experiance stop them and just try and tell them you just need.someone to listen to you cause doing that can actually hurt just as much as them not being there. Lastly (sorry for the long rant) but try and change your thinking, such as if you\\'re ever harsh on yourself start talking to yourself like you would someone else. Would you tell them all the hurtful things you tell yourself? Its also ok to help yourself and be there for you, idk if that makes sense but I visualize me consoling my younger self and just being there, and tell myself its ok to grieve over whatever is hurting me and just trying to help me. Little things like that can make a big difference, but most importantly many people suffer from mental illness so you are not alone, and whenever it gets bad try and keep fighting, it may be bad sometimes, but if you keep going and seeking help you will win, you just need to keep trying to help you and if you dont believe me I understand but you just gotta keep going and one day you\\'ll wake up and things will be a bit clearer. Hope that helps a bit, bit of a read lol, if you have any more questions or need to talk just reply and hopefully it wont be as long.\\n', \"Your title really touched me:( I experience similar feelings in my day to day life, I often think how much easier life would be for my family if I wasn't here with my major depressed self. I used to think about all the different ways I could die that wouldn't cause harm to anyone else. Then some days will feel better ,then I go back to feeling like dying. It's so hard to keep going. But it's so worth it to keep waiting for the dark thoughts to pass. Yes they come back but I've learned that depression is like trying to turn the tides. You can't. You have to find something to hold on to till the worst passes. I have a service dog. She hasn't cured me but she has saved me. Her name is Colleen and she's my hero:) There's a lot of different treatments for depression. Medication and therapy didn't work for me and only you can decide what to do. Colleen and I know you can make it through this tough time. You can do it!\\n\", 'Read Steve Biko.\\n', \"I'm in the opposite boat. I'm spending mine with an ex and regretting more and more as the night goes.\\n\", 'Medication is there to help, there is no shame in taking it if needed and I’m sure your parents and brother will agree. Mental health is the single most important thing to be aware of and I don’t know why there’s such a stigma but we have to get past it. I’m a 39 y.o. mom of a 14 and 8 year old, I’ve got ADHD, anxiety and went through depression and have taken medication for all which has helped me live a healthy and happy life. Take a deep breath and talk to your parents, this can make a huge difference for you!\\n', \"So do you think people, who dont know you at all are better judgement than your psychiatrist? i dont think so. see another psychiatrist to get second opinion or just accept what he is saying. it happens to met too when someone laugh or saying something bad and i think it's about me. i even remember particular stories that i found out it wasn't true and thats all in my mind. i don't have paranoia.\\n\", \"I challenge you to ask 10 women out before trying to kill yourself. Not just ask them for a date, for their numbers first and go from there. I challenge you to dress the best that you can at any moment. I challenge you to get a haircut you never gotten. Come back after that and let's see what happens.\\n\", 'Sounds like social anxiety mate. If you dont want to go to the doctors theres a book called overcoming social anxiety and shyness by gillian butler. i mean im only half way through it myself and just got on to the overcoming it part. but i highly recommend it.\\n', \"I like how you have changed your way of thinking. I'm glad that you in your own way have taken control of your happiness again. However I tried and a lot of irrational thoughts stayed with me. Sometime it's not all about judgement from others bad negative past experiences. I hope you maintain this viewpoint.\\n\", 'Alcohol is fine imo. Use it for a while until dancing becomes a normal thing. Never do drugs tho.\\n', 'That is seriously cool website and a wonderful idea.\\n', \"The thing to remember about the stories you hear from patients at the psych hospital is that they're all coming from people who were experiencing the most painful times of their lives. Of course they're not going to favorable, because no one wants to be admitted. It's a place to intervene on crises. It seems cold and impersonal, but it's a short stint until the patient can move on to more independence. It is still the best place for people who are having suicidal ideation and psychotic breaks. I implore you to hit this head on with a brave face. It's not a forever-thing. It will not determine the outcome of your life. Go to your therapist tomorrow, tell him/her everything, take their advice, and get your shit back under control!\\n\", 'Nice work, I don\\'t think I could ever do this. I would be way too worried about nobody showing up, everybody seems so flaky these days and can\\'t just give an honest \"no\" to an invitation. You\\'re going to hurt my feeling a lot more if you flake out than if you just say no right away. I\\'m sure you\\'ll be fine though, I\\'m just overthinking it like we all do.\\n', 'Sounds like a normal 4 years of high school to me friend. Listen the best advice I can give you is to not give a Eff what others think or say about you and be passionate. Smile. Do that and things will line up and next thing you know your bonkers with a gal who shares your same passion or is drawn to yours.\\n', 'I hope you do manage to keep those suicidal thoughts under control; if they get the better of you, I hope you tell the social worker and the doctor as soon as you begin to notice. It sounds like a really tough deal that you have at the moment. Be careful with the medication and let the professionals know that you have taken more than you should. What is it that makes you so angry?\\n', \"Hi mate, well done for holding things together! If you want a particular therapy or response from your GP, please do not be shy to ask for it or consider changing surgeries. Some GPs are far more informed and referral statistics can differ a lot. It is easy to get stuck - self-diagnosis is never a good idea, and it is extremely difficult to escalate your treatment unless you are an immediate danger to the public or yourself. If you feel your treatment is not finished please keep pursuing it. Taking care of your family is laudable. If you're not 'OK' yourself, then how long will you be able/want to. Thunderhearts advice about 'MIND' is good. best of luck. EDIT - I need to take some of my own advice and change my GP - Ive just moved 3 miles and they'll boot me if they find out... eugh!\\n\", 'I’m glad that you are still alive. We’re all in this together. And I want you to keep pushing forward!\\n', \"I have underlying depression that I'm currently not treating because I'm 37 weeks pregnant. Add to that the fact that my boyfriend, the love of my life and the father of said baby, was hit by a car and killed 2 months ago, I'm pretty much at the end of my rope. I hope 2017 is better to you all. Unfortunately, I know that if anything this year will be even worse for me. First year without him. Trying to raise a baby alone. Crushing depression. Yay.\\n\", \"Oh yes, when I still lived at home (moved out 2.5 years ago to college) I always used to switch to my desktop or something else whenever some part of my family came into my room (beeing able to look directly at my screen from the door was one of my worst fears), I moved my desk to a darker spot so this wouldn't be the case. Guess my google queries or whatever I wrote in forums or just which videos I watched exposed some part of me / way of thinking / problems which I don't want anyone to know about.\\n\", 'Go travelling, have some intimacy with a girl, be happy\\n', 'Try to lose myself in reading, video games, or disc golf.\\n', 'You still have the certification from the course. Why cant you find another similar job? You are probably right to feel screwed over, but it wont do you any good to dwell on it.\\n', 'Are you only on wellbutrin? I was only put on wellbutrin to counteract the sexual side effects of Prozac.\\n', 'Yep, its really the worst day because you see that you wasted another year of life and the next one probably wont be better\\n', \"I used to go to a bar which had a karaoke event every Monday for half a year, it was fun! Both listening and singing. But I didn't sing alone (always had friends with me, we'd sing together), I guess singing alone (&amp; probably singing sober) would have caused a lot of anxiety too in me.\\n\", 'Same here. :(\\n', \"you know i actually took a speech class in person..but ended up only having to do 1 speech (thank god). i was pretty nervous but you know, i don't think the audience really cares whether or not you mess up...i mean sure you can mess up but even the best speakers mess up sometimes, too. that's pretty cool you can choose people to bring. i mean, i don't think it can be that bad if you are just giving it to your friends. they are there to support you!\\n\", 'Thank you for the positivity I wish you all the best :)\\n', 'Supress emotions and lifting\\n', 'Lurker here, and this post jumped out to me to the point that it warranted a response. Needless to say, I can deeply empathize with you, although my thoughts tend to center around a particular theme (social/economic behavior). Conspicuous consumption is something that triggers the judgmental part of my character. Or, it might be someone who is driving 20 mph below the speed limit. To your second question, there is a way to _manage_ these thoughts. As for stopping them? I can\\'t say for sure. But here\\'s a great start: don\\'t emotionally react to your thoughts. Accept that intrusive thoughts will enter your consciousness unannounced, and that you will be aware of them. With that said, imagine these thoughts as being contained within \\'floating boxes\\' in your mind, and let them pass along like the flow of water or the direction of the wind. Once you acknowledge that your mind can be a nexus for random, uninvited thought, you can _accept_ this and just let what is, is. Non-reaction takes time and deliberate practice. I learned of this approach through meditative and mindfulness techniques, though I don\\'t believe it\\'s termed \"non-reaction;\" I\\'m not sure what the textbook/clinical name of for this approach is. It\\'s conceivable that these intrusive thoughts could stop after you not responding to them long enough. Personally, I can\\'t confirm this, but I don\\'t worry myself with the outcome of my practicing of mindfulness. As long as just see thoughts -- any thoughts -- as just \\'thoughts,\\' it\\'s much easier for me to handle my emotional response. I hope you found this somewhat helpful. :)\\n', \"Yeah, one minute I'm relaxed then I start thinking of what might happen or how my voice will sound, then I'm fully tensed up a second later and my heart starts beating profoundly. This is me when I'm put on the spot, I don't if you meant if we were to be relaxing in our home then start thinking about SA.\\n\", 'Nice man! Inspiring to read stories like this. Having someone you can share your life is the best thing I can imagine (but not having experienced it yet) - best luck for the second date!\\n', \"When getting into this I expected something related to sports. I'm a confirmed dumbass\\n\", 'Same. And later on after the interaction I keep cringing at myself and swearing that I will isolate myself from people forever.\\n', 'Same here..I try to do a lot of spiritual stuff like prayer and meditation, Pilates, healthy eating, drinking lots of water, salt baths, positive affirmations etc.. nothing is pulling me out of this depression. It’s so frustrating when nothing works.\\n', 'I would have beat his ass\\n', \"Is it jealousy or is it fear that she might actually slip just that one time and become unfaithful forever. You need to either, bring more to the table so she doesn't gravitate away to other guys. Or, find someone who isn't a shank ass hoe. Or you could just beat that guy up, why is he even getting away with that stuff?\\n\", \"I actually going to the movies solo is better, but that also depends on the film. I would have never gone and watch Magic Mike without my girlfriends but otherwise I'm often alone at the movies. That being said I can't do restaurants alone yet. Well fast-food yes but going to a restaurant at a table alone? Can't do it. It's silly but I always feel stupid and patethic. I actually never sat a coffee place alone either. Sigh.\\n\", \"But this is a choice right, so just choose not to be transgender! /sarcasm I'm sorry though. I have a transgender friend and she had a really rough time when she started her hormones. I mean she had a rough time before and after, but that was specifically a rough time.\\n\", 'Might be \\'intrusive thoughts\\'. You might open the dam slowly, like \"Sometimes I think about harming people, even me\".\\n', \"I was your BF, my husband was you. Finally he called me on my shit. It wasn't pretty. Even though I knew my over-reactions were way out of line, I couldn't stop. Until he finally told me that he wouldn't put up with it. I don't think he's even fully told me how much it hurt him (there are still issues) but because we're taking time apart, it's real clear to me this can't continue. I had to deal with it once and for all. You have to call your BF on his shit real hard. If he need professional help, so be it. This is deep rage. he probably needs trauma healing, something I'm still going through myself. In fact, show him this thread. I feel like I didn't say as horrible things as he did, but I know my husband would disagree. oh, and ours went on a long time before he drew the line clearly. Don't live with this crap for years. It just ingrains the rage and lets his life stay miserable too. More importantly, as I knew full well and told my husband from day one - you don't deserve it.\\n\", \"I've taught anger classes for a decade. The why question is complicated. Here are a few key things that might give you some insight... (1) Anger is a secondary emotion. So if you're feeling anger there is another emotion that came before it and is responsible for the level of anger you feel. (2) Anger can feel like it's coming out of nowhere because so much of the anger process happens in our subconscious. Some research says we live our lives on auto-pilot up to 70% of the time on average. That's a lot of time for a lot to happen. (3) Mindfulness and awareness work could help you figure out what your triggers are and notice them before you're at the point of rage. You can get control. But controlling anger when it's intense is virtually futile. (4) Finally, the simplest reason behind anger is that we don't express the underlying issue. We often suppress it. We're so good at suppressing it, we can spiral into intense anger without even knowing there is something else to express. BUT if/when we express the underlying needs, anger can be an unnecessary step.\", \"You are none of those things. Did a parent or someone else treat you in such a way or call you things to make you believe that? Listen, the first step here may not be to join a boxing gym (although I might suggest it, yes). The first step is to develop a better internal dialogue toward yourself. There is nothing wrong with you. I know this feeling, and we are the same- we are our own worst enemies. Really. No one thinks those things about you. But ironically, the more we think them the more it will manifest in our behavior and other people will think it through what we say, our body language, etc. the answer is to not over compensate through aggressive acts, but to learn how to be nicer to yourself. Trust me, I wasted many years pretending to be someone I was not, and so did my mom, because deep down inside we were (and I still am) insecure. So please, see a therapist or pick up a self help book, write down things about yourself that you like. Remember how you don't have to be harsh on yourself. That's a lie, told by weak minded people. The truly strong people-the ones who don't give up-can maintain their sense of wonder and love for themselves and others, at least on the overall. We all have shitty thoughts about ourselves too. But I promise you are not shitty. You are great, and it's only through the hope that exists about who you really are that you're able to see the things that you don't like. Best of luck to you.\\n\", 'It can be hard to go out this time of year when everyone seems to be having a really good time and there’s a bit of pressure to be like that too. I would say give it a try - you could always go home early. At least say hi to your family. You don’t need to be super happy or compete with their happiness. Sometimes the best you can do is show up.\\n', \"Book in with a couples councilor if you can afford it. Seriously it's saving my marriage right now. Just one session has her feeling more confident about staying when on Christmas even she was discussing with me how we would handle custody of our 3 hear old son. Put that effort out without her asking for it. My wife had asked me to get individual and couples help for 3 years and it was almost too late before pulling my head out of my ass. If there is even a 1% chance she will stay, if you think she's worth it you do what ever you have to do. Good luck.\\n\", \"My anxiety has been with me since I was a kid. It spans beyond social anxiety, but social anxiety tends to be the worst for me. There's no easy answer. What seems most effective for myself is to actively do the things that make my SA nuts. So before I do something that'll make my SA nuts I get bad heart palpitations, and all sweaty just thinking about it. And it sucks. But then I do it. And then I feel really good about myself. And then the fact that I did something really dumb the day before with my colleagues at work isn't all that big of a deal. Hope it helps!\\n\", 'Do you feel that your social anxieties have diminished because of Uber/constant exposure to people?\\n', \"I'm so happy for you! Congratulations for your first date and I hope that everything will go well :)\\n\", 'It just sounds like a typical avoidant attachment style individual.\\n', 'I will join you on this goal to manage my anger in 2016.\\n', 'avoid and ignore is the strategy for interaction with all girls, whether you like them or not. i tend to avoid the kind of people who are likelly to say hello to me, because i don\\'t know how to respond back and i will just stare at the ground and i always appear rude and am beating myself up about it for hours later. that \"physical barrier\" is his way of dealing with it\\n', 'This is awesome, and I say that as a psychologist. there is probably nothing more effective in overcoming anxiety than behavioral experimentation aka exposure therapy. Excellent work!\\n', 'i contemplated suicide inbetween 2015 and 2016. Happy new years.\\n', \"I don't feel like there's anything wrong with that. You're removing yourself from the situation so you can calm down. I do the same thing just in different ways like going for a drive or a walk alone, or getting lost in some music. It's better to step back than act in impulse.\\n\", \"That sucks. I hate that feeling of not being able to shake something after it's happened. If I'm at work I go for a fast walk or run up and down stairs. It helps some. Knowing that feeling will pass also helps, but not much when I'm in the middle of it. I hope you're feeling better now.\\n\", 'Ha meant to be amoebas!!! That made me laugh out loud, I’ve often referred to myself as an amoeba. The conflicting thoughts and feelings about all this make it all impossible most of the time. I think for me, my PE lessons at school damaged my self esteem to the point of self-hate (a story for many, I’m sure..being left till last when the popular kids picked teams, threw netballs at my head etc etc) and my parents and grandmother wrapping me so tightly in cotton wool that I developed a fear of injuring myself. Ironic, seeing as I recently injured my knee for seemingly no reason at all. It just ‘went’...maybe because the muscles need work!!! I saw a really shitty workout on TV a couple of years back with a Z list celeb who I didn’t think much of, and thought “well if they can do it, so can I”, so I tried alongside them. They did things like jumping jacks etc in groups - count down from 40, take a tiny break. Count down from 30, take a tiny break. Then 20, and then try really hard for the last 10. For some reason, it gave me hope of completing just a simple physical task like that and I felt a (albeit very small) sense of achievement when I reached the end. Counting seems to help me. Maybe because it’s because you KNOW there’s an end, it’s very soon..and it gives you more control. Whereas with workout videos that go on for 30+mins, I always find it overwhelming. Since your post, I’m now thinking of putting together a playlist of awesome, cheesy songs that are fun to dance to when alone, and perhaps that, over time, will lighten up this ‘moving’ thing and make it not seem like we’re about to die! So thanks again, and sending my best wishes to you! :D\\n', 'As a female 22-year-old, I would hate being classified as \"a girl.\" No one wants to feel like one of many. I know you don\\'t mean it this way, but it sounds a little like you want one solution to talking to all women. Women are individuals, so it will never work that way. Plus, how would you feel if you met someone interesting, and it turned out they were just trying to talk to as many guys as they could, just trying to get more comfortable with it? I would imagine it would feel like being used for personal gain. I\\'m not trying to guilt you, but perhaps altering your approach would have better results for you. Talk to people you think look interesting, male and female. If you want to flirt with a girl, flirt with one you really find interesting; not just a pretty face.\\n', 'Yes, I hope that one day, one day I will be strong enough to contain my anger.\\n', \"Only a few more hours to go. Birthdays are always hard, especially when they don't live up to your expectations. You may not be able to have any control over whom you're with right now but you do have control over your actions. What can you do for yourself that would be a nice bday present to yourself? Your favourite food? A hot bath?\\n\", 'Body language and the way you use your voice seems to play a large role in this. You can say the most interesting things but if you say them in a please-dont-listen-to-me way then people are not going to pay much attention. It seems to help to consciously pay attention to you posture and visualize some kind of light or just friendliness emanating from you.\\n', 'my toe\\n', \"Hey I'm really sorry you're feeling you haven't progressed in the past 4 years. But I hope you can help yourself in trying your best to see how far you come, no matter how small. Did you reduce the times of your outbursts from every day to every other day? Did your outbursts last shorter and shorter times as you went on? I know it's incredibly difficult when you're in the moment but afterwards, try to pause and realize that moment was shorter than the last one. And also, deactivate Facebook if you have to. You can go back to it if you want. If you're finding it's too tempting, delete it. Honestly we could all go without it but if it's angering you more than helping you stay connected with friends it's not worth it. You have to realize the power to control your anger is with you not with her. You hold all the power in your hands. She won't find out what happened to you and it no longer matters. Best of luck friend.\\n\", 'What did you actually do tho outside of watching his videos?\\n', \"Hate to say this but that's how I am. I'm shy near people who are outgoing and more talkative than me. But if I'm near someone who is quiet, shy and awkward I immediately take charge of the conversation and feel fine.\\n\", 'Keep doing things for you.\\n', 'I\\'ve been married for 16 years, but other than that, I don\\'t really talk to anyone I don\\'t have to. I have trust issues thanks to a previous group of coworkers, that i thought were frienda, that were nice enough to tell my wife \"I\\'ve been screwing everything that moves since I left home. He probably is too.\" Fuck people.\\n', \"Paranoia is a potential symptom of social anxiety. I have had the same problem thinking people are laughing at me from behind or wherever, and have also thought people have said things like you mentioned, fag, about me too. SA makes you over sensitive to your environment and can max out self consciousness, thus making you paranoid. Edit: I don't think I articulated that correctly. Paranoia and social anxiety are different things. But sometimes I think they can go hand in hand. Ex) being paranoid that people are laughing at me, and being terrified and feeling bad about myself for it.\\n\", \"I'm the same way. My girlfriend and I spend nearly all of our time together, but when we're apart, I fall deeply into a depressive state very quickly.\\n\", 'Better than my 2014/15, but pretty mediocre by any measure. Yours?\\n', \"It's good to realize you need help. Go see someone and talk about it in person, I am not kidding. If you ask your parents their help in seeing a therapist, they'll probably be happy to. If not, try and talk about it anyway. If your life is too stressful at times, consult a specialist. Or at least try to adopt a better lifestyle. These tips are generally always good: * Try to sleep enough but not too much, (8-10 hours for your age, I think). People don't think that bad sleeping habits messes with your mood. * Eat healthy. * Let go of competitive videogames and try to go jogging, or swimming, challenge someone at badminton, whatever. Physical exercice release tension. * Talk to someone about it.\\n\", \"I used to have a problem with this sort of issue too. Like when I tried talking to girls or dance on the dancefloor, I would need a few shots to give me the confidence. But then I realized it wasn't a healthy lifestyle and changed it by approaching the situation sober. It was awkward and really hard at first. But the longer I went at it, the easier I got and the more natural it felt.\\n\", \"I think one thing with depressed people that I notice especially in myself as well is that we have extremely high expectations of ourselves. Expectations we know we will fail. Isn't it ludicrous? Our own minds, our own ambitions, everything we process, our own brain wants to kill us. Working against my own mind is probably the hardest thing I have ever done. I'm just surviving even if I'm lazy and unmotivated. That's all I can do.\\n\", \"I get this. Kids are more frightening that adults because they will be more overtly disrespectful to you. If they don't like you, or don't want your attention, they aren't worried about letting you know, or don't care if you know about it. Not only is it unpleasant having someone be rude to you, there are often people around to witness it which is all the more embarrassing. I was once at party where there were kids and this kid pretty much realised I was the weakest socially, and harassed me to get laughs out of my mates. It was humiliating and infuriating.\\n\", 'I would. You don’t have anything to lose (except the price of the sessions) and your quality of life would improve.\\n', \"Such an important project - amazing artwork to promote it! I'd get this tattooed if I didn't already have one!\\n\", 'Are you on Prazosin? If so, is it working at all? http://www.webmd.com/a-to-z-guides/prazosin-for-ptsd\\n', \"Yep, and that's mostly why I don't play multiplayer games at all.\\n\", \"Damn this is me to a T. I'm currently living with my parents and I'm am pretty anxious about moving out because they are my main source of comfort and help me to feel a lot less lonely. When I move out next year I don't even want to think about how I'll be coming home from a shitty day to an empty house\\n\", \"I feel your pain. Really, just go down and knock. If possible, do it when you're not really wound up about it, maybe a bit after you get home for the day or something. Or maybe the next time right when it starts up for the second repeat in the morning. I'm just trying to imagine the times when I'd feel the most comfortable doing it. Two other thoughts: 1) I guess technically they're within their rights to play whatever song they like, including the same one, but not so loud that you hear it. So focus on the volume aspect of the nuisance if you do talk to them. 2) Mentally, hold on to the fact that asking them to turn it down is 1000% a reasonable thing to be doing. In the meantime, here's [a clip of Spalding Gray](http://youtu.be/QI4NvgpjXYo) on interactions with neighbors.\\n\", 'In fact, I envy you. My depression is so painful, I just want to sleep all the time between key events in my life that could help fix it. Yet I sleep 4-5 hours a day and wander aimlessly for the rest of the day.\\n', 'Good News everybody! You are going to be depressed for another year! Dammit, professor.\\n', \"Asking what they will be wearing is not wierd and makes total sense, if it's the fact that it makes you feel like a creeper asking then ask where in the bar you are meeting up. When Im in situations like this I have to think of it like it's already happened and I can't avoid it. Some of the fondest memories I have are from paper and dice games. I wish you strength and calmness, accept that your nervous, don't get mad at the thoughts.\\n\", \"I cant provide any help, but just wanted to say I feel this way too! I guess its comforting knowing someone else does too. I told my friends I wanted to go to a certain concert the other day and it made me feel very embarrassed for no reason at all. It wasn't a weird or unpopular band or anything.\\n\", 'What will you do as a solution to your anger?\\n', \"You need to apologize to him and yourself. Start with you. You made some bad decisions based on amped up testosterone. We've all been there. Moving shit sucks and sometimes tempers flare. Losing your cool and getting to the point of physically lashing out is something that you need to address in order to start living better. Head butting someone - friend or not - is an extremely aggressive act and needs to be addressed. Your frustration over moving things and not getting the answer you wanted (regarding your request for help) caused a serious amount of aggression and you assaulted another person. I'd begin by writing things down immediately. How you feel is important. Angry, frustrated, ashamed... it's okay. You're human. We do some dumb things from time to time (including head-butting friends). The thing is, writing out how you feel will allow you to start to understand more why things escalated to assault. You need to ask yourself a number of hard questions and you need to figure yourself out. Why did you get so upset? Who are you more angry at; him or yourself? If you can get a grip on yourself now, you can begin to make amends. Lashing out at others is not the way to solve any problem - real or perceived. Just remember that help is available and we all need support (men far more often than not feel shame and low for thinking they could use support, but it is this that keeps us from realizing our true potential). Edit: and just to make sure you understand: my brother and I used to fight a lot and I was a seriously shitty older brother. If I could do anything for anyone else now it would be to help them through these moments of trouble. I didn't have anyone to help me, but over time I learned to begin to heal and I am still a long way off from where I'd like to be. Just wanted to level with you.\\n\", \"Than go on fucking tinder and do something. Me personally I'd rather not be hungover as fuck in the morning because I went out drinking because the earth went around a nuclear explosion one more time. Whoopty fucking do.\\n\", \"I have tried to get a job too and I couldn't. This summer I will finish school and I don't know what to do with my life after that.\\n\", \"Just imagine them as one of the guys. That's what I did. It takes practice but eventually you'll be calm and collected around them. This is assuming you only have issues with females and not all people.\\n\", 'Look man, I was in your boat. It’s not going to get better unless you make it get better. SA isn’t one of those thins that just goes away with time, especially if you’re like me and fester. The best thing to do is get out there and realize people are 100% more invested in themselves than anyone else. You don’t have to take huge leaps to overcome SA, just take a step and run back to your comfort zone, repeat until you can comfortably take that step, then take another. The thing that helped me was talking to people online. It’s perfect for 2 reasons; there’s already a decent topic to talk about (the game) and you meet someone for 5 mins and never have contact with them again, like prostitutes that you don’t have to fuck or pay. Sorry if this wasn’t much but it’s my 2 cents, hope you find yourself in the future\\n', \"I relate to this a lot. I am 21 as well but I can easily pass as 14/15 because of how short I am and from my lack of proper facial hair. People don't take me seriously and sometimes I don't feel respected. A few months ago I had a very unpleasant conversation with a taxi driver during my way to my destination; it was the type of conversation that I know he wouldn't have with someone who actually looked like an adult. As a result since that day I haven't taken a cab anymore, because I live in a small town and the odds of me calling and getting that guy again are high.\\n\", \"Like what cicerothedog said, you shouldn't have the preconceived notion that there's a standard for everyone. It sounds like you're alright without friends, but at the same time, you've never truly experienced what having a close friend is like in the first place. To answer your last question, I don't think you should force anything. If you happen to come across someone who shares some interests with you, and you enjoy being around them, then make an attempt at becoming friends with them by texting them and asking them to hang out or do that common interest some more. Whatever happens from that point happens; There's no need to force it to go any further than you think it should. I'm 23 and have been working my job for about 2 years now. I'm good friends with two of my co-workers and I like to hang out with them on occasion and play video games or go to a bar. It's nothing huge. We're not the kind of best friends like you might have had in grade-school, but it's still nice to have some guys to have some fun with once in a while. Overall, I don't think you should hang on to this notion that you don't want friends. Having a friend is typically nothing but a positive experience.\\n\", 'Happy new year !! I hope life gets better for you.\\n', \"I disagree. I learned in my therapy that there are learned behaviors, assumptions, trainings, way deep down under those feelings. Those are what prevent you from being social and forming relationships with other people. If it were just this cycle, one drug that reduced anxiety would fix all of us. Or getting drunk/sleepy enough to where we don't care would result in us all being social. Therapy with a real objective skilled therapist who relentless dug deeper into my assumptions and problems taught me where all this came from in me. I'm all for supporting people. Everyone here should break their SA and get healthier and happier. I'm all for CBT and slowly getting yourself used to being social. But more than anything I'm for figuring out why we are actually anxious and improving that issue, not just the symptom.\\n\", 'You worry about your own demeanor (that the right word?) which is normal, okay, your being harsh about yourself. You want to treat others like you would want to be treated, so ofcourse, if you would get ignored you would feel crappy. Now, what would solve this constant milling about this stuff in your head? Best would be to bring it up the next time, make an excuse \"i had a crappy day that time.\" etc. BUT this idea likely scares you just as much. You know what? That\\'s okay. Your just not at that point yet because you have an illness named: social anxiety. You (and me too) have a much harder time to be \\'responsible adults\\' about this stuff and we worry enough about this. But let\\'s look at from that other guys perspective. He (most likely) does not have SA, so if he did feel ignored he could have spoken up about it (that\\'s what socially well-adjusted people probably do, right?) Since he did not, he either didn\\'t care enough about it, was busy, or isn\\'t as socially well-adjusted as you think. All in all he probably forgets it, might mention it or simply doesn\\'t care enough to make a point out of it...so why should you?\\n', \"I hate sitting in from of people too. In the train I usually try to sit next to the window or stand next to the window so I don't have to look at others. I actually do the same in college so maybe you can talk to get a table next to the window even if you have to be I front of others is such a relief having other things to look at\\n\", \"Listen dude. I love you. Even though I may not know you i do. Things will start to look up. Sure shit gets outta control. Sure I may not be in the position you are in. But he'll I've been In similar positions. Shit sucks. Yeah you might have to find a new thing to work for. But work for it. Start looking in new clubs and activities. Start doing things you usually wouldn't. Act better (idk how you got arrested). If you need someone to talk to PM me. I'll listen (I've heard I'm a good one) anyways keep your head up bud. Don't do anything bad for you. I'll miss you no matter what.\\n\", \"I feel you. My ex still cares about me but has made it very clear that she doesn't want to be together. I'm still waiting for her anyway.\\n\", 'This is good. Thank you __\\n', \"How's your day going?\\n\", \"We all have times where we just need to freak out and cry. Completely ok. I'm glad you are seeking some help.\\n\", 'Your not alone btw m8\\n', \"Are they inside your head or outside? Just curious, cuz I get both, more inside.. For me, the ones outside are scarier/weirder but the ones inside can be scary/weird as well. I think I know what you mean about not wanting to get into the system, but I advise that if it starts affecting you to talk to someone, maybe friends first and then seek a doctor, although I don't know your situation or anything, so you are the best to judge what is best for you. I personally would just talk to friends about it at first, but now I am seeing a psychologist about that along with many other things. Hope everything turns out ok! (:\\n\", \"How old are you and how old is she, if you don't mind me asking\\n\", 'Yes, you do need to pay each mental health professional that you see. You will have to meet with the second psychiatrist to get the prescription and most likely they will want to interview/asses you before giving the prescription. By \"color\" of prescription paper, I think it means that certain controlled substances need to be written on a certain type/color of verifiable prescription paper that has \"security features\". But by all means ask about it. Anyway, if you feel like you are paying too frequently, 2 different docs, then you might want to transfer care completely to the new doc.\\n', \"Perhaps just do the same for Monday? If your picture is going to be up on the website for as long as the company survives, don't you think it will be worth it? I understand that it's ridiculously difficult, I recently got my hair cut and it was pretty much unbearable, but it sounds like you really looked good after today. Sounds like it would be worth the pain to me. Regardless, sorry you had such a rough day. :/ That really sucks, but you survived it, and pushed yourself to do it, and you should be proud of that. In regards to the money, in the grand scheme of things, 50 is not very much. It went to what you thought would be a good purpose, not your fault the plans got switched up at the last minute.\\n\", \"From what I've been told by a doctor, social anxiety is a symptom of depression. To help alleviate depression he recommended cardio (jogging a few miles, or using an elliptical, etc.). While he told me to do it daily you'll probably burn yourself out doing that, so I'd start off doing it like 4-5 days a week. When you start feeling better about yourself (you'll know when it happens, you feel light as a feather and existence seems like bliss compared to the saggy shitty feeling you normally have), you can tone down the exercise to a few times a week. The point is consistency. Cardio exercise is the best advice I can give as it doesn't require you to talk to anyone, so no real potential for embarrassment. And limit how much caffeine you drink, that stuff can make you nervous. Plus eat healthier. Limit comfort foods like junk food and stick with more fruits and vegetables. And speaking from experience, don't look at your age and think you've missed a developmental milestone and are a failure as a human being. I cured my SAD (though only for a short while, I feel back into my normal routine of little exercise and poor diet), and surprised myself on how I went from someone who was quiet and can barely talk to someone who brightened up stranger's days just by eagerly and loudly talking to them.\\n\", 'I got dumped on NYE, by a girl I really liked, we were beginning to date and \"taking it slow\" which I naively thought was special. Feeling your pain OP, take care.\\n', 'yes totally. You should start psychotherapy if you have not already. Dont lose hope, there are ways out of this!\\n', \"Congrats, it's more than most of people with SA will ever get. Jk, no offence, I myself forgot when was the last time I kissed someone.\\n\", \"You are most definitely angry over *something*. It is very easy to misdirect anger, like it's slippery. I think it is more a question of convenience and appropriateness. Some things are too scary or normalized to get angry over. Other things are too small. Emotions do not just go away, though i thought that for a long time. So the anger becomes erratic and seemingly baseless, though it is most definitely rooted in one or more specific causes. Keep a journal, old advice, i know. Even if it doesn't help for years, it will one day. One day will be your day, and that will be your watershed. The journal will help, having a record of the past can make things less daunting and help you feel justified.\\n\", \"It's a great thing to have Just keep trying to find a friend that's kind of on your level.. If you find a friend on your level then you will both finish each others sentences and really get on well.... a beautiful thing..\\n\", \"Your mom sounds like a toxic person. If this was just a friend I would recommend cutting them out of your life, but it's your mom. Your school may have someone you can talk to who would know how you should handle this\\n\", 'Perhaps you could try using some sort of site like meetup.com to start a group and get people interested. Or maybe a facebook group stating your purpose, goals, etc. It might also help if you contact a counselor, psychologist, or psychiatrist directly to see if they could facilitate/moderate a group on their own.\\n', \"You're just a kid and you've lived almost none of your real life yet. Remember to stop taking yourself so seriously, nobody will care about or remember 99% of their time before graduation. You're a fine person and you're still growing so don't pick on yourself. Life is only bleak because your world is so small and your perspective so limited. Chin up, mate\\n\", 'It does. I fell exactly like you and it is so bad cause once I looked at myself on the mirror and tought I actually look great I really should be happier with myself than I took a photo and tought srs that looks nothing like me I look SOOOOOOOOO BAAAAAAAAAAAAAAAAAAAD in this pic :c\\n', 'I have no one else to express this to, so happy new years to everyone here too.\\n', 'Awesome! Can I come?\\n', 'This is really cool. Could I have one? :)\\n', 'The anticipation of the event is usually worse than the event itself. Look at it as a way to find a new interest with new people. I have the same \"little freakouts\" so I wish you luck!\\n', \"I don't have one\\n\", \"I don't see why you would have to quit cheerleading to see a therapist, or why her mom would have to quit her job. They can almost always work with you on schedule. My mom managed to get my brother to two different kinds of therapy twice a week each all by herself working a full time job, on call every night. Its always doable, and a therapist would definitely be worth it if it's bothering you so much.\\n\", \"I don't know what to say. If she hated you so much she'd of kicked you out. imo. She just nagging getting on at you because she cares. She doesnt want u living with a old person thats all. she wants u living with some 21 year old girl etc... she doesnt just know how to say it because shes upset for u\\n\", \"Based solely off your description, it sounds like you could be shy/introverted. when you're in public or with many people, do you ever feel yourself getting sweaty, heart racing, or mind blanking out? Also, any feelings of avoidance or any other physical ill feelings? Those are more symptoms of social anxiety. If you just have an actual preference for solitude and smaller social niche, that's not social anxiety.\\n\", \"I got so nervous before one interview I literally threw up. I also have a severe phobia of vomit so at that point I was convinced I needed to just go home and lay down. But I somehow made myself walk through the door for the interview. I have been at my job for 3 months now, I have panic attacks at work all the time and cry every day on my way to work. What has helped me was I told the office manager that I am struggling with anxiety, but am trying to work through it, and explained about what my panic attacks look like so no one would call 911. I always worry about what people will think of me when I have a panic attack so the fact that they know about it ahead of time helps. My boss was very understanding, and I think most people will want to help you work through it the best you can. The good thing is it is a co op so don't look at it like a job look at it like a learning experience. They want you to succeed so they will help as much as they can.\\n\", 'It looks like \"it\" has to do with the orientation to affect feelings directly through feelings. Meaning a lower level of cause and effect orientation, i.e., living causes feelings, and rather more attempting to solve feelings by feeling harder or freaking/disrupting. Cutting exemplifies this.\\n', 'A lot of Hollywood Undead songs. Bullet, Pain, Hear Me Now, Black Dahlia to name a few. Edit: genre is rock. Sort of.\\n', 'For me music is one of those things that can make me feel a little, usually because the song in some small sense can describe how i feel. most of the time i feel pretty numb.\\n', \"Yeah I love to socialize and sometimes I can do it and have lots of fun, but most of the time I just feel like an awkward wreck. I even used to be quite popular in high school and freshman year of college, but after that I started to get anxious. I didn't feel like I fit in here a couple years ago but I'm starting to feel more and more at home lol. Sucks\\n\", \"Great ! I do the same Don't feel sorry for sharing your passions. You'll always find people who will appreciate it even if they don't show up\\n\", 'Story?\\n', \"Well on one hand you are all adults.. As much as you've tried to help it sounds like Alex doesn't want help. You may need to make an ultimatum - Alex, to continue living here you need to help out with expenses again. If you don't start applying for jobs, you will have to start looking for other living situations. This will be a really hard talk obviously but it's reasonable in my opinion. An ultimatum MAY motivate them to make some changes... But they also may go do their own thing and that's their choice. If they get angry, let the rage pass and pick up the conversation again. Also look up de-escalation techniques, that might help. I had a similar problem with my brother who has anger issues. My mom gave him an ultimatum and he made some changes. So I hope Alex can respond that way too.\\n\", \"I am sorry that I can't think of anything to say right now as I am in a slight depressive mood, but I did read what you wrote, all off it, and I do care. I just wanted you to know that somebody did take the time to listen.\\n\", \"I do not want to speculate about what he is going through, however I also have a friend who is struggling with his mental health. For my friend though we know what it is now, he's been ill for over a year. But in the beginning I was very lost, how could I have been so blind? How can I help him? What is bothering him? I imagine you are going thourgh something similiar, and what I can say is that there really is not point in blaming oneself. The best thing to do(for me at least) was just checking up with him sometimes, showing that I cared. If he is getting psychiatric care then I think being supportive and acceptive is the best thing to do. Every situation is different though, but I that was/is my experience with my friend at least. Hope your friend is doing ok.\\n\", 'There\\'s this book called *Radical Acceptance: Embracing Your Life With the Heart of a Buddha* by Tara Brach, Ph.D. It\\'s helped me a lot. Some of what it talks about is mindfulness, taking a breath when any emotion is overwhelming you. Taking a moment allows you to pause before acting irrationally, and also opens up an opportunity for introspection. This may help you see things more clearly. Another thing I\\'ve learned over time is that resisting pain really ends up causing more. I always remember this one time when I stubbed my toe, I tried embracing the pain and it washed over me very quickly. The more I acknowledged the pain, the faster it went away. Brach also talks about the \"trance of unworthiness\" which is a term that resonated with me. Since you mentioned self-doubt, I\\'d highly recommend taking a look at this book. Please feel free to message me if you have any questions or if there\\'s anything you\\'re wondering about. And if there\\'s anyone you feel you can reach out to, I\\'d recommend that as well. (That\\'s how I found out about this book!)\\n', 'Happy new year!\\n', \"I see this is a blessing of sort. On Christmas eve I ditched my best friend of 5 years without even telling him. YES I ditched him. I did it because he never made me feel like someone worthy. I was friends with him because i couldn't make any others. I assume you might have had simillar experiences from these guys before. I am terribly sorry they had to tell you that in your face, but you deserve better. just like they think they're better off without you, you're way better off without them. Now you will find the strength to learn to love yourself more and not give away your happiness. They have not right to make you feel this way so don't give them the privilege. I've done that mistake throughout my entire life and not gonna do it anymore.\\n\", 'How rad is your dog?\\n', 'My impression is that you found inspiration in her and that she represents a lot of qualities that you want to develop in yourself. You met someone you admired greatly in many domains. Uncharacteristically, you made an effort to be closer to her in order to observe her better, to \"see how social people do this\". You express little to no interest in developing more of a personal relationship with her, especially since you felt \"no real connection there\", so you\\'ve ruled out that these feelings are based on a desire for a interpersonal connection with her. However, I can say that this sort of feeling is similar to something I\\'ve experienced. Funny thing is, I don\\'t think I\\'ve ever heard of anyone else describe/analyze/understand this feeling in the same terms as I have. It\\'s like a crush or falling in love. But it\\'s not. The difference is, you don\\'t necessarily have that comfortable cool connection with the other person. Where you talk easily and share hobbies in this awesome way. But you do admire that other person greatly and aspire to be more like them. And may crave their validation and respect. Certainly their company, so you can learn from them. Here\\'s where me might diverge. ... If you\\'re like me, then you\\'d have this strong desire to express to them the impression they\\'ve made on you and what that\\'s meant. Also, you\\'d want to try to share some sort of skill or something with them that will benefit them as well. But... I\\'ve always had the insight to know that actually *being* in a relationship with such a person wouldn\\'t work out- not without that connection, that comfort. So I restrained myself appropriately so as not to enter into unsuitable relationships. Focused on learning what I could and improving myself in the hopes of becoming someone my ideal partner would like to date... if I\\'d ever meet him. Well, we met and we\\'ve married! And he continues to help me develop into the person I want to be. Because it doesn\\'t end at finding love. I want to continue to do well for myself and to support him as well. ... Back to you. I sympathize with your chest pains and difficulty breathing. It feels weird, it\\'s unpleasant, and it\\'s anxiety-provoking. But, despite the discomfort, I hope you\\'ll come to appreciate that this is a very good motivator and it might lead you to pursue things that you will find fulfilling. You might find it helpful to write down what she represents to you or what she makes you want to become. Maybe make some goals. New Years Resolutions? Anyway, this was a really interesting post and I\\'m glad you shared. I hope something of what I said was helpful and I wish you the best of luck.\\n', 'To break 50%. ATM my \"normal\" days are heavily under 50% of the year, i want to at least come closer to it.\\n', 'They don’t give a shit. Guaranteed\\n', 'Running. I just pick a podcast/Playlist and go outside.\\n', 'Well I\\'m kind of in the same situation. The problem really isn\\'t the job but management and the \"people\". I live in a small town and found a gas station down the road. Everyone there is really kind, and we all get along with no problems, including the manager. She knows of my issues and is very understanding and willing to work with me. She decided that night shift was the best option for me. I can work alone and at my own pace. And being that im the only one there, it kind of makes me feel important in a way. I\\'ve been doing this for 4 years now and I honestly like it. Maybe this will give you a new perspective on things. Because I know how you feel. You kind of accept the fact that you\\'re limited in life when it comes to work, but that doesn\\'t mean you can be happy.\\n', \"I'm sorry for everything that has happened to you, and for how people have treated you. I know that sorry's don't fix anything, I wish I had a way to make it better, to say the right things. Just know that I don't think you are a screw up -your about the only reason I check nosleep, because I enjoy your writings. They are beautifully written, you have remarkable talent. I truley hope things get better. I am rooting for you.\\n\", 'Are you diagnosed bipolar? Are you being treated? I can think of other things that could cause some of your behaviour, see.\\n', \"The simplest solution is to cut those dicks out of your life. If they're actively going out of their respective ways to make you angry or put you down, you have every right to get angry. Delete them from the social media that you're on and phase them out of your life. If it's not that simple, slowly wean yourself off of those pricks and make some new friends who think more like you do. Be around people that think like you do, who you can speak openly with about whatever it is you feel like. You'll find those instances in which you start to seethe will fewer and far between. And even then, the best thing to do is to be vocal to people who will be receptive to your negative emotions, people who will actually listen to you. Don't let it boil over and leave you silently angry. Best of luck.\\n\", \"When I was in school I felt like you did, except I actually did slack off and fail classes. I never planned on going to college so grades meant nothing to me. All I wanted to do was graduate so I would never have to go to school again. Because of that I thought the whole thing was a huge waste of my time and I felt compelled to do nothing whenever possible. Doing anything meant I was a part of their system and I despised the thought of that. I put in minimal effort and put everything off until the last minute or didn't do it at all if I could get away with it. There were people who would be disappointed when they got a B, but I would celebrate when I got a D because it meant I passed. I felt like school was hell and it would never end. Then one day I finally graduated with the minimum credits needed and I had to make up a lot of work at the end of the year. I had to sit in detention for weeks all day which was even worse than being in class. You probably don't care about my story, but I was just trying to say I hated school as much as you do. So then on to the point I want to make. I'm finally out of school, great right? Well now that I'm out of school I have to find a job and where do I end up? Working a shitty factory job with bad conditions that didn't pay that well. That job made going to school look like a cake walk. I was there for around a month before they finally fired me. After that I sat and did nothing everyday for over a year which got me nowhere. Now I've been at another shitty job and who knows if I'll get fired again. Maybe you know of something you want to do after you're done with school, but I never did and I ended up where I am now. School may not be that important to you, but you could be setting yourself up to feel the same way about your life. Before you know It you will be looking back and realize its not as bad as you think. I always hated hearing that, but didn't realize it was true until it was over.\\n\", \"Anger comes from pain. Your probably experiencing a lot of pain and you get these ideas sort of naturally, just your predisposition. But hurting others wouldn't really change that, it would make things worse, and it would be horrible for the others just like it would be horrible if it happened to you. You probably know that anyways. You should definitely get help in dealing with this. You know it's a problem. I would say it's more like ideas in your mind, just like there are a lot of ideas like this on TV shows and movies. I saw something somewhere where some people have thoughts, sort of on the level of ideas, of killing people often, when they are angry. They wouldn't do it, but their minds work like that. For some people, that comes with feeling angry. But then, a lot of times they don't even know that first they feel pain, then they feel angry. That's part of what you can talk about with a therapist. It's actually pretty thoughtful of you to post this on here because it just shows that you're thinking about it. I think it's important to remember that, as strange as this may seem, even when you have thoughts like this, its an expression of the opposite. It's an expression of caring about the world but things aren't going right or working out right. I guess it's a way of being mad at the world. Which we all get like sometimes. But nothing is worked out at the level of killing yourself or others. Things only get worked out as you live your life. Definitely get help and tell them about your thoughts. If you can, when you start thinking like that, just start pulling out and say to yourself that this is not a good direction. Something tells me you've developed a bad habit of thinking like this, almost like a TV show about such horrible things, but don't let your mind go there. It might go there a little bit, just like it does for most people, but don't keep going there. It's just a big mistake, but it seems like you don't quite realize that. It's almost like a bad habit. Even if you feel a lot of pain, and that does happen at times, you don't have to go there and, it's really wouldn't help at all. It would make things much, much worse. I think your mom is wrong on this one. You're the smart one here. I think that if you feel like killing yourself or others you can actually call the police aand they might take you to the hospital but don't be threatening on the phone or in person, of course. Just be calm. but if you wait for the evaluation, then you should tell them in the evaluation. A lot of people might be afraid to answer your post. They don't want to say the wrong thing. But not saying anything can also be saying the wrong thing. I sense you have a decent heart inside.\\n\", 'Love Simon and Garfunkel &lt;3\\n', \"Okay I think I can help you. You might feel it more intensely than I do but I noticed that with seroquel, after taking it when it starts kicking in it I sometimes feel myself unable to process more emotion then I would like to. For example the radio, a song I like comes on on the drive to work and I can't go full force and sing it I'm limited, not just limited but yeah, I see it as sort of painful to have to surmise the amount of emotional energy it would have to take to overpower the effects of seroquel. Impossible too actually you have to wait till it wears down. (unles you take xr). And that's the seroquel, in the hundreds of milligrams emotionally it's like a brick wall or a cap or roof or some figment of imagination measurement you can use to describe the limits that seroquel puts on your ability to process emotions. Seroquel does other stuff weird stuff like give you nostalgic daydreams or reverie. Prozac you have to keep an eye out if it starts making you emotional or turns out to be the culprit behind you getting teary and emotional you'll have to, tell your pdoc. Prozac is known to cause manicky symptoms, racing thoughts for example.\\n\", 'Hang in there, hun. You are not alone even though you might feel that you are.\\n', 'It sounds as though you are guarded of your past and your emotions from everyone, especially him. It can be extremely difficult to let someone in and let the walls down. There is a struggle between wanting to tell him and not being able to let the words out. You say he wants to know, but are you ready for him to know?\\n', \"What I tell my kids is that it is factually wrong to say that somebody is annoying; what we really mean is that *we find* somebody to be really annoying. It's a small distinction, but it serves to draw attention to the fact that the annoyingness is in our own heads. If we want to be able to be free from it, it is *we* who need to make the effort, not the other person. In your situation, I would recommend going to this guy and apologising for how you spoke to him; tell him that you don't really know why it came out like that, but the truth is that you get frustrated by his questions. You can politely ask him to stop involving you in the game, but repeat that you are sorry for speaking to him in the manner which you did. If he ignores you and continues to pester you with stupid questions, just breathe deeply and really try to focus on your breathing: feel the air coming into your nose, going into your chest, making your stomach rise, and then feel the stomach deflate, the air rising to your throat and passing out of your nose. Do that a few times and then just chill. Reflect on the fact that it appears that this person, for reasons beyond your knowledge, is trying to irritate you. Try and look at it like a scientist would. *Why* would he want to do that? What would make *you* behave in a similar way? Does he need to impress somebody? Does he mistakenly think that this is friendly banter? *Is* it friendly banter? Might the problem be *your* reaction? Should *you* be getting irritated? Does any of it *really* matter? Will it matter in 20 years time? 40? etc.\\n\", \"Yeah I do. It doesn't really bother me that much though. It's probably just out of the ordinary to be with someone who talks so little. They want to kind of joke around with me or include me in the conversation but aren't sure how. Sure there are some people who are just mean but I feel like most people who say those things don't have bad intentions. If I'm the only one in a room not talking I feel bad enough on my own.\\n\", 'meds aren’t magic! they are crutches that can help u if well coupled with therapy. It’s normal that you don’t see concrete changes two weeks after starting a new med, tho i don’t have any personal experience w/ sertraline good luck boi\\n', \"Before you go off finding someone for her, how does she feel about therapy? If she's not ready and she doesn't want to go, it's as good as nothing. She'll probably just lie about how well she's doing and whatnot if she comes in unprepared. The thing about emotional help is that only the person themself can truly help his or herself. You can be supportive though, but that's the best you can do.\\n\", \"Start getting exercise if you haven't already. Getting over things like this take more time than you may realize. I, too, got out of an abusive relationship with a manipulative woman. I was a ball of rage for months and I knew then and there I needed to find an outlet, so I started exercising more and more. It has helped me regain my sense of self worth, but I still get the rages from time to time (these in addition to missing her. She was quite beautiful, you see, but ugly as all fuck on the inside). Workout a bit every day. Stretch and get involved in things like swimming and hiking. Being outside will do wonders for you.\\n\", 'I am all of those =\\\\\\n', \"I have similar self-conscious issues but I actually loudly backtalked my neighbour for being obnoxious once, so I guess I all I can say is, I was an asshole and my neighbour shouldn't pay it any mind, and neither should you. And just becuase I thought he was annoying then doesn't really change what I think about him now. I still interact with him in the same way as I usually do when I stumble into him and I perfectly accept whatever he does with his life. I am no master of it and my judgements mean nothing else that I have authority-issues. Really, whatever you neighbours think or say they're coming from some kind of selfish/ignorant place -- pay it no mind and prove to them their prejudice doesn't mean anything by being yourself and remain unfazed by their opinions of you.\\n\", \"I know it's hard and scary, but the best thing would be to talk to someone in your life. Parent, teacher, someone. They can do more then any of us can\\n\", \"*What* stigma?? *Everyone's* in therapy!\\n\", 'Dépression symptômes .... sée a doctor to sée what ils gping on with you\\n', 'Great idea, so glad so many people joined. :)\\n', \"Preparation helped me. going over the text over and over again,talking to myself etc. not memorizing text, more the bullet points and forming different sentences each time I go over the presentations. Like that it never sounded memorized but rather fluidly talking about the topic. When the horrible time came I fell into auto mode because I knew what I want to say. Also this always gave the impression I prepared very well, since I didn't have to look at notes or my pp presentation but having notes was like a safeguard, if something goes wrong, I knew where to look for. when I had to present my thesis I repeated my presentation to myself for hours and had problems with my voice the next day... Not smart but it went really really well. A year later and I still have nightmares about this day.. the questions are the worst thing, but weirdly I can talk Bullshit under duress. For some presentation I thought about possible questions beforehand, so I went into the presentation thinking I am prepared for every situation (not true but believing helped a lot )\\n\", \"Hope you're ok\\n\", 'well, I assume your not a virgin at least\\n', '\"It\\'s not helping\" You don\\'t say! That\\'s incredibly infuriating.\\n', \"You sound like me. Except I sorta know how most adults live after college, and I know I'm not missing out on much. Overall, I don't think you should force yourself to be social if you don't want to. Some people live their lives out happier that way. Just try not to make any mistakes the future you would hate you for. Edit: oh I also have the idea of hanging out with people who relate. Like, people who just want to watch the same concerts as you or people with same mindset.\\n\", \"I got a ton of help from a psychologist and traditional talk therapy. I had to try a couple to find one that really worked, I got a lot of results really early but went for 1.5 years. CBT and EMDR promise faster results. I would suggest trying that out before meds, just given that you never know what drawbacks there would be with medication and there's no drawbacks other than time and money. I just needed someone to confront all my assumptions that I was living my life by, to question why I did things and thought things, and half of therapy is just learning how to have a safe and comfortable communicative relationship. That last past was what led to the biggest change in me, just being able to tell people what I'm thinking, what I want, and what I don't want.\\n\", \"You know there's nothing stopping you from talking to people like you met ages ago.\\n\", \"For some, it works really well to alleviate the negative symptoms. But it's a blunt instrument. It's an excellent way to immediately and temporarily change your frame of mind to one that can be more peaceful. But in the context of treating social anxiety and depression, it's probably best used alongside some other form of therapy (professional and/or personal). It's a good way to deal with getting through some tough times, but it's important to remind mindful and focused on what actually initiates positive personal growth.\\n\", \"My closest friends have commented that I seem like I have mood swings. I definitely empathize. Some days I feel like I can be more confident other days I just don't want to leave the house\\n\", \"I feel you, I've got really bad anger problems also. Can't maintain any relationships with anyone. One minute I'll be fine, then I'll just switch. Feeling cynical towards the people that let you down because you feel like you don't deserve it, it's a never ending cycle. How old are you man?\\n\", 'Yo dude, about the no girlfriend/not being able to talk to girls thing, go check out /r/NoFap .. Seriously. Abstaining from porn &amp; masturbation for a few months and most of your confidence issues should shift drastically. Most people notice huge changes around the 2-3 week mark. Good luck!\\n', \"Benzos will save your life. Don't listen to the haters. Without them I couldn't leave the house for years.\\n\", 'The sad thing is... I do less than he does.\\n', \"This actually brought a tear to my eye. I'm so happy for you and your SO. Good luck with everything. This is a huge step for you both.\\n\", 'check this out, often comorbid with Anxiety disorders http://www.reddit.com/r/ADHD/comments/2rp74q/have_primarily_inattentive_adhdhave_a_bad_memory/\\n', \"I hope everything turns out well for you. As for me, I still struggle being out in public for a prolonged periods of time. Even going to the movie theatre would make me feel dreadful. It's a shame, because I really wanted to check out the movie since I enjoyed Star Wars as a teenager (and before I was crippled with SA).\\n\", \"Star Trek: The Next Generation, season 3, episode 21, 'Hollow Pursuits'.\\n\", 'Get over it, you are a loser like the rest of us. If you want to end it just stop being a fucking coward and do it bitch\\n', \"I agree with /u/FinnianWhitefir. Like you and he, I needed to know *why*. I entered therapy expecting/wanting a social anxiety diagnosis and got it, but it took years for me to finally understand and be able to work on it. Mine took root in childhood, but I was oblivious to the similarities and patterns. You've got a headstart because you recognized this early and on your own, I'd recommend seizing it with a professional.\\n\", 'I think you\\'ll get a lot out of therapy. Talk to 2 or 3 and find one you think \"gets\" you and also wants to make a plan to help, not just listen to you every week with no plan. For me, it was like I hated myself more each time for continuing to lose control, so when I lost control the next time, my anger at myself made my anger at others worse. Also, in some states, it\\'s illegal to cut your regular hours. Maybe someone at the state labor board can help.\\n', \"I'm in college now, but I'd like to become a movie director.\\n\", 'I did ecstacy at a big festival last night. By the time it had worn off I realized I was still dancing my ass off and being very social. It helped show me my true self and I plan on trying to bring it out this year.\\n', 'Yes, I got it too. Makes me not want to wear red in case it makes it stand out more.\\n', 'Bad self confidence caused by past unpleasant people and situations? It could be something in that. Anyway, you should tell that to some trusted person (a very good friend that you know can stand you beeing honest or parent) ... just somebody that is safe and it will be easier for you to talk about it and come to insights.\\n', \"Music never fails to comfort me when I'm down.\\n\", 'I\\'m the same. I\\'m currently working on a contract that ends in a few months, so I need to start looking for work, but it\\'s almost physically painful for me to try and look up jobs in the area. My brain literally screams \"no\" at me because looking for a job involves all the things I know I\\'m worst at: convincing people I\\'m a worthwhile investment, talking myself up, being put on the spot. Honestly, there is not much you can do. I\\'m looking to hopefully get some therapy (the only reason I haven\\'t up until now is because it\\'s so expensive). Other than that, you just have to push through.\\n', 'Maybe for those social events (family gatherings, parties) you could give phenibut a go? It honestly worked wonders for me pretty much reduced my social anxiety by like 80-90% and lasts all day so no need to redose. Did I mention that it’s sold as a supplement and is also legal? :)\\n', \"This is a great idea. I''ll have to do it myself. Happy new year and i hope things work out for both us\\n\", 'They are curious about you. Open up to them. Really tell them why. Then get curious about them. When you expose your vulnerabilities to people you give them permission to expose theirs. This is how you make friends.\\n', 'First week of dorms in University, at age 17. Lost contact with all of them by graduation.... 12 years ago.\\n', 'It is the lighter version, even worse when I get to know someone on the internet and I am scared to see their IRL picture or hear their voice. I am scared that my \"idea\" about him will change gradially, kicking me out of that moment of stable well-being and good feeling towards him. I personally never ever spoke and dont want to. I wont speak on any channel (like phone) whom I dont really know being scared for my social anxiety talking symptoms coming around. Hell, I cant even make a profile picture of myself.\\n', \"Isn't masturbation healthy?\\n\", 'Agreed with other poster, also though watch a video by Dr. Russell Barkley on ADD, you may be surprised.\\n', \"If living with your parents is stressful, I'd recommend moving out. You've been an adult for years, so you're not legally required to live with your parents anymore!\\n\", 'I heard about a study where people who had to do a public speech did better when they spent time trying to be excited and think of good ideas about it, instead of trying to calm themselves down and relax. So maybe you can ponder that, trying to be more excited over your opportunities than the anxiety? And while I realize that has a real low likelihood of working, my other suggestion takes a while. Therapy did a lot of good for me for these issues. Being able to practice being myself and speaking openly did a lot of good and I was able to take those skills out into the real world.\\n', \"im going through the same thing OP. made a throwaway to pretty much find a thread about this and post on it. but anyway i feel the same, youre not the only one feeling like this and ive been going to therapy for around 12 weeks now and at first it wasn't helping but now it is :) i sugest maybe finding a registered therapist to talk to this about. from my experience though, its not just personalties but also mood swings which i go through. if i feel in good mood, then my values and persona and attributes change but if im feeling lazy or demotivated then everything changes as well. i jus found this subreddit but ill be on it more often now. keep smiling kind sir :)\\n\", \"Hey, you wanna talk about why you're depressed or just about anything? It might make you feel a little better, my 21st wasn't that good either.\\n\", 'For me, less books and more practice of simple mindfulness: I learned to slow down my perception of time through detachment...acceptance of reality as it was and is. \"Mindfulness Practice\" is sorta tired now, or cliche, but the basics will work for a person if they are habitualized. Reading a book helps if you actually learn its methods and practice them, or even hypnotically engrain concepts, but it\\'s better to learn something basic and teach your brain to behave as you wish. The idea of mindfulness itself is simply \\'train the brain\\' in how Buddhist meditation is part of an 8 fold path to reduce suffering.\\n', 'I got really happy when I realised something like this today. My most recent bit has been telling myself Im a failure at everything and theres no point anymore, and I realised \"Hey, I didn\\'t kill myself so far\". And thats pretty good. To the point that I started crying somewhat out of pride in myself that I was still there.\\n', \"I know how you feel. I often feel that way to. I feel like whenever I say something that I think is important to me/concerning, people seem to chalk it up to my depression or my anxiety. It's very frustrating. I'm sorry that they make you feel that way too. I know it's not much, but if it's any consolation you're not alone&lt;3. Do they know that you are depressed?\\n\", \"Hi. :) First time posting in this sub. I'm 22 years, and though I've never been officially diagnosed, I am 99% certain I had social phobia when I was younger. (When I was 14, I could hardly speak to classmates I had known for over 8 years) I found out that there was something called social phobia/anxiety when I was around 14 or 15. Until then I had just thought I was a freak, and knowing that there were people struggling with the same things as me really helped. The thing I found that helped me a lot was finding something I excelled at. For me, that was drawing and music. As afraid as I was of having 1:1 interactions, I never had a problem with standing in front of a crowd weirdly enough, since I could rehearse exactly what I was going to do on stage. I played the violin, and got a lot of compliments whenever I played at school events. Since I drew a lot I got better and better and started to get compliments on that too. Finding ways to building up self confidence is step one to overcoming an anxiety! My biggest problem was breaking out of the mold I had made for myself. From the little interactions I had with my classmates, I had been categorized as the shy girl who always cried and rarely spoke. When people have preconceptions of you like that, it's hard to change yourself! In the end, although I had already started working on many things, any outward changes didn't happen until I changed school. I cut ties with all my old classmates and tried to think forwards rather than back. I was still nervous as fuck, but I got very lucky and met two girls who shared my interests! The first weeks of school was hell, and I left drained every night after forcing myself to walk over to these girls between class. After about a week I got so nervous that I didn't dare walk over to them again, but *luckily* they came to me instead. During the three years at that school I really developed, and my new friends helped me a lot along the way. But there is *no way* I would have done this way in my old environment. In a way, my new friends were getting to know me at the same time as *I* was getting to know me. On a related note, I find that going back to my old school makes me feel 14 again, and not in a good way. When I've bumped into old classmates I almost revert back to my more anxious self, just because that's the way that these people remember me as and so they talk to me expecting me to be the same. Your environment and associations have a lot to say about how you are going to behave. I find that what you are talking about in your post is what I was like in the beginning, but it will only take you so far. If you are always acting out a personality that is not your own, you'll not get rid of those deep-seeded insecurity. It's like pushing dust under a rug - the dust is still there! What I found works better is instead of constructing a personality, you should find things about yourself that you like and grow the rest of you around that. That way, when someone compliments you they are complimenting *you*. This is going to require some self-awareness. The first step is getting to know yourself and what you'd be like without the anxiety. Be self-aware, but don't fall into self-pity. I'm not going to sugarcoat anything. It's going to be rough, but you *can do it*. Also, be prepared for a lot of ups-and-downs. Though I don't think I'd qualify for social anxiety anymore, I still have good days and bad days, and on the bad days I'd rather not talk to anyone. There is no way to flip a switch to make it go away, but it can get so much better! Tl;dr: don't fake confidence, *get* confidence.\\n\", 'You aren\\'t insane. I finally got therapy after my bf died. I wouldn\\'t bathe for weeks. I was constantly crying and in bed. I thought i had gone insane. Turns out i\\'m not. &amp;nbsp; Get a therapist and some meds. The ups and downs won\\'t happen as often. I notice that if i stop taking my meds i get into that \"i\\'m a worthless piece of shit and should go play in traffic\" feeling a lot more. &amp;nbsp; You cannot be fired for mental illness. There are employment councilors that can call employers for you and talk about an illness if it\\'s that bad. &amp;nbsp; Stay strong OP!\\n', 'Today was my first day of classes, and I tossed and turned all last night, not getting a wink of sleep because I was worrying about this exact situation. And yes, I speed through it asap to get it over and done with and I hate myself afterward for seeming so nervous and weird. I am always so jealous of everyone else who can just do it without seeming intimidated at all. I wish more than anything I can be like them.\\n', \"You and I are on the same page. I hope we can fight off our demons and stick around for our families. I know it's hard. I'm sorry I don't have much to say. I'm feeling just like you are right now. Even though I know it's wrong.\\n\", \"I just became furious, internally, after a female cashier put a rubber glove on specifically to handle the credit card I handed to her (she didn't have it on before). She didn't say anything, and was looking away from me throughout the interaction, which made me feel like she was so disgusted by the way I looked that she had to protect herself against whatever diseases she believed I had. It was rude as shit and I stormed home and wrote about it and continue writing about it here and am feeling better. I assume you're feeling slightly better after writing this post. Venting is more important than people think. And the internet makes you vent with language, rather than physical violence. So, let it out with your words and don't hold back. Feels nice.\\n\", 'Thanks man, good luck with whatever you’re struggling with\\n', \"I'm sorry 2015 was bad. I've had a pretty rough year too. But I don't agree with your view on 2016. The crazy thing about the future is that we never know what it's going to look like. When I'm down, I like to watch this [Levi commercial](https://www.youtube.com/watch?v=HG8tqEUTlvs). Ignore the fact that they're trying to sell you stuff xD.\\n\", 'i have alot of empathy and understanding i guess lol\\n', \"I know its damn near impossible to stop but the weed habit has to go. Its messing with his mood. I recommend taking CBD if you can get that and also Lions Mane Mushrooms (Totally Legal) Chances are he needs to get laid! But I suggest maybe you start writing a daily gratefulness journal and reading it aloud to your brother. Who knows it might help him with his mindset. Above all just treat him nice at the end of it all you've only got each other. Maybe challenge him to do more push ups or exercise than you etc. Best of Luck\\n\", 'Sounds like you may have a substance problem. Try seeking help at a substance abuse shelter. Tell them your story, if they can not help you directly they may point you in the right direction for your area. Good luck\\n', \"Coincidences like this happening a lot over a short period of time can make us question reality a lot! Similar things have been happening to me where very unlikely events happen basically and it seems like everything has been organised and planned to happen as it does if that makes sense! I'd say it is very unlikely to be more than coincidence, but as a huge skeptic I wouldn't dismiss it! Maybe you have a gift aha, just see over time if it continues or try and find other people who have had similar experiences to you to get an idea. you're in the right place! There's a lot of weird phenomena that happens in the mind that doesn't appear to have an explanation but is reported all the time like astral-projection! Maybe we just don't understand the human mind and reality enough to determine how it can be possible, but it still very well may be. Try and consider other possible logical explanations for this, but I'd say just see if it remains accurate predictions over time that would be your best way to tell!\\n\", 'Yes yes it most definitely is\\n', 'This is awesome! Please send in my request __\\n', 'no, to my knowledge this is pretty normal. I get the same thing, and so do some of my partners. I believe it is just the sign of finding a really good soulmate...dont let go\\n', 'I assume you mean drugs of the illegal form? I\\'ve only ever experimented with weed, and if anything it makes me more anxious. Weed affects me very strongly. The first time I smoked I started hallucinating and threw up. I start getting the spins really bad after just 2 hits. Obviously that feeling is not conducive to normal interaction. I feel like an alien when I\\'m high. As for alcohol, yes, it does help me. I\\'m a very happy drunk. As soon as I start feeling a buzz, I\\'m just in a really good mood. A lot of my inhibitions disappear, and I\\'m able to interact more smoothly. That said, I still prefer to drink alone. Now for your third question, I\\'m not sure I entirely understand. You\\'re asking how I would feel about a girl who does not indulge in such substances, but I like her otherwise? That would depend a lot on how she felt about me, honestly. If she doesn\\'t care that I like some rum when I get home from work, I definitely don\\'t mind if she doesn\\'t drink. If she doesn\\'t drink and wants me to stop drinking, it wouldn\\'t be a deal-breaker. I don\\'t need alcohol or other substances to survive, I simply enjoy it. Maybe I\\'m a bit of a romantic, but I\\'d give up drinking in a heartbeat for someone that I loved. If I felt like she was the one, I would be willing to do just about anything for her. That said, I\\'m not the kind of guy that dates around. I prefer to wait for something meaningful. I think this has a lot to do with what you look for in a relationship. I am not a very good representation of \"guys\" as a whole. A lot of guys my age (20-25) just want some cute girl to warm their bed. I\\'m the kind of guy that will spend months getting to know you as friends before I decide if it\\'s worth the risk. I\\'m looking for someone to share my life with, someone that meshes with me, fills in the gaps. My greatest desire is someone that is happy to share the silence with me. I say all this to illustrate that I may not be able to give you the answer you\\'re looking for. I\\'m sure this wall of text is more than you were expecting, but I hope it helps to some degree.\\n', \"Mostly, which is why it's so dangerous for the social justice community to gleefully and viciously cyberbully people with OCD. I bet most of the time when a transwoman is doxed into suicide, it was because SJWs insisted that they were repressed. The most common attack that I've seen SJWs do on people with OCD is their psychopathic insistence that pedo hunters are repressed. People with POCD are already is a very bad state where they are convinced that they are pedophiles, and doxing pedophiles into suicide is their last stand before they kill themselves.\\n\", \"When you say you suffer from an inferiority complex, that is just one small part of who you are. Instead of feeling like your 'suffering' from this I hope you can exist without that guilt weighing over your head reminding you your not worthy.\\n\", 'Get a job, and find a friend or roommate you can move in with. I see that the major problem has to do with going back to your hometown, so go somewhere else. Once you do, life will maybe look up again.\\n', \"Think about the fact you're getting laid and they aren't don't be worried.\\n\", '#4 oh my holy hell, why do they make you do that shit? I don\\'t think *anybody* likes doing that. Damn, just send around an email with all the pertinent information. (Email, email for everything!) And #11? It got so bad for me that I just started opting out of that shit in high school. The teacher was so confused, \"But ... I\\'ll have to give you ... a zero?\" Fine, whatever you have to do, Mr. Romoff. Then I would have to bust my ass so all those zeros wouldn\\'t bring my grade down too far, but it was so worth it.\\n', 'If you need someone to talk to, hit me up. This year was hard on a lot of people. Stay strong.\\n', 'The most important thing is that you did it!\\n', \"Buspar has worked wonders for me, it's cheap, and doctors are far more willing to prescribe it than benzos.\\n\", 'All I can say is that practice makes perfect and if you are willing to keep trying to get through the tough times it does get better so keep at it and best of luck\\n', \"When you have been over the relationship for a while, it's not uncommon to not have much of an emotional reaction. It could be grief or you could just be emotionally ready to move on.\\n\", 'I drive cruise ships for a living. Terrible job for it! Lots of cocktail parties, hosting lunches, crew parties, speaking to people you never met, awkward meals etc etc. My anxiety started when I was at sea, I think due to stress and tiredness. Luckily I only have it mildly so I can deal with it for the most part! Sorry to hear about your bad year. My only advice would be to join the gym. If you get over the first few awkward sessions and find a good routine it is addictive and readout changes you as a person and gives you purpose. Good luck\\n', 'loneliness is shit, can i ask you age and gender?...just to see whats up, maybe not what i am going through but you never know eh\\n', 'Another year expecting things to change and feeling isolated and alone as usual. someone just please make this stop....\\n', \"Got mad at my mom when she borrowed my car leaving me stranded at home for hours, wasting my weekend, and then she didn't even bring me the food she promised she'd get me. The frustration and hunger boiled over and I punched a glass clock and had to bandage up my hand.\\n\", 'Talk to someone you trust. Like your family or friends. That’s helped me a lot. And just being distracted by work and stuff keeps my mind away from negative thoughts\\n', 'Small challenges to how you think things are. Pushing yourself in small ways. Push to a point where you get butterflies, do it then learn from it. As new pathways in your brain open up you will become less anxious at certain things. For instance, I could never go to the cinema. So I pushed myself to go to a quiet showing with one person. I let myself know it was ok to leave. Repeat this process until it becomes fixed in your brain. I took me years but it is the only thing that works. CBT or talking therapies made it worse for me, they focus on what goes wrong and the source of anxiety. I focus on the facts and a system.\\n', 'Had to login to comment. I thought I was the only one but it seems my predictions appear a lot less than yours. Mine are quite rare, but regardless I can tell you I can feel the future events somehow. But these events would only happen recently as such in a span of one month max. It seems human conciousness has some way to do this. Actually, in my opinion think the responsibility lies on brain being capable of caltulating the future somehow through maths. Are you good at math?\\n', 'PM me too\\n', 'You get into some therapy, as you need an objective third party to help guide you through this. But a bunch of random things: This got tons better for me when I read up on Stoicism. Particularly http://www.amazon.com/Art-Living-Classical-Happiness-Effectiveness/dp/0061286052/ref=sr_1_1?ie=UTF8&amp;qid=1420444904&amp;sr=8-1&amp;keywords=the+art+of+living really helped me just accept that whatever happens, happens. You\\'ll have ups and downs and none of them should really affect you feeling bad in whatever you are about to do in the future. It helped to read http://en.wikipedia.org/wiki/Splitting_%28psychology%29 as I used to constantly go \"If only I had done X instead of Y, things would have been perfect\". But in reality, doing Y could have made things ten times worse, for all I know. There\\'s no reason to regret that mistake, because not doing it could have caused something much worse to happen. But the secret here, given your quote of \"My parents are really pissed and they are making me\" is that you are probably used to it and it\\'s normal. I guess they over-react and raise drama whenever a mistake is made? And this leads to you obsessing over them and only feeling valued when you are perfect? It took me some therapy to break out of that and realize how toxic it was, how I should be happy being my own person, and other people shouldn\\'t be forcing themselves on me and making me feel bad. Now I just kind of laugh when my parents get mad, and I keep doing whatever it is I most want to do at the time. If they want to be angry people and live a bad life, that\\'s on them.\\n', \"Are you able to get any medical help through the V.A. please don't stop writing, you have a rare and wonderful gift. I would love to read a volume of your short stories. Please don't give up, I am a fellow sufferer of depression and ptsd. I promise it will get better. Sending good thoughts\\n\", \"I've never traveled out of the country but I have flown with meds before. As long as I had them in their original containers, all was well. Like frunchy said, cut them ahead of time, but, best to leave in original container :) Safe travels!\\n\", \"Suicidal ideation is grounds for being admitted to the hospital. Some don't like the hospital, I'm okay with it but I can see how it might be scary the first time. If you don't want to go in, there should be a mental health clinic not too far from you. You can find out about them by calling 211 or a suicide hotline should know the resources available in the area too.\\n\", 'You are not hopeless. Two of my closest friends have received this diagnosis, and while initially quite daunting, is not a reflection on you as a person - rather, it should give you some indication as to how your brain works. Google is your friend in this case, seeing as you have been left without information. Are you on any medication for your BPD or anything else?\\n', \"As I don't know if you have a therapist I'll try to cover what I've learnt from my own experiences: Get a therapist (cognitive, definitely not a psychoanalyst in your case). Stop drinking coffe and any caffeinated drinks (anything but herbal teas, coke/pepsi, energy drinks). Staying away from drugs and alcohol should be a no-brainer. Start working out if you're not already. This should lower both your anxiety levels as well as improving the quality of your sleep. It's the endorphins you're after, so long workouts are best. 45 mins 3 times a week of continuous running/fast walking for instance. It's hard to give anything more detailed without knowing your physical condition, but most gyms will offer to make a workout suited to you at a reasonable price. Different types of meditation could also be an idea. ACEM-meditation is a non-religious method that has been proven to reduce stress levels as well as improve sleep quality. I'd have a look at their homepage to see if they have any instructors in your area: http://www.acem.com/acem_sites/acem_com/the_organization The more classical schools tend to focus on concentration and exploration of the mind and/or religious ideas. While I'd recommend ACEM for you, there are some tricks regarding concentration that can be helpful during an actual anxiety attack. It is possible to block out what's in your mind and only experience the physical symptoms. I do this by focusing intently on a small piece of a melody or any constant source of sound that can distract me (a mantra of sorts I guess). You also want to try to relax as much as possible while doing this. Slow down your breathing as much as possible at the onset of an attack and try to find something to occupy your mind. Your mind is trying to rationalize an irrational fear which is why things around you or in your mind can appear to be the cause (they're not of course). Try to maintain a sound sleep schedule. Looking into other causes of bad sleep with a physician could be a good idea. Also be aware that some physicians tend to prescribe medication out of the blue. Without me being qualified in any way to comment on this, mine said you'd want to avoid that for younger people as much as possible. I'd discuss it with a therapist (psychologist) and ideally a specialist (psychiatrist) over a general practitioner if it comes to that. edit: Make sure your don't go around hungry. Low blood sugar heightens the risk of anxiety attacks. Don't eat big meals before you go to bed, but make sure you don't go to bed hungry. Gaming has helped me quite a bit getting past the roughest patches. When I'm been at my worst I play games on one screen while watching a easy to follow show on the other screen or just one really immersive game. Just don't get too much bright light (screens) the hours before you go to bed.\\n\", \"These are examples of intrusive thoughts and they are definitely normal. Most people experience them at some time or another (e.g. http://jonabram.web.unc.edu/files/2015/01/IITIS-Part-1-2014.pdf). If they're causing significant distress or if they are interfering in your life (e.g. you've stopped leaving the house because you're worried about actually kicking a stranger) then it might be worth speaking to a professional about them.\\n\", 'Usually it\\'s like quiet and shy people give off a bad impression on people and end up getting bullied just for being how they are. I\\'ve struggled with that since middle-school and it\\'s why I have become such an avoidant person. People end up hating me without me even doing anything. It\\'s the passivity and low-energy that I think other people find toxic. They sense uncomfortable silence around me and it starts to irritate them. Too bad how normal people are always so spur-in-the-moment and will tell you something like \"You\\'re too quiet!\" or \"Don\\'t you have a life?\" and don\\'t realize it really hurts when you\\'re in this position. I\\'m not quiet because I actively choose to be, dammit. Every time I think of how I\\'ll deal with an anticipated situation I\\'m always outgoing and talkative in my head, but then I get there and I\\'m just a dark cloud.\\n', \"Did you tell your parents you have depression or just that you were feeling sad all the time? My Mum didn't really empathise until I told her I was depressed\\n\", 'I was gonna do that on New Years. Jump off a building alone.\\n', 'Sounds to me like you need \" Dialectical Behavior Therapy (DBT)\". It\\'s a form of therapy that focuses on changing behaviors such as: Mindfulness, Distress Tolerance, Interpersonal Effectiveness and Emotion Regulation. Please research it. http://psychcentral.com/lib/an-overview-of-dialectical-behavior-therapy/\\n', 'Amazing!\\n', 'Hugs for you.\\n', 'You say you give lessons to a group of people:one thing you could try to do is focus and look more at the rest of the people;not in an impolite way towards him,obviously but try not to focus too much on him because it distracts you and makes your thoughts go crazy. Second of all,try to not see him in a sexual/romantic way,just look at the dude like he\\'s your friend or a normal random person on the street that you make short talk with. The fact that you\\'re being attracted to him makes you have certain expectations of him in your head(like being with him,a kiss,date,anything),therefore causing you to be awkward and shy because you want to look good in his eyes.Try to not stress it too much and see him as just \"a guy\".\\n', \"I'm looking as well. Preferably for something free or very cheap. I don't want to have to pay $250 for a course irl but I will if I have to.\\n\", \"awesome! i don't think i could do it haha..\\n\", \"Only if you think it is. I'll show myself out...\\n\", 'Same to you! :)\\n', \"It's possible it's nothing more than denial. I don't feel like the other deaths are examples of this being who you are or how you deal with death. If you've only texted and talked to ppl related to this loss and not seen the loss face to face, it could be maintaining an emotional distance. Obviously, I don't know anything but I have felt this way before and after some time, found myself wrecked. Denial and keeping a distance are excellent ways to avoid feelings.\\n\", 'Hi /u/juneid1, Unfortunately your submission has been removed for the following reason(s): Rule 4: Personal views and beliefs Posts linking to /r/nofap or other \"miracle anxiety solving\" subreddits or websites may be removed. Users constantly linking them in the comments may be banned. Religion is not an answer to everyone - if a poster mentions they are another religion to you or atheist then respect their view. Constant commenting like \"have you considered finding God?\" may result in a ban. No posts encouraging drug/alcohol use to minors. Comments may be removed and users may be banned. /r/nofap, no-porn, etc views arent really a way to stop social anxiety or a complete solution. If you feel this was removed in error or are unsure about why this was removed then please [modmail us.](https://www.reddit.com/message/compose?to=%2Fr%2Fsocialanxiety)\\n', 'Never really thought of the two being connected but I definitely relate. Along with my SA, I get anxious from intimacy (before, during, and after). This has ultimately altered my sexual performance and has caused strain in my past relationships. I\\'m definitely submissive and the idea of a guy being submissive in a sexual relationship is (wrongfully) looked down upon. In past sexual relationships I\\'ve managed to get lucky and find myself wrapped up with women who took on a more dominant role or at least realized that I wasn\\'t going to go ahead and do it. Eventually certain relationships would take the direction of completely emasculating me in the bedroom with the underlying pretense of it being \\'play\\'. This was comforting because I knew the things she was doing was not in direct response to my performance or what have you but it was a response to the assumed role that we had delegated ourselves. There\\'s probably a lot more to it; self-confidence issues, lack of dominant figures in my life otherwise, the void developed from the lack of control one develops when suffering from anxiety and having someone you\\'re emotionally and sexually attracted to fill it, etc. &gt;other times I think perhaps its only reinforcing the underlying cognition of the social anxiety, and feeding me with negative energy. This is something I can relate to as well. It might be nuanced for me because I don\\'t really watch humiliation porn but there was an instance in the past of having a girlfriend dominate me emotionally and physically. After the act I was extremely upset and jarred because she was really going in on me and identifying key parts of my psyche to hold control over and tear down. We had talked about it afterwards and kept it more light, me still being submissive in the bedroom. All in all, it\\'s not something I\\'m particularly embarrassed of. I\\'ve managed to quell the need for humiliation by also quelling my underlying anxiety. It was nice having the visage of \"this is all just play\" established before stepping into the bedroom. I\\'ve managed to become more open with my partners and humiliation doesn\\'t really play that huge of a role anymore (even though it\\'s definitely still a fetish of mine and when all is said and done I\\'ll always be a more submissive person in the bedroom).\\n', 'My uncle developed schizophrenia when he was 48... Developing it when you are 27 is possible. Do not listen to Hazc. I developed the disease when I was 20... It is completely possible that you are becoming a schizophrenic. I recommend starting an antipsychotic, Specifically Latuda as it does not have any weight gain as well as taking sarcosine. The quicker you get on a medication the better you will be long term.\\n', \"Yea, one time I got so angry that I had a flash of murdering a person right then and there when my eye caught sight of a kitchen utensil in the area of the argument. I saw an entire, grisly scene of myself perpetrating unspeakable acts of violence and was truly terrified by my capacity to even think of such a strange series of events. Still a weird memory to reflect on today. I do have guilt though when I recall the acts I was an arm's length from committing, The other poster has good suggestions. I used to take better care of myself and never got rage like that when I did.\\n\", 'For many of us, life is just one never-ending bad day. Every next day day the same as the last.\\n', 'Definitely not sad, it\\'s great! Family is important and I\\'m sure your gran appreciates spending time with you. I\\'ve never seen a 28-year-old with parents/grandparents and thought \"that\\'s weird.\" If anything, being with your family is the most normal occurrence ever.\\n', 'I didnt really read the post sorry. But if u cant even remeber ur name and shit like me see if u have adhd, I hardly remeber my name I cant even fucking spell because who gives a fuck.. really. haha honestly you have a girlfriend she most like u to be dating imo I would just keep doing what ur doing ur making her happy. And trust me life is faliure since i was born\\n', \"Don't fold your arms and keep your head up. Two easy things that really improve the way people perceive you. I used to stand with crossed arms when I was a teen and my brother said I looked angry and unapproachable. Now I only told my arms if I want to seem unapproachable or if I'm cold. It definitely makes s difference.\\n\", 'Same here :(\\n', \"I was probably around that age or younger, maybe 8, and I remember one day I was in the car with my dad and someone was tailgating him. The funny thing is I remember EVERY single thing that happened, I am now 20. He got out of the car, went to the guys window and screamed if he ever got that close again he'll break his fucking neck off, then came back into the car like nothing happened. These little situations that come out of a result of a blistering anger moment like this, can really etch an image in your son's head. You really don't want to have your son remember this picture of you, try to remember that you want your kid to have the best image of you, of what you are supposed to be, a loving father. First things first please do say sorry and do your best to correct that image of what had happened.\\n\", 'Good luck my friend.\\n', \"I'm not sure if that's just typical sensationalist media, or if that's how people really think of anxiety attacks- but I definitely would not consider that a melt down.\\n\", \"Hey, I'm really sorry to hear that. I've been through a similar experience, and I know it's cliche to say this, but it does get better. On Dec. 31st of 2016 I started dating this girl named Ray. I loved her with everything in me, and would do anything just to keep her happy. She was my everything. Sadly though, a fell into a very dark place during the last month of our relationship. Things at home (btw, we weren't living together yet) were getting really bad. So bad in fact, that I almost ended it. I didn't know how to handle my feelings. I had no one to go to for help. I was getting ready to enlist for the military, and I was afraid I'd I did turn to someone for help and the military found out, they'd never let me in. So I was stuck. I didn't want to tell Ray what was going on at the time because I didn't want her to worry, and I could see that it was torturing her because she couldn't help. Since my sadness was also making her sad, I ended it between us. I also ended because I honestly didn't think I was going to be alive for much longer and I didn't want her to have to go through that. Fast forward 9 months later and it's Decmber of 2017. Everyday after we broke up, I thought about her. I still loved her, but the friends we shared says that she didn't feel the same way. Plus, I still felt guilty over the whole situation. I wanted to be with her again, but I knew it wouldn't be the same. I was like you. I wanted her back badly, and when I found out she liked someone else it killed me. I too asked myself when the thoughts would end; about when I would stop thinking about her every damn day. That December, I decided to write her a letter explaining everything. To my surprise, she wrote back. She positively told me that she understood everything, and at that moment I finally received closure. Now I'm okay to be honest. I don't think about her anymore unless I have to, and I don't talk about her with any of my friends anymore like I used to. What I think you need is closure, too. I couldn't tell you how to get it because it's honestly up to you how you get closure. I just hope you have the best of luck with it, and I hope I've helped on some way. And about the anger side of things, try some exercises to call yourself down. I too have some pretty bad angry fits at times. I run on a treadmill when I feel upset, and I've also picked up some new hobbies to keep my mind off of the anger when it hits (guitar and wood working are the hobbies). I've also read that yoga and meditation help pretty well also, so maybe you could give those a try. If those things don't help, see a doctor about it, or at least call a clinic/hotline and talk to someone about it. Good luck to you, and best wishes. :J\\n\", 'You are a little bit paranoid, just like myself.\\n', \"What's your twitch name?\\n\", 'Do it, is better than laying in bed felling like shit\\n', \"I did this last year and thus started he worst year of my life. This year I aimed to just not feel anything and kept telling myself it was meaningless superstition or whatever to focus on what you're doing on the turn of the new year. I felt myself almost crying but succeeded in distracting myself with funny shit on the tv. It's just another day. It doesn't matter.\\n\", 'Take a beta blocker before your interview\\n', \"Print your post out, contact your physician tomorrow and take it to her/him. If you don't have a physician, contact a local hospital and ask what mental health facilities are in your local area. Phone them next and ask to schedule a psych screening (this does not mean you are 'crazy'!). If you are uncomfortable with this, look for a therapist (preferably a nurse practioner --- someone with a good understanding of both sides of mental health. i.e. brain chemistry and behavioral). Set up an appointment and speak with them as soon as possible. If you feel as though you are a danger to yourself, be up front. If there's any time in your life to not pretend to be stronger than you feel, now is it. The end goal here is not to have yourself committed for observation, request for drugs, etc... but to have someone assist in evaluating where you are emotionally and what the best course of action is. I understand what this is like. I live with it -- and have had to do the above myself. Good luck. Reach out if you need to talk.\\n\", \"And to think 2013 started so promising for me, now I'm in the same boat as you...I hate this time of year.\\n\", 'Just wanted to share how similar our stories are. Overdosed on citalopram in January last year, currently on fluoxetine and feel a lot better but still not perfect\\n', 'I\\'ve felt this way for the past month or so and its a difficult feeling to shake. I keep being told to find hobbies or focus on things that make me genuinely happy but I find those \"things\" to be few and far between. I hope that the clouds lift from atop of your own mind and that you find joy and comfort in daily life very soon. I\\'m sorry I don\\'t have more words to offer, but know that you aren\\'t going through this alone.\\n', 'I once sent a bunch of emails where I expressed myself in details... I wish I hadn’t.\\n', 'I know how you feel. Years of effort just to get close with each other and everything just ends in a few seconds. It hurts like shit.\\n', \"That sounds like a very good experience. I spent this NYE with a bunch of friends and strangers. I have never had more fun in my life. It certainly beats last year when I waited to see the fire works through the bedroom window and fell asleep. Ditto the year before. I'm spending 6 months traveling across the US and reconnecting with old friends now. This is partially to force myself to completely get rid of my sa.\\n\", 'you know what\\'s fucking depressing you are explaining my life i fucking hate it so much how people get to have so much in life and we can\\'t get shit can\\'t do shit i never had a friend , prob never well i\\'m MR awkward you come talk to me everything is awkward , i haven\\'t reached the suicide lvl yet , it sucks i don\\'t know if i ever gonna get married or have friends or even go to work i\\'m 18 right now it\\'s just unfair , but i had a though to suicide and actually held the knife and cried a little bit when i was 14 but i didn\\'t do it and i never though about suiciding again i\\'m consider an \"adult\" if i can give you advice brother cause you and me have maybe the worst fucking disease in human history , having everything but you can\\'t use it , just everyone is enjoying and living and you don\\'t so why kill yourself and let them fucking enjoy ? i have so much bad stuff it\\'s not like social anxiety alone i have almost the worst senario , having my cousin at school they i grew up with watching him talk to his friends and i don\\'t care about that but the worst part when he see me alone and i try to hide i try to do so much , ah 4 months to go and i\\'m out of this hell but you know what man i\\'m not older you are prob older than me , but seriously if me and you ever met i don\\'t think i will be afraid of meeting you , maybe i changed my mind once i do , but that won\\'t happen cuz i\\'m living in a shithole country anyway i wish you luck in life and sry for my shit english\\n', 'What about alone and sober? :) Happy New Year!\\n', \"Believe it or not, I have been where you are. For a month and a half I hardly went outside, I had broken and was too scared. If it wasn't for the two dogs that needed to be taken outside (I lived in an apartment), I wouldn't have left at all, and even then I only went out at night when I knew the complex would be empty. Is there anyone you feel emotionally and physically safe around? Someone whose presence eases you a little? If so, give them a call or text. Tell them you're not doing well, give them however many details you're comfortable with, and ask if you can go somewhere together. Maybe just drive around town. Maybe a park, lots of open space and fresh air, and (if you have the right park) not a lot of people. Just getting beyond that door will do you a world of good. If you need someone to listen I'd be happy to help. I know how lonely that is. You'll get through this. *internet hugs*\\n\", 'No wins for me. My crippling anxiety and depression worsened. I have suicidal ideation weekly now. I go to bed each night picturing what the people around me will think when I die. Thinking about 2017 makes me want to vomit. I have to drop out of college soon too.\\n', \"we don't know anything about that shit.\\n\", \"She's right. You need to talk to someone. I don't see any remorse for what you did in anything you've said, it's all about you; even the talk of suicide would only 'solve' your problems, but make everybody elses worse.\\n\", 'Hey. I know it seems like your life is always going to be this shitty. I understand that. But trust me, as someone who has gone through it, life usually gets significantly better after high school is over. The rest of your life will be nothing like it. Even college will be different. And try not to think about relationships too much right now -- most romantic relationships before your mid-twenties are kind of crappy. Spend as much time as you can on developing *yourself*, and finding out who you really are, not the drama involved in dating. As for cutting, I\\'ve also been there. I\\'ve been \"clean\" for about two years now. Starting was one of the worst things I ever did. It\\'s terribly addictive. Even when you\\'re feeling good, you\\'ll want to cut. Then, before you know it, you have so many wounds that putting on clothes hurts and you have to put in extra effort to hide your skin. The best advice I can give you is just don\\'t start. Quitting self-harm is really, really hard. Are you see anyone for these feelings? Do you meet with a school counselor or therapist? That might be helpful for you.\\n', \"For relaxation, I like to take long walks outside, usually in parks because they're nice and peaceful. To help combat my anxiety, I would go to crowded public places by myself and force myself to stay there for a few hours, so like malls or super crowded coffee shops.\\n\", \"What kind of jerk does this? It's like he got a tax break for doing it before the end of the year or something.\\n\", 'Have your doctor first give you a physical to rule out an organic reason for your distress, such as thyroid and/or a vitamin D deficiency. Then ask your doc for a therapist referral.\\n', 'Cringe.\\n', \"Take care, don't overdo it!\\n\", 'Watamote is the poster child for SA!\\n', 'What can I do to help you?\\n', \"If you feel like really doing it, or need a caring soul – call a hotline. Don't even question it, just call. If you can't call, get out among people even if it means wandering the aisles at the only Walmart open all night or sitting in a booth at the Awful Waffle at 2 a.m. This sounds like suicidal ideation, rather than feeling actively suicidal. I went through many, many years of this feeling. I didn't want to kill myself, but suicide, death, and dying were very frequent, prominent thoughts. I'd also wondered what it would be like to do random hurtful things, like put my hand under a running lawn mower or drive into a median. (Do not do these things.) Sometimes I'd indulge the thoughts, other times I'd be scared that I felt this way and just knew I was crazy, feared I really could do something terrible on impulse one day - lots of anxiety and what ifs. After getting trauma therapy and medication that worked properly for depression and anxiety, I realized I wasn't crazy, just not well and needed the right help, and had my own work to do. If you're able, please start seeing a counselor and be totally honest and open about everything. If cost is a deterrent, ask about counselors who do pro bono or sliding scale work. If that doesn't pan out, start sitting in at support groups for depression, anxiety, grief, OCD, trauma - anything that seems like a reasonable place to start. (I strongly recommend this anyway) Tons of churches offer support groups if you can't find one that's close and not spiritual. Don't be put off by the religious aspect right off the bat if you're not into religion, because a lot that I've attended aren't pushy and (as with everything) you can take what works and leave the rest. If there's been substance trouble or abuse in your life or a close relationship, other good support resources to look at are Alanon and AA. I'm throwing a lot out here, but I'm thinking of addressing the reasons why you feel suicidal and off. That's the root cause you'll have to untangle and heal when you're ready. That's how it worked for me :).\\n\", 'I, too, would start to like any guy who showed an interest in me. I have definitely gone through the same thought-process as you...wondering if I really like him or if I only like him because he likes me (or if I\\'m settling). I am so happy to see that this happens to other people. I have spent ages 15-24 doing this. I thought I would NEVER find someone. I will tell you, though, it gets better!!!! I am 26 now and finally found my \"one\". It sucks that we are like this (with the social anxiety and all) but I am so so happy to see that I am not the only one who goes through this. I thought I was a weirdo and my friends never understood why I would do this. I promise, though, that things will get better! There is someone out there that will be perfect for you.\\n', \"That's one small step for mankind, one giant leap for a person with social anxiety. :) Congrats!\\n\", \"I've dealt with anger since the very beginning. At first they were just tantrums, but by the time I was 12 it was full on hate and anger. I can tell you that there is no one way to deal with anger, as it all depends on what triggers it. That being said, what triggers your anger, friend?\\n\", \"I had a similar problem in the past. Everything seemed to set me off, but then my son gave me this book on anger. I'll see if I can find it and edit in the title later today. But the jest of the book was one central point... Anger is a choice. You choose your reaction to everything. There is that split second between some stimulus and your reaction where you decide. The choice of anger can become habit forming and like most habits hard to break. But you need to be considering the alternatives and sometimes (more likely most times from my experience) choosing a non-anger reaction. This doesn't mean you can never make the anger choice, but with most situations, it doesn't help anyway. A typical non-anger choice for conflicting situations might be to ask the other person why they would do or say such a thing. Sometimes it is just to walk away. This won't be easy, especially at first, but you will learn to catch that moment of choice and learn that alternatives are available. Now that I've learned how, I feel so much better, and can even chuckle when someone says something that would have triggered me in the past. Good luck.\\n\", \"That's how I felt at the party I was at. You're not alone. Sigh.\\n\", \"&gt; I have to tread so carefully to avoid drawing any sort of attention to him, or to avoid putting him in a situation that he might struggle with. I have to be alert, all the time, and plan every meticulous detail ahead of time, to make sure that he doesn't feel threatened. I'm so exhausted it's beyond description. I do everything, because he usually can't. I know he's not being lazy, and I know he's just hiding away from everything because he doesn't feel strong enough to face reality, but it's still really hard to watch him sit around all day playing video games while I do all the cooking, and the dishes, and keep the place as clean &amp; tidy as I can without setting him off, and work/attempt to find work (I had a job before we moved), and meal plan, and do all the grocery shopping, and stick to a budget, and still be ok with it. I don't mean to be rude but that doesn't sound like social anxiety to me. More like 'intensely lazy', 'rude' or 'manipulative'. Wasting his life by just playing video games, and not doing chores and finding work goes beyond the scope of social anxiety, and just uses it as a mere excuse. Just my own opinion.\\n\", \"My week has been awful. I've basically moved through all of my days like a zombie, feeling like I was half-asleep the entire time, and letting my depression get the best of me. My week would have been better if I weren't cooped up in the house the entire time, but I wasn't able to do my usual volunteering (due to it being a holiday week), and my parents don't like to give me rides when I'm not supposed to be volunteering. I also made the mistake of weighing myself one day, and I saw that I've gained 6 lbs, which has been solely due to all of the snacking I've been doing, and that just makes me feel even shittier.\\n\", \"Sorry that happened, but I'm proud of you for not taking it too far.\\n\", 'Lets all just take a moment to appreciate the existence of cereal.\\n', \"God it fucking sucks, especially today when you realize how you've been alone like this for your entirety on earth. I just wish I could find one special someone to spill my heart out to, or something. I feel like we all have to go through this alone and we'll never see each other so all we have is our thoughts and the things we read.\\n\", \"I've definitely been in your shoes, and have now reached a point in my life where I have great friends whom I love, so there's hope! One thing to remember is that many people, even those who are very outgoing, go through periods where they feel alone and like meeting people is difficult. Try to remember that this is just your situation right now, and it doesn't define who you are or who you'll always be!\\n\", 'Thank you for having the courage to write this.\\n', \"It sounds like you did very well. 6 dates is very successful so don't put yourself down. I joined OKC 3 years ago when my SA was at its worst. Met someone and was with them for 2 years. It's a long story, but it was my 1st love and I was their 1st love. Other guys messaged me, but what made my ex stand-out was that he had interesting things to say, as well as ask. I think you should message one person and stick to getting to know them online. Then over the phone. Once you're comfortable enough talking on the phone, set up a day to meet. It may or may not go as planned, but you will know before hand what the person's intentions are without having to go on a date. Good luck. Don't give up.\\n\", 'Stayed at home, ate pizza, hung out with My SO and our kitten. Also watched Magnificent 7. Perfect anti social night.\\n', 'this \"People become attached to their burdens sometimes more than the burdens are attached to them\" -George Shaw\\n', \"I turn 26 in April this year and haven't ever been in a relationship. So don't feel bad. Though i have kissed a girl. (it was more circumstantial than a relationship thing.) She never kissed a guy, so i offered.\\n\", 'I would only discuss something like this if they had brought it up and/or felt comfortable. I think having these opinions can be thoughtful and healthy but sharing them in the act of “calling someone out” is only going to further and worsen the relationship. Not that your wrong for thinking this way or would be for saying anything. say an addict whos using and or harming themselves or others I think at that point its important to talk to someone but remember to do it from a place of love and care because chances are thats why they feel the way they do in the first place is because of emotions running high and tense.\\n', 'Happy new year!!!\\n', 'Look up how to edit your Facebook security settings so that you can screen everything they send to your page before it appears.\\n', \"Thanks. I've also sought help recently for childhood sexual abuse as a male. I've had two sessions but I'm not sure how I feel about them. It's mostly just me talking to the therapist with virtually zero input from the therapist. At this point I'm not sure if it's normal of if I'm getting ripped off.\\n\", \"I know a little bit about this one. What stuff is going on in your life right now? A lot of times, people will inflict self-harm on themselves because they see it as something that they can control in a world where they can't control nearly enough. In the mental health Olympics, there are no winners-- whatever is going on that makes you want to hurt yourself is a reasonable enough reason to have a hard time. The friend who helped me understand my self-harm issues had the terrible experience of being raped. I was upset with my job and struggling to find something new-- there's no judgement for whatever you're facing, big or small.\\n\", \"That's sweet. I hope your New Year gets off to a good start as well! :) Mine's pretty great so far. I spent the first half of the day sad that I woke up too late to get anything done, but now it's turning out to not be so bad after all.\\n\", \"I'm so happy for you, telling a stranger about your anxiety takes massive balls, and it probably made you much more comfortable afterwards :)\\n\", 'Here’s to seeing this post next year!\\n', 'One thing I want to add is that our language (and really all languages) constrain the way we think; words are finite when life is anything but. \"Social anxiety\" has such a strong connotation to it, personally I try not to think how \\'bad\\' my SA is and in turn it almost goes away completely. There\\'s a great book that helped me a lot when I first realized I had SA, it\\'s called \"The Wisdom of Insecurity\" by Alan Watts. He talks about this for a chapter, I recommend it to anyone who wants to improve themselves.\\n', \"I don't believe so. I'd say in some cases it can be, maybe even most though.\\n\", 'If you dont find the right person to talk to here, you could check out 7cups.com for someone to talk to.\\n', \"I'm sure your looks go much farther then your weight alone. I'm not a bigger man, but being a ginger with a completely screwed up set of teeth and a past of getting picked on heavily I feel like I can try and relate. I don't wanna say I know how you feel, because maybe I don't, but I'm certainly in the same ocean as you. Even if you don't lose the weight, I'm sure there are some amazing features to you, maybe your eyes, or better yet, your mind?!\\n\", \"I go through periods of this that last quite a while. Then periods like now when I'm kind of emotionally flat. Still suicidal thoughts and depression, but not feeling like crying every second. In fact when I do cry, it actually hurts and feels like it's being held back. Happened today. I couldn't get it all out. I didnt even get that feeling of relief or whatever you get after a good cry. Just a brief, 5 minutes of painful tears that felt like they were almost being torn from me. Then nothing again.\\n\", 'I can totally relate to what you\\'re saying. Small talks are definitely essesntial for starting a conversation with a stranger or a person you\\'re less familiar with. But I can\\'t say them, it feels silly and awkward. And you have to be funny or interesting too, fuck that! Usually, it\\'s the immense pressure to start a conversation that causes much of the anxiety in social situations. Also, the word \"Boring\" is quite subjective. While some (including yourself) might find you boring and there may be others who might find you interesting to talk to.\\n', \"Yes. I used to do this a lot. I think it was because I was so uncomfortable with myself that I wanted to constantly put the spotlight on others. Do you think you might be trying to deflect your uncomfortable feelings to others? I think I also didn't like some things about myself so I would point out those issues in others. This was all subconscious at the time, but years later I see it. :/ I think what kind of got me out of that habit is a few people stood up to meet and called me out on my behavior. I was pretty ashamed. Since, I tried to just slow down and watch my thoughts. That way I could catch myself before I said things I regretted. It still happens from time to time, but pretty rarely.\\n\", 'I know this is meant to be funny but check lists of the most mundane \"easiest\" things help me when I\\'m at my most anxious, lack focus etc.\\n', 'Go out and try to talk to someone. Then post the results.\\n', \"Not get through, live through buddy! If you can afford to, take up a new sport or activity this year or join a club. I'm gonna buy a telescope on my next payday. I can look at stars in the middle of the night whilst getting drunk; two things I love doing!!\\n\", \"The fuse takes practice. Everything you are doing to be aware of your mood when specific things happen and the exact things that trigger you is time well spent. So be sure to cut yourself some slack and try not to get mad at yourself for getting mad, if you know what I mean. You're working on it, so if you get mad, replay what happened and ask yourself a few questions for the immediate thing that just happened and you got mad. These questions are for whatever just occurred and made you mad (not a historical or lifelong analysis - literally, what just happened in the last five, ten twenty minutes - really try to delineate specific events and emotions as they played out): * When exactly was it that I first started feeling strong emotions? * What were those feelings and was it something someone said? * What assumptions did I have that made the emotions start escalating? * Is there a story that pops in my head that makes me defensive or feeling like I'm being judged? What is that story and is it realistic? In anger management books, anger is often called a secondary emotion because it comes after another emotion is stimulated. As an example, when someone criticizes you at work you first might feel affronted, shame, guilt, defensive, all kinds of things come up depending on what is happening. Whether you are right or wrong, that can bring up a lot of different thoughts and if we don't learn a perspective for going through the thought process that results in constructive interaction, we can jump to getting really angry very quickly. Anger is associated with the fight or flight response (controlled by the amygdala). So when you get that initial anger response, fast pulse, ready to stand up and throw a lamp at somebody, that's the fight or flight response. The fuse, whether it's long or short is the distance between the initial emotions and the time it takes for your rational mind to come back so you can properly evaluate what is going on. So the sooner you can recognize something is triggering you and slow things down for yourself by separating yourself from the triggering event or person, going for a walk, saying I'll be back in 15 minutes and we can discuss, etc., the sooner you can deal with things in a more measured approach. Perspective is important. And a way to put things into perspective is to remind yourself: * I don't have to be right. * There are different ways of doing things. * Nobody can read my mind and I can't read theirs. * We have to talk things out to reach a mutually agreed approach. * Sometimes I won't get my way and that's ok. * My relationship with my coworkers is more important than this tiny issue. Improving your ability to take criticism without taking it personally and to negotiate solutions are huge skills that help and you can work on them at the same time. Books like Difficult Conversations can be helpful with that. If you want something to follow up on I always recommend [Anger Management for Dummies](https://hmt.es/Anger%20Management%20For%20Dummies.pdf) because it's a direct approach and it also shows how to find resources you need, depending on your situation. For you I would also recommend one of my favorite books [Take Charge of Your Life](http://carolsnotebook.com/wp-content/uploads/2014/02/Take-Charge-of-Your-Life.pdf) by William Glasser. He's the creator of Choice Theory / Reality Therapy and for me this book explains it the best. It's a great complementary approach to CBT but honestly I feel a lot more empowering. I hope this helps you! Good luck! Edit: Sometimes you only need a 15 minute break to cool down. But if you are getting really worked up, you should take up to an hour. If you come back, talk more and get worked up again, take another hour. You can also wait until the next day if the situation allows. That way you can manage your reaction and response.\\n\", \"Thank you for this. I am having a rough night. I was supposed to be spending tonight with my boyfriend but he broke up with me on Monday. I've spent the evening sobbing and feeling sick to my stomach. But I have a sweet dog to cuddle with, a fridge stocked with decent beer, and all the creature comforts I need. Plus all those other things you listed, although they may not be the most heart-warming things when I'm feeling alone. I might read through my old gratitutde journal too.\\n\", 'Same...\\n', 'you should understand, almost everyone gets at least a little bit of social anxiety once in a while, its shyness, or just being in a new situation. The point when you cannot be comfortable around pretty much anyone, where you cant function in public, where your anxiety alters your life, that is when you have a social anxiety *disorder*. People with these disorders can barely sit in a classroom without freaking or getting extremely stressed and nervous. They cant form a relationship. Then again, everyone\\'s different. Who knows. My SA has gone through stages the last couple years. It started as generalized anxiety and turned into extreme anxiety around females, then anxiety when sitting in the living room watching tv with family, or anxiety at work. I\\'d say if it doesnt significantly alter your life or decisions, like \"should I go to the store today, or on Monday because there will be less people there\" then you dont have SA.\\n', \"[You don't say...?](http://www.heyreverb.com/wp-content/blogs.dir/4/files/2010/12/SimmonsArticle.jpg)\\n\", \"I had similar anxious thoughts in my teens and early twenties, thinking I must be crazy. They aren't helpful, because at the end of the day, you are who you are, and worrying about it won't change that.\\n\", \"It's college vacation and both my college best friends aren't talking to me much. One of my best friends (or so I thought) isn't reciprocating conversation or invitations, even though I invited him to go bowling with me and my other friends. He's pretty quiet and closed off but I really try to invite him to stuff. He sometimes reciprocates but not much. Drunk rn so I hope I'm overanalyzing. Just wish someone would talk to me more.\\n\", \"At the start of college we were put in groups, I wasn't really talking and then heard 2 of my group whisper about me being so quiet and then making jokes about it like I was unaware. From that second i knew I was going to be a loner in college.\\n\", 'That is very bad idea for they will enable each other. Now if they both have the will power, motivation to keep up with getting out and doing stuff then cool. If they have the drive to keep each other going, a support system like, then wonderful. Problem comes because both of them understand how it is, so it becomes more and more ok to not go or do. The two can normalize it among themselves. The longer you stay in, stay away the harder it becomes to get back out.\\n', 'You recognize that compliant and withdrawn is a mismatched response with abuse and anger is mismatched with your current situation, which is presumably not abusive. I\\'ll tell you what I found and you can decide if it feels right to you. As a kid, I actually was furious and outraged at the abuse, but it was impotent rage and expressing it in any way only made the situation worse for me, so I learned to push it down and ignore it. The problem is that it was actually legitimate anger. The purpose of anger is to destroy injustice or prevent harm, but as a kid I wasn\\'t capable of either - hence the abuse. But it was still there and it was still real and instead of directing it where it belonged (at my abusers) I directed it at myself in the form of \"Why are you so weak?\" \"Whey do you let this bother you?\" \"What\\'s wrong with me for being so upset all the time?\" Years of carrying around all that anger and pushing it down and before I know it anger is leaking out all over the place. It boils over at family, at friends, at coworkers, even at strangers. The thing is, if that anger wasn\\'t in me and already close to the surface, I wouldn\\'t have to worry about it coming out inappropriately (i.e., when there is no injustice or imminent harm). So the key was to let it go where it belonged and really allow myself to feel the rage, pain, sorry, disappointment, betrayal, and thorough injustice and harm of the abuse and point that anger where it belongs, at the abuser (emotionally speaking, though possibly not literally in a physical way) and let it go. As I\\'ve learned to allow all the emotions to do their jobs I\\'ve learned I\\'m much more emotionally capable and competent than I\\'d ever realized. Depression, shame, and addiction are being replaced by connection, joy, and ambition. It\\'s almost hard to understand, but there are a few key emotions that work in really simple ways, but are capable of absolutely wreaking havoc if not listened to or allowed to do their jobs. It\\'s perfectly normal to feel anger, but since you never learned to allow it in a healthy and normal way (due to your unhealthy and abnormal situation growing up) you have to go back and learn it now. And you can :)\\n', \"I've always called myself the violent pacifist. I'm always trying to be calm and peaceful. But god help the stupid fuck who pushes me over the edge. So far I've been able to contain it. I hope it stays that way. I don't wanna hospitalize anyone : ( Taking my anger out in the ring seems to work though. Try joining a gym where they send you off to tournaments to hurt people. Works for me.\\n\", 'You should absolutely ask her out. You only get one life to live and you never want to wonder about \"what if\". You always want to be unique and separate yourself from the pack when it comes to women and truthfully one of the best ways to do that is to simply ask her out in a direct manner; something that not many guys are able to do. Do not be one of those guys that my buddy and I have called \"spec ops\", those guys that have this massive agenda from the start and try to weasel their way into a girls pants one year at a time. If you get rejected don\\'t dwell on it because the energy that you spend thinking about her and the rejection is time that you could have used to meet and ask out another woman. Good luck.\\n', \"At first I didn't feel comfortable with it because it restricted my senses a little bit and if someone walked up behind me half the time I couldn't tell. I've been doing it more and more and every time I do my anxiety is a little less worse :)\\n\", 'Just to continue with working out and attempting to eat healthier. As well as trying to get out there more. Not really much else on my end though.\\n', 'I’m so sorry Jade. Depression is a killer, literally and figuratively. As only a stranger on the internet, all I can say is not everyone out there sucks and my inbox is always open\\n', 'I took xanax and prozac at the same time in 2014. I dont remember how much dose for prozac but 0.25mg for xanax. For me, there was nothing wrong with taking it together. It may cause some drowsiness and sleepiness, but probably that is a common side effect of xanax. I took prozac in the morning and xanax before I go to sleep though.\\n', \"Yeah new year sucks. If you're alone valentines day, it means you don't have one significant other. If your alone new years, you don't have anyone. At all. At least that's how it feels anyways\\n\", \"Breathing exercises. Here's one: inhale for 4 seconds, hold it in 7 seconds, exhale for 8 seconds. Repeat till calm. Just try and keep your mind on your breathing. It can be expensive but noise cancelling headphones are awesome.\\n\", \"This kind of stuff is literally the definition of SA. Do not worry, we all did, or still do this in many different social situations. If it makes you feel any better, most people really don't care about this kind of stuff, or they actually understand that you simply have trouble speaking in public and aren't dicks about it.\\n\", 'I\\'m going to try and piece together your situation based on the very few context clues I have. I assume you\\'re in a corporate or other team-based environment where your contributions are either adapted beyond your recognition of them or simply taken and added to the goal with no credit or context to you. It\\'s incredibly frustrating to have the same question repeated ad nauseum (I.e. a boss or client simply not absorbing your answer to their question.) In my own cases like this, I\\'ve been lucky that I\\'m not directly in front of them, rather I\\'m on the phone with them. I\\'ll deal with it by silently shouting (mouthing) an angry response or miming an aggressive action. I will then stick to my guns, and simply repeat the same answer to the same question. It may be helpful to you to realize that if the askers aren\\'t absorbing your answer, they might simply be waiting to hear an answer that they want to hear. In those cases, if what you\\'re telling is the truth, it is no fault of your own that they can\\'t see past their own position to learn the facts. Maybe try repeating the same answer verbatim until they\\'re the one who\\'s angry. As far as handling it multiple times in a single day, see if you can get the second person that asks to advocate for you. Something like \"I\\'ve been asked that a couple times now. Could you tell your group about it, or if you hear someone talking about it, could you share my answer with them?\" Hopefully that will help cut down the number of times you are asked. As far as dealing with the actual anger from the situation, we need to break it down into its root cause. If I were in that situation, I know that I\\'d be getting frustrated by the fact that A. I\\'ve answered this before, therefore I\\'ve already done the work, and B. I\\'m having to do the exact same work again, which in my mind means that the first work I did was wasted. My only recourse in that situation would be to take a quick break (I\\'ve done twice the amount of work now, technically, so I\\'m a little entitled to it,) and during that break, I\\'d catalogue what I can and can\\'t control. I can\\'t apparently control how many people are going to make me waste my time, but I can control how much time I waste. I\\'d probably come down to writing a polite blurb and handing it out, or telling them to ask someone I already answered if I was really short-fused. I can\\'t tell what your exact situation is, and I\\'m certainly no therapist, so please be sure to ask someone with more experience. Nonetheless, I hope you find this helpful. Good luck out there, remember to breathe. Edit: Grammar.\\n', \"Hopefully you get this in time, just for a quick confidence boost. I met with 5 random strangers to play dungeon world, so I've been through an incredibly similar thing. You'll be absolutely fine, people are so laid back in rpg campaigns, atleast from my experience and it's especially unique if you don't know them because you bond over your adventures together. It was weird as hell if anyone overheard our conversations in the pub after, talking about how we met searching for lost relics or how we haven't killed a dwarf in a few weeks. Also, I was quiet in my first session, just played it off as how my character was acting not myself. Have fun.\\n\", \"It's interesting to read the chronicles of someone else's anxiety. Great job sticking to your plan.\\n\", 'Fuck bro I feel you if you want to talk about outdoorsy shit hit me up\\n', \"Go, if only to get yourself out of the habit of talking yourself out of going places with people. If you tell yourself that you're just waiting for a better time when you feel less tired, less exhausted, more enthusiastic, more social, then you're never going to do it. Because the fact is that you're almost always going to feel a little exhausted, anxious and awkward by the very idea of going out with people, even when you know you'll like it. Get out of the habit of saying no because of what you're feeling, and get into the habit of saying yes *despite* what you're feeling. Realize that your feelings are lying to you. Your feelings want you to stay home in a familiar and safe place to be lonely and miserable. Your feelings want to take your right to have fun away from you and convince you that you were never worthy enough to deserve it in the first place. If you *know* you want to go out, and you know that at the end of it you will come away having had a good time, but your feelings are telling you to stay home and that it's not worth the effort, all the more reason you should defy what those stomach butterflies are telling you and go!\\n\", 'Start from the beginning. What got you this way?\\n', 'Youll get used to it eventually. At first you might be bitter from loneliness but maybe you wont mind it... in a few years.\\n', 'It sounds like a problem. If all of your self-worth comes from external validation, you will never be happy on your own. Your relationships will probably suffer, too, if you depend on that other person for all of your happiness. I suggest you see a therapist or counselor and discuss.\\n', 'If you’re good looking it’s cuz they’re ugly and if you’re smart it’s cuz they’re dumb lol (jk kinda) it kinda works if you play it right\\n', 'Give him an ultimatatum and ask him to make up his mind within x time period or your having someone else take his spot instead. Do this all politely of course\\n', \"If she has been diagnosed then she's seen a professional, correct? Have her parents been involved in any of those appointments? If she's seeing a counselor or psychologist are they aware of the parents feelings on this? A sit down with everyone involved seems like it could be helpful possibly. Them not supporting her is just going to compound the problem.\\n\", \"I got a lot of help in therapy and recommend it. To start with, some people here have gotten help just exposing themselves to anxiety-producing situations, and that can be helpful, but I think for a lot of us it can be unhelpful. It's not a bad thing to have tried it and decided whether it's helpful or not. Perhaps you are a bit more convinced that you need help dealing with this and in your next therapy you will be motivated to talk more or keep going even if it's difficult?\\n\", 'Moved back into my dorm for another semester... here we go again.\\n', '&gt;They will not accept the blame for any part of their injury to me and refuse to even entertain the idea of going to see a therapist because they think therapy in any form is a scam. Without even an \"I\\'m sorry\" or desire to fix what is wrong, I would say that the chances of a happy reconciliation are low. If Mr. X goes into convulsions upon seeing the color yellow, do we need to ban the color yellow to make sure he never sees it, or should Mr. X get treatment? The problem is not the trigger, but the reaction to the trigger. If your family has no desire to fix the problems that drove you away, how much do they truly want to reconcile? Suggested reading: * *Emotional Blackmail* by Susan Forward * *Toxic Parents* by Susan Forward * *Healing the Shame that Binds You* by Tom Bradshaw I also recommend CBT (Cognitive Behavioral Therapy). It has been proven effective against depression and anxiety. If you cannot afford it, I recommend getting a book to teach yourself, such as *Feeling Good* by David Burns or *Learned Optimism* by Martin Seligman.\\n', 'That was awesome and motivsting. I often come to the same conclusions, as you, when im drinking. Once im sober my anxiety still gets the best of me and i get nothing done... good luck, bro!\\n', \"I'm sorry, no one should be left alone by people that are supposed to care for them. I don't know if it's any consolation, but I'm here for you :)\\n\", \"That's rough. At Walgreens or some chain like that, you can ask the pharmacy to check you out. I work in a pharmacy, and we see much weirder things than condoms. There are so many STD medications on a daily and weekly basis, that Id be happy to sell someone something that'll proactively keep them healthy. At any rate, really and truly, the only judgement that passes my mind is when someone is being an asshole to me or my co workers.\\n\", 'yep its fucking annoying\\n', 'Yes the doctor is telling the truth. Both of those medications are prescribed for depression and anxiety all the time.\\n', 'Can you tell him essentially what you told us? \"It\\'s not that I don\\'t want to hang out with you--I do. But I have this thing called social anxiety that also makes me say no because scary.\" When you make yourself a little vulnerable like that, good people will respond kindly. Bad people will be jerks about it. Either way, you\\'ve got more info (and so does he) than before you brought it up.\\n', 'I absolutely know what you mean. I finally started becoming comfortable enough to be the person making things okay for other people. It feels good, see if you can try it.\\n', \"Follow what /u/kamelasa has to say. When you notice your anger and frustration is rising, STOP what you're doing. Leave the room, put on some music - just distance yourself from the situation. Calm yourself and move on. Sucks to have to do something other than planned, but it's so much better for the people around you to not be afraid of you. It'll be so much easier for them to support you.\\n\", \"Im like this, but different. I just kinda know how people really are. I guess I see past the fake face that some put on for public. I dont know how I know this. I know I use their eyes mainly, the the area around their eyes. Things they say too, say a lot. Im a hell of a between the line reader and have this built in BS detector. Ive heard people refer to a gaydar detector. There's that too. I spot gay, shy, druggies, pervs, shit starters, etc.... (Not saying these are all bad) Maybe because I have forever been a target for the more narcissist type people, its a protection. man they'll spot me a mile away.\\n\", 'Hey, hit me here or inbox or Steam (same name). I am sure we can play together and you can talk to me if you want. I am a complete stranger after all, right? It WILL make you feel better and you may even get some advices in return, win-win kind of situation.\\n', \"I'm not sure how old you are - I'm guessing late teens/early twenties, right? First things first: there's nothing wrong with you! Everything you do is *normal*. Just some things make you happy and other things don't. Some things make other people happy; other things don't. Your emotions are just mental explanations for your biochemistry. You may be producing a lot of testosterone; it might be some other type of hormone. One thing that is [apparently known](http://www.nimh.nih.gov/health/publications/the-teen-brain-still-under-construction/index.shtml) is that the adolescent brain is undergoing a lot of changes right through the early 20s (and up to the early 30s), so don't expect it to last forever. There are many things you can do; one is to read up more on the brain, the mind and how it changes. If you look back through some of my posts, you'll see a few book recommendations. The best (as in *most helpful*) book I've ever read was *The Chimp Paradox*. The other thing is to perhaps engage in some basic meditative techniques; there are tons of free online courses in mindfulness. This helps you study what is actually happening in your body and allows you to identify triggers and deactivate them. The third thing is to talk to somebody about your temper. Talking cannot be underrated. Sometimes it leads the way to much greater clarity. Ignore anyone who tells you to vent your anger...research shows that this leads to greater anger in the future and establishes unhelpful patterns. Have you read [Seneca's essays on anger](http://en.wikisource.org/wiki/Of_Anger)? Seneca is a great writer and it might help to see that some guy was writing about your feelings thousands of years ago!\\n\", 'I never finished high school aND now go to online college. If I knew about benzos at the time my life would be 1000X better.\\n', \"Agreed, and to amplify, rational self interest is never selfish. one of the many societal mind-fucks we go through is that term, 'selfish'. If we were narcissists or sophists or sociopaths we wouldnt be depressed. We dont need to worry about being selfish, we need to worry about self actualizing.\\n\", 'Why not start one here?\\n', 'Yep, it is very possible that your dad is partially the cause. i know that was one of the main causes of my social anxiety...\\n', \"not really sure what you can do besides the therapy/see a psychiatrist route. if for some reason that's not an option, most narcotics do wonders for SA. plus if you are high then i'd think that would offset the looking miserable/angry stuff. though narcotics are a serious felony and drug addictions are very bad sooooooo. yah know weigh the pros and cons. i'd really suggest a shrink before that personally.\\n\", \"I hope you find peace in your thoughts while you're still living, death is a silence you can't control. Whatever is torturing you is only because you let it. Meditation and being true to yourself makes things a little easier to grapple. You can't get over depression if you can't see what's causing it. I hope you find strength and love, I send you all of mine through the quantum; straight from my heart to yours. Happiness is cultivated, it is up to you. FIGHT FIGHT FIGHT!\\n\", \"You're not being irrational, you're right that a lot of people (including doctors) underestimate the possible side effects of commonly prescribed medications. You should bring up your concerns with your doctor, and mention any side effects you've suffered when you've taken other medications. But at the same time, recognize that your anxiety is making you more worried about this than you should be. It's likely you'll experience some side effects, but it's unlikely they'll be serious. You're more likely to experience dry mouth and things like that - annoying, but that's about it. But tell your doctor you'd like to start with as small a dose as possible. Then if you experience any side effects, you can decide whether or not it's worth it.\\n\", 'Can you explain to me the steps you took to go to the doctor (which types of doctors, etc) to get the prescriptions? I need this.\\n', 'Suicidal thoughts do not mean you will act on them, but you do need to take them seriously. It can be as easy as talking to your therapist, or making a written safety plan for yourself with lists of supports and activities and what to do if things progress; to as hard as walking in to a psychiatric hospital and asking for help. The main thing to remember, is that you are valued and needed, even if its hard to see through the depression. That remains true.\\n', 'Depersonalization is often a symptom of depression. Give the medicine a month and see how it makes you feel. If not, let your therapist/prescriber know.\\n', 'Wanted to see how you were doing this morning\\n', \"Xpost to /r/theredpill. Sounds like you aren't in charge of the household anymore.\\n\", 'I just found out www.socialanxietysupport.com Forum for social anxiety\\n', 'get someone to call them for you?\\n', \"The first thing is not to care what other people think. The key thing about controlling your anger is that it's for *your* benefit. Let people think what they like - your confidence as you control your own emotions will begin to become more and more evident. The second thing is that it really doesn't matter if you look intimidated and submissive. You can be assertive while controlling your anger - in fact, it's a great tool to *help* you control your anger. U useful method for being assertive is the 3-part response to bullying behaviour: Say to the other person what you don't want using the word, *I* Say to them how it is making you feel. Say to them what you do want using the word, *I* eg *I don't want you to speak to me like that again; it makes me feel belittled, frustrated and angry. I want you to speak to me with respect and with decency.* The important thing is to use the word *I* as this is part of being assertive!\\n\", \"How long have you been working in that sort of environment? Maybe it's something you can get used to. A few months ago my workplace changed seating arrangements and I was put in a similar situation to yours. I hated it for the first week or two, but I'm over it for the most part.\\n\", \"yes you should seek help and no those thoughts are not normal. I've struggled with those types of thoughts for a long time too. keep your head up man and get help\\n\", 'Depending where you\\'re located, look around to see if there is a \"Community Service Board\" that serves your county. They often have a sliding scale for pay, where you basically pay what you\\'re able and they are subsidized for some of the rest. I don\\'t know for sure if they exist everywhere or if they\\'d cover what you\\'re talking about, but it\\'s certainly worth a shot. If you have one - even if they couldn\\'t directly help - you could stop in and tell them what\\'s going on and they might be able to direct you to resources or other professionals.\\n', 'This headline seems a bit sensationalistic.\\n', \"It's one if the factors, like my dick is one too. Been trying to lose weight but I just stay the same\\n\", \"Seriously dude good for you to take steps to address your issues. I would like to do something similar to confront the things that I worry about socially. I enjoyed reading this quite a bit. It's comforting to read about someone struggling with the same thought processes I do who is actively confronting them. Don't Stop!\\n\", 'My chances are higher when I control most aspects of their environment (Social aspects). Knowing their wishes, needs, social status, education, and quirks opens social dialogues I can choose from. Certainly some find the challenge difficult if their resources are center around their thoughts. My attempts centers around extracting as much information from them through their friends, families, online info (facebook ,twitter, forum or whatever site he/she went to).\\n', 'I’ve had so much anxiety about this, but honestly 98% of them don’t give a single fuck. You may get the occasional cashier who says something jokingly but that’s rare, they usually understand that people have anxiety about it and don’t say anything. Otherwise? Amazon bro. Prime now has saved my ass from so many unnecessary outings.\\n', \"These are my advices :) Be yourself, forget what other people thinks about you, hang out with people you feel confortable with. If you keep talking to others you will improve your converation skills and feel less awkward when talking, don't worry too much and don't overthink.\\n\", 'Honestly the best thing to do is just accept its not your fault. It\\'s more of them as a person. Anyone who would do something as rude as that to someone isn\\'t someone you want to be a part of your life. I\\'ve gotten stood up a couple times, it hurts of course but honestly it\\'s just whatever. Sure i\\'d have preferred if they came out and went through with it and then told me \"Nah I don\\'t wanna\" but its not like that. And there\\'s nothing we as guys can do about it, people are going to be rude, you just have to assume it\\'s gonna happen and just not get your hopes up next time. That\\'s what I do\\n', 'Genes/Personal Experiences It’s these. Sometimes a personal experience can trigger your social anxiety, and you think about that experience. When that occurs you may start to have a chain of events after that experience and you think about that, that triggers your social anxiety and that’s what triggered mine. The second reason could be your genes. Your high heart rate when you get into unusual social interactions is most likely genetic, and I think u cannot get over that, maybe with a lot of time. I still have it and it will never end, ever. But what can improve is that you heart rate after increasing can drop quicker because u understand the situation quicker, that’s what I’ve managed to master, it feels like a mini heart attack loool but it helps of course.\\n', \"Hi Op, I think that is a lot you've been going through and that would explain your anger and agitation which are normal emotions. When you see your new therapist, you might want to work with them some ways to channel those emotions?\\n\", \"Hmm, haven't really had this problem, but as with everything else when it comes to SA start small. Eat a little piece of candy or something, and if it works just do it until it feels normal and work your way from there!\\n\", 'Woo hOo!!\\n', 'I know how you feel. Today is my birthday, everyone always forgets and I spend it alone.\\n', \"You need goals, which you obviously have stated. Follow through on those goals! Look on the Internet, at your local medical clinic, Starbucks, for ads on support groups. On groups that meet about hobbies, interests you like. It's going to be tough, but you're going to do this for.......YOU. Don't worry about romantic relationships. Worry about getting a new job, like you said. Make a goal of saving $1000 by Easter. If you do that before then, save more. Write a goal on a piece of paper, put the target date on it, and tape it to your front door. Once you complete that goal, do another one that doesn't involve actively looking for someone's companionship. You live YOUR LIFE, the benefits will attach to you on your journey. I've seen it happen.\\n\", 'I am not in a much better situation, but i will say this, you best years are not predetermined. You can have a great time now and let the current years be your best.\\n', \"Wow, I'm in the same boat as you right now. Reading this was like it was written by myself. I don't really know what to say but just know that your not alone and I'm here if you need someone to talk to.\\n\", 'Do you even enjoy the book your reading? If I watch a movie I don\\'t enjoy, I find it very easy to watch the whole thing and wander off in my mind and not really pay attention and then forget everything. Of course it\\'s easier to remember movies, since it\\'s visual, moving pictures, dialogue, text maybe, and sound. But in essence, I don\\'t think your problem lies with \"books\". Do you have the same problem if you read a book you absolutely love?\\n', \"You should definitely consider the benefits of socializing as a priority in your life. I know it's hard, but we all have to strive to be better or else what's the point? Try and make friends with one social friend and watch you get the social bug.\\n\", 'We do care. We care because we too have experienced or had friends experience the emotional pain you have been though this year. We know how what you have experienced is eating you up inside and none of us want that. First of all congratulations for graduations. That is an incredible accomplishment. Never feel bad for venting. Letting people hear how you feel is healthy so never feel bad for doing it. If you have any questions we are here to answer but until then we never mind just listening.\\n', \"I dont know either but years ago i used to have this. I could eat at home with family only, anyone else no chance. My family never ate out at all when i was young (besides saturdays at my nans house if that counts) and i remember when i was about 13 at a cousin's wedding i couldn't eat the food. I couldnt physically put it in my mouth as my hands were shaking so much and i was terrified of what people thought. I have absolutely no idea what made me feel like this that day but it stayed with me for so long.\\n\", \"I genuinely hope you're able to keep all of these.\\n\", 'Sure, why not :) I like my ability to make other people laugh and being so willing to help other people with their problems. Is just me or people with SA are usually more empathetic than the average?\\n', \"My depression gets worse around this time, too, for very similar reasons. My suggestion? Detach yourself. Stop caring. You die? Ok. People do that. Life gets better, if not slightly? Well, that's a plus.\\n\", \"Well this is the answer you're not going to want. But for some it does, and for some it doesn't. It made me more mad. Everybody just seemed to whine to me. Felt like their issues were stupid. Therapy is the only thing that's worked for me. But I can't afford it anymore. If you can handle a group setting, I say go for it.\\n\", \"I know what you mean. I've had a few dreams in the past where life is perfect. Whether I'm in a relationship or I'm traveling, I'm just really happy in them. They feel so real too. Sometimes in my dreams I also *remember* I have anxiety but I also realize it isn't an issue anymore. It's like I've addressed it and moved on, if only I could do that in real life. I had a dream a while ago where it was so good that when I woke up, I had a bad day because I felt so upset that it was only a dream...\\n\", 'First, congrats on this big move! I wish you all the best - deciding to pursue such care certainly isn\\'t easy, but can be very rewarding. I used to assist patients with finding doctors so I know it can be daunting. Your regular GP should know how to assist. If they don\\'t have a specific doctor or therapist in mind, hopefully they can guide you from there. Your insurance company may also have resources online in regards to providers within your network. Speaking of insurance, in my experience, finding a psychiatrist or therapist that\\'s \"in-network\" can be tricky. Before seeing any doctor, I always give my insurance company and the doctor\\'s office a ring just to make 100% sure they accept my insurance as \"in-network\". Your insurance company should also be able to provide information about your plan (which you mentioned could be a PPO) and exactly what costs and services it covers. Again, wishing you all the best!\\n', 'Happy new years! Hey at least you have a friend to celebrate with. Mine all moved away. My ex cheated on me this last year and she was my everything for years and years. Maybe this will help you: in the next year i hope to find a person to hangout with. I dont care if we pick each others noses!(kidding) Just know that i had the worst year imaginable and that you are lucky to have another person to even talk too. But i am feeling optimistic about this coming year. I hope that i find someone that i can make happy enough to reply to my texts or hangout with and do whatever. Im going to do what ever i can to make even 1 friend. Sometimes if u step back and look at it from someone elses perspective it helps you feel better. I hope i have helped even a little bit...\\n', \"This was like the main reason I avoided eye contact Think about it. They are gonna see your eye anyway even if you try to hide it by avoiding eye contact.They'll probably think I you're weirder for avoiding eye contact. There's nothing you can do to change that( unless you have surgery), so you have to accept it. Act as if they've already seen it and moved on.\\n\", 'Do you have anybody in your life that you can talk to about this (like friends/family)? Self harm can be really destructive IMO.\\n', \"Perhaps your therapist can help you look into a partial hospitalization or intensive outpatient program as an alternative, if you're afraid things are getting bad.\\n\", 'I know how it feels. Hang in there, someday it will be better. Allthough I have those exact same thoughts everyday. It just has to get better.\\n', 'Relatable man.\\n', \"I was alone all year as well, I'm going to try and make things better this year, you should try too. good luck.\\n\", \"Stress can be a major factor. Do you have any time just for yourself? Working out does actually help, it burns off a lot of the physical energy that you won't spend when studying, ala. sitting on your ass reading, and it can help you get some good sleep. Other than that. Activities that aren't related to work or your studies. Baking, fishing.. Stuff like that can help switch your brain off work.\\n\", \"&gt;I also seem to have less control, the older I get. It's not about controlling anything, it's about letting go. At work you don't get angry because you're detached. At home you're trying to control too much that you think it's the end of the world and reflection upon yourself if your son screws up. Those are human beings you're living with; let them make, handle and live with their own mistakes. Let. It. Go. Don't make me sing it\\n\", 'Op, please let us help. Talk to us.\\n', \"Social anxiety takes motivation and a active desire to want to overcome the condition. If its not there he could be like he is now for the rest of his life. I don't think there is much you can do to quicken the pace other than encourage him to be more involved in trying to treat his social anxiety.\\n\", 'Some of his videos are interesting and insightful. But he’s not my cup of tea. I’m glad that his videos are helpful to you, but I believe self-compassion and self-care is key to ultimately feeling good about myself.\\n', 'Ask your super/apartment manager/security to ask her to turn it off.\\n', 'Sorry not familiar with anxiety, what exactly do you get anxious about? Just being around the other people?\\n', 'I feel you SpicySaltShaker. :-( I hope good things come your way, and that you can love yourself one day, anxiety and all.\\n', 'I was 12. I had no idea what was happening. I was in a large mall that had just opened around the winter months. You got it, holiday shoppers. The worst. I walked into the food court and felt like I was going to faint. Then I felt like vomiting and very hot, like I was burning up from the inside out. I could only think, \"Too many people. I have to get out of here.\" I tried to hide how I was feeling and felt somewhat better after entering an empty store (save a few employees). The minute I walked back into the open walkways I felt sick again. It took 8 years for me to find out what it was I feeling. I\\'d been a quiet sort of shy person my whole life. I didn\\'t understand why I would get extremely nervous or anxious in mundane situations, like participating in class or attending parties. When I could put a name to it it was at its worst. But I felt better knowing I wasn\\'t alone or weird.\\n', 'Buy a punching bag. Hang it from the ceiling. Take out anger. All good now. http://www.walmart.com/ip/Everlast-70-lb-Platinum-Heavy-Bag-Kit/29319171?action=product_interest&amp;action_type=title&amp;placement_id=irs_top&amp;strategy=PWVUB&amp;visitor_id=K5HX4KOjgOZDnMTLtMdtqE&amp;category=&amp;client_guid=aaaf54e7-0628-4250-8d19-56c546cd38b9&amp;customer_id_enc=&amp;config_id=2&amp;parent_item_id=14292479&amp;guid=8d9cbcd7-8800-444c-8eed-a1b637e19e97&amp;bucket_id=irsbucketdefault&amp;beacon_version=1.0.0&amp;findingMethod=p13n\\n', \"You are just going to make your anxiety worse by blaming yourself and flipping out and creating all these imaginary scenarios where people are talking about you, saying/ thinking your weird, girls writing you off etc. It's not that bad. You were a little nervous and it may have shown, but get over it dude. Keep fighting and putting yourself out there, and keep working on building up that confidence by getting out of your comfort zone and continually challenging yourself. You'll get better at this type of stuff when you realize its not that big of a deal. I would be prepared with an answer for this type of question next time a new class does it. All good man dont worry so much!\\n\", 'I like the fact that I completely outclass my \"friends\" in grades.\\n', \"I'm 24 fucking years old and can't get a job due to anxiety. I'm in therapy and doing exposure activities all the time... Yet here I am. I wish people understood how crippling (even with professional help) SA is. If anyone has any advice on this, I'd love to hear it. I have health problems that prevent me from working any sort of manual labor job, so the usual easy non-people jobs won't work for me. :(\\n\", '2018 doesn’t look promising. I’m already just barely holding it together. ______\\n', \"The sad reality is there isn't a quick fix for social anxiety. Many people have lots of success with medication, but it varies. But there are tons of ways to improve your quality of life while fighting this sickness! My personal advice would be to go to therapy/a psychologist. If you can't talk to the therapist/psychologist what you could do is write down all your symptoms as you experience them. Having something written down is very helpful for me! before I make a phone call I have to write down a little bit so I don't panic and choke up. I'm also putting together a little portfolio for my own psychologist and I find it very therapeutic :)\\n\", 'Look up DHEA. Use with caution.\\n', 'Without having you get into the personal details, what caused this \"episode?\" I\\'ve certainly had this kind of interaction with my brothers, when one of us has insulted the other deeply, or in one case, ripped the other one off for a couple hundred bucks (not stolen, but I digress...). I guess what I\\'m saying is that loud, depending on the reason for the incident, may not be a disproportionate response. Anger, in and of itself, is not an unnatural or even unhealthy thing - some things should make you angry. It really comes down to questions like this: 1. How angry would another have been in my situation? 2. If I were watching myself as a neutral third-party observer (a fly on the wall, if you will), what would I have thought of myself? Would I seem justified in my response, or would I seem unhinged and irrational? It\\'s not easy to be objective about yourself, but it\\'s worth striving for (just don\\'t trust it *too* much). As for the hospital - we\\'re not doctors in here (that I\\'m aware of), so as a non-medically trained person, I\\'d say this - if you feel like you cannot calm down, heart racing, thoughts racing, etc., even after some time has passed, yes, you should seek some form of medical assistance. Regardless of treatment for your physical symptoms, you should also consider speaking with a certified mental health practitioner, and discussing your behavior with them.\\n', \"I would try a relationships forum instead. But if it only lasted a day I'm sure it's for the better. Tell him to learn from it and use it to focus on future relationships.\\n\", 'Linkin Park - The Messenger\\n')\n"
          ]
        }
      ]
    },
    {
      "cell_type": "code",
      "execution_count": null,
      "metadata": {
        "id": "Lri3K6TsxKPT"
      },
      "outputs": [],
      "source": [
        "dev_x, dev_y=read_data(\"/content/dev.tsv\", labels, max_data_points=1000)"
      ]
    },
    {
      "cell_type": "code",
      "execution_count": null,
      "metadata": {
        "id": "0aMsvhvkxKPT"
      },
      "outputs": [],
      "source": [
        "def evaluate(model, all_x, all_y):\n",
        "    model.eval()\n",
        "    corr = 0.\n",
        "    total = 0.\n",
        "    all_labels = []\n",
        "    all_predictions = []\n",
        "    misclassified = []\n",
        "\n",
        "    with torch.no_grad():\n",
        "        for x, y in zip(all_x, all_y):\n",
        "            y_preds = model.forward(x)\n",
        "            for idx, y_pred in enumerate(y_preds):\n",
        "                prediction = torch.argmax(y_pred)\n",
        "                if prediction == y[idx]:\n",
        "                    corr += 1.\n",
        "\n",
        "                total += 1\n",
        "\n",
        "                # Collect labels and predictions for F1 score\n",
        "                all_labels.append(y[idx].item())\n",
        "                all_predictions.append(prediction.item())\n",
        "\n",
        "    # Calculate accuracy\n",
        "    accuracy = corr / total\n",
        "    print(f\"Accuracy: {accuracy}\")\n",
        "\n",
        "    # Calculate F1 score\n",
        "    f1 = f1_score(all_labels, all_predictions, average='weighted')\n",
        "    print(f\"F1 Score: {f1}\")\n",
        "\n",
        "    return accuracy, f1"
      ]
    },
    {
      "cell_type": "code",
      "execution_count": null,
      "metadata": {
        "id": "uyE_hJzpxKPU"
      },
      "outputs": [],
      "source": [
        "class BERTClassifier(nn.Module):\n",
        "\n",
        "    def __init__(self, params):\n",
        "        super().__init__()\n",
        "\n",
        "        self.model_name=params[\"model_name\"]\n",
        "        self.tokenizer = BertTokenizer.from_pretrained(self.model_name, do_lower_case=params[\"doLowerCase\"], do_basic_tokenize=False)\n",
        "        self.bert = BertModel.from_pretrained(self.model_name)\n",
        "\n",
        "        self.num_labels = params[\"label_length\"]\n",
        "\n",
        "        self.fc = nn.Linear(params[\"embedding_size\"], self.num_labels)\n",
        "\n",
        "    def get_batches(self, all_x, all_y, batch_size=32, max_toks=256):\n",
        "\n",
        "        \"\"\" Get batches for input x, y data, with data tokenized according to the BERT tokenizer\n",
        "      (and limited to a maximum number of WordPiece tokens \"\"\"\n",
        "\n",
        "        batches_x=[]\n",
        "        batches_y=[]\n",
        "\n",
        "        for i in range(0, len(all_x), batch_size):\n",
        "\n",
        "            current_batch=[]\n",
        "\n",
        "            x=all_x[i:i+batch_size]\n",
        "\n",
        "            batch_x = self.tokenizer(x, padding=True, truncation=True, return_tensors=\"pt\", max_length=max_toks)\n",
        "            batch_y=all_y[i:i+batch_size]\n",
        "\n",
        "            batches_x.append(batch_x.to(device))\n",
        "            batches_y.append(torch.LongTensor(batch_y).to(device))\n",
        "\n",
        "        return batches_x, batches_y\n",
        "\n",
        "    def forward(self, batch_x):\n",
        "\n",
        "        bert_output = self.bert(input_ids=batch_x[\"input_ids\"],\n",
        "                         attention_mask=batch_x[\"attention_mask\"],\n",
        "                         token_type_ids=batch_x[\"token_type_ids\"],\n",
        "                         output_hidden_states=True)\n",
        "\n",
        "        bert_hidden_states = bert_output['hidden_states']\n",
        "\n",
        "        # We're going to represent an entire document just by its [CLS] embedding (at position 0)\n",
        "        out = bert_hidden_states[-1][:,0,:]\n",
        "\n",
        "        out = self.fc(out)\n",
        "\n",
        "        return out#.squeeze()"
      ]
    },
    {
      "cell_type": "markdown",
      "metadata": {
        "id": "EC3ysAoFfX4n"
      },
      "source": [
        "Now let's train BERT on this data.  A few practicalities of this environment: if you encounter an out of memory error:\n",
        "\n",
        "* Reset the notebook (Runtime > Factory reset runtime) and execute all cells from the beginning.\n",
        "* If your `max_length` is high, try reducing the `batch_size` in `get_batches` above.\n",
        "\n",
        "Even on a GPU, BERT can take a long time to train, so you might try experimenting first with smaller `max_data_points` above. before running it on the full training data."
      ]
    },
    {
      "cell_type": "code",
      "execution_count": null,
      "metadata": {
        "id": "WZtoU7jzxKPU"
      },
      "outputs": [],
      "source": [
        "def train_and_evaluate(bert_model_name, model_filename, train_x, train_y, dev_x, dev_y, labels, embedding_size=768, doLowerCase=None):\n",
        "\n",
        "  start_time=time.time()\n",
        "  bert_model = BERTClassifier(params={\"doLowerCase\": doLowerCase, \"model_name\": bert_model_name, \"embedding_size\":embedding_size, \"label_length\": len(labels)})\n",
        "  bert_model.to(device)\n",
        "\n",
        "  batch_x, batch_y = bert_model.get_batches(train_x, train_y)\n",
        "  dev_batch_x, dev_batch_y = bert_model.get_batches(dev_x, dev_y)\n",
        "\n",
        "  optimizer = torch.optim.Adam(bert_model.parameters(), lr=1e-5)\n",
        "  cross_entropy=nn.CrossEntropyLoss()\n",
        "\n",
        "  num_epochs=15\n",
        "  best_dev_acc = 0.\n",
        "\n",
        "  for epoch in range(num_epochs):\n",
        "      bert_model.train()\n",
        "\n",
        "      # Train\n",
        "      for x, y in tqdm(list(zip(batch_x, batch_y))):\n",
        "          y_pred = bert_model.forward(x)\n",
        "          loss = cross_entropy(y_pred.view(-1, bert_model.num_labels), y.view(-1))\n",
        "          optimizer.zero_grad()\n",
        "          loss.backward()\n",
        "          optimizer.step()\n",
        "\n",
        "      # Evaluate\n",
        "      dev_accuracy, dev_f1 = evaluate(bert_model, dev_batch_x, dev_batch_y)\n",
        "      print(type(dev_accuracy))\n",
        "      print(type(dev_f1))\n",
        "      if epoch % 1 == 0:\n",
        "          print(\"Epoch %s, dev accuracy: %.3f\" % (epoch, dev_accuracy))\n",
        "          if dev_accuracy > best_dev_acc:\n",
        "              torch.save(bert_model.state_dict(), model_filename)\n",
        "              best_dev_acc = dev_accuracy\n",
        "\n",
        "  bert_model.load_state_dict(torch.load(model_filename))\n",
        "  print(\"\\nBest Performing Model achieves dev accuracy of : %.3f\" % (best_dev_acc))\n",
        "  print(\"Time: %.3f seconds ---\" % (time.time() - start_time))\n"
      ]
    },
    {
      "cell_type": "code",
      "execution_count": null,
      "metadata": {
        "id": "CgLvw1VRiqR_",
        "colab": {
          "base_uri": "https://localhost:8080/",
          "height": 1000,
          "referenced_widgets": [
            "68953db9549a43b695b55a5936b47683",
            "3e3f82a1fc934ce6aa29b23aec2ba02a",
            "ca8f57ed65134130a2352f254247d89a",
            "8c91751350d445ae8269ac83921495c7",
            "a31993b4a1cc4b3a8c419bb9ea5164ae",
            "348010e7ab1c4b379f07d9fca0068176",
            "84b95029b91f4dcdabb0c8c9ed689254",
            "2521b3797fc143a7b7398534f5ab13ac",
            "34b78669addf4e9db2efe86446f2b391",
            "ab98679616544012be0e89c1a044701d",
            "31792c347aee4c068b571752d6f49681",
            "bd2c332b3948400481327f86f19e9521",
            "17d5f635493645469c6e18cb9ce53537",
            "169028876f2c463396e6818ccedbf4b1",
            "463c203ef0fb4b8dbc82d6fa99d08c09",
            "557f3f73b7ee4b4fb6bef0482ccd6a35",
            "97ecd0ff43404c4e8305cca4d62f90f8",
            "dc78a91907634b35aa6d8b15f0ff5d9d",
            "618318bfa72140fb97bde6cf19c7c11d",
            "ea61fe31c68845b39ee14f324becd1ee",
            "2b12e29bba034d63806475644e92fc75",
            "276b25533b194eaca5e07a16c09f49d6",
            "ffd20fe26e0e4a92a6f8148ac45661d0",
            "11fa0c009c2a4e3e9286b2013c5c9c8f",
            "cbb73dc0df5d4deab800028b6dcab2ce",
            "3df42e1ff5fe4ab5847fdda23076eec6",
            "44132c243ac3459e98e760050ba15ec6",
            "c022eea8a9ee4a53b44c6529b4a73427",
            "230381db804f489984d3428c52627394",
            "813fb20add28437bbcbf0b4aec5400fa",
            "de8df84823544b06a68713624334cd49",
            "17129c678d604756b587c81738803c81",
            "86914b429d484c46808f038f27487d4b",
            "08f84deba4874f26b8101cfb6cff9e6c",
            "283ef2bf7fa44af9b38d1a19026c13dd",
            "058b5479c8064c3eb33cf934f351885a",
            "2dbef53d7cd14fe5844f17a1bb238561",
            "396c8558684242fda084f0fa16b08aae",
            "81bca4c1cd744badba65002db55a1e2e",
            "5462fd2990e946cb9df265aa80711e3a",
            "dde8c863fc3e4555b6ad02ece0b8bf2f",
            "5911eae3d90644ce9ba2ff67646ba2bc",
            "5649d7f63aa94203b9511e2225840c6a",
            "c49e79a156a84f518a963ee9e485483f",
            "a9699357b1e445718c2cec11a1dd9082",
            "d52ced7e561c491f945a2e49d235c2bd",
            "bbe784b20a2145b283d76ce78260eea6",
            "29e29441870d4262932a10da7ae2bca2",
            "49387415081c45a8816328d4d4a40e65",
            "e777e105dd1344ada9d11aa34a3a002d",
            "44a2100e6de540c7befcf4fc809cfc0c",
            "4d64735eb7bf46b9b7479082ee5551f6",
            "e5538ee7fb0245eeaf7b73e1e114931f",
            "9e1263f20c6e460c9eed9599f9e4886d",
            "01197f37ab5949468b54e4e931ea4f17"
          ]
        },
        "outputId": "fc4f083b-93ae-4212-d31d-8087219eb601"
      },
      "outputs": [
        {
          "output_type": "display_data",
          "data": {
            "text/plain": [
              "tokenizer_config.json:   0%|          | 0.00/29.0 [00:00<?, ?B/s]"
            ],
            "application/vnd.jupyter.widget-view+json": {
              "version_major": 2,
              "version_minor": 0,
              "model_id": "68953db9549a43b695b55a5936b47683"
            }
          },
          "metadata": {}
        },
        {
          "output_type": "display_data",
          "data": {
            "text/plain": [
              "vocab.txt:   0%|          | 0.00/213k [00:00<?, ?B/s]"
            ],
            "application/vnd.jupyter.widget-view+json": {
              "version_major": 2,
              "version_minor": 0,
              "model_id": "bd2c332b3948400481327f86f19e9521"
            }
          },
          "metadata": {}
        },
        {
          "output_type": "display_data",
          "data": {
            "text/plain": [
              "tokenizer.json:   0%|          | 0.00/436k [00:00<?, ?B/s]"
            ],
            "application/vnd.jupyter.widget-view+json": {
              "version_major": 2,
              "version_minor": 0,
              "model_id": "ffd20fe26e0e4a92a6f8148ac45661d0"
            }
          },
          "metadata": {}
        },
        {
          "output_type": "display_data",
          "data": {
            "text/plain": [
              "config.json:   0%|          | 0.00/570 [00:00<?, ?B/s]"
            ],
            "application/vnd.jupyter.widget-view+json": {
              "version_major": 2,
              "version_minor": 0,
              "model_id": "08f84deba4874f26b8101cfb6cff9e6c"
            }
          },
          "metadata": {}
        },
        {
          "output_type": "display_data",
          "data": {
            "text/plain": [
              "model.safetensors:   0%|          | 0.00/436M [00:00<?, ?B/s]"
            ],
            "application/vnd.jupyter.widget-view+json": {
              "version_major": 2,
              "version_minor": 0,
              "model_id": "a9699357b1e445718c2cec11a1dd9082"
            }
          },
          "metadata": {}
        },
        {
          "output_type": "stream",
          "name": "stderr",
          "text": [
            "100%|██████████| 19/19 [00:24<00:00,  1.30s/it]\n"
          ]
        },
        {
          "output_type": "stream",
          "name": "stdout",
          "text": [
            "Accuracy: 0.77\n",
            "F1 Score: 0.6699435028248587\n",
            "<class 'float'>\n",
            "<class 'numpy.float64'>\n",
            "Epoch 0, dev accuracy: 0.770\n"
          ]
        },
        {
          "output_type": "stream",
          "name": "stderr",
          "text": [
            "100%|██████████| 19/19 [00:22<00:00,  1.19s/it]\n"
          ]
        },
        {
          "output_type": "stream",
          "name": "stdout",
          "text": [
            "Accuracy: 0.775\n",
            "F1 Score: 0.6816285938159242\n",
            "<class 'float'>\n",
            "<class 'numpy.float64'>\n",
            "Epoch 1, dev accuracy: 0.775\n"
          ]
        },
        {
          "output_type": "stream",
          "name": "stderr",
          "text": [
            "100%|██████████| 19/19 [00:23<00:00,  1.26s/it]\n"
          ]
        },
        {
          "output_type": "stream",
          "name": "stdout",
          "text": [
            "Accuracy: 0.81\n",
            "F1 Score: 0.7588704318936875\n",
            "<class 'float'>\n",
            "<class 'numpy.float64'>\n",
            "Epoch 2, dev accuracy: 0.810\n"
          ]
        },
        {
          "output_type": "stream",
          "name": "stderr",
          "text": [
            "100%|██████████| 19/19 [00:23<00:00,  1.26s/it]\n"
          ]
        },
        {
          "output_type": "stream",
          "name": "stdout",
          "text": [
            "Accuracy: 0.86\n",
            "F1 Score: 0.8487199480181935\n",
            "<class 'float'>\n",
            "<class 'numpy.float64'>\n",
            "Epoch 3, dev accuracy: 0.860\n"
          ]
        },
        {
          "output_type": "stream",
          "name": "stderr",
          "text": [
            "100%|██████████| 19/19 [00:23<00:00,  1.24s/it]\n"
          ]
        },
        {
          "output_type": "stream",
          "name": "stdout",
          "text": [
            "Accuracy: 0.845\n",
            "F1 Score: 0.8335016686100277\n",
            "<class 'float'>\n",
            "<class 'numpy.float64'>\n",
            "Epoch 4, dev accuracy: 0.845\n"
          ]
        },
        {
          "output_type": "stream",
          "name": "stderr",
          "text": [
            "100%|██████████| 19/19 [00:23<00:00,  1.25s/it]\n"
          ]
        },
        {
          "output_type": "stream",
          "name": "stdout",
          "text": [
            "Accuracy: 0.845\n",
            "F1 Score: 0.8270242732993708\n",
            "<class 'float'>\n",
            "<class 'numpy.float64'>\n",
            "Epoch 5, dev accuracy: 0.845\n"
          ]
        },
        {
          "output_type": "stream",
          "name": "stderr",
          "text": [
            "100%|██████████| 19/19 [00:23<00:00,  1.25s/it]\n"
          ]
        },
        {
          "output_type": "stream",
          "name": "stdout",
          "text": [
            "Accuracy: 0.855\n",
            "F1 Score: 0.844243496441639\n",
            "<class 'float'>\n",
            "<class 'numpy.float64'>\n",
            "Epoch 6, dev accuracy: 0.855\n"
          ]
        },
        {
          "output_type": "stream",
          "name": "stderr",
          "text": [
            "100%|██████████| 19/19 [00:23<00:00,  1.25s/it]\n"
          ]
        },
        {
          "output_type": "stream",
          "name": "stdout",
          "text": [
            "Accuracy: 0.845\n",
            "F1 Score: 0.8455808903365909\n",
            "<class 'float'>\n",
            "<class 'numpy.float64'>\n",
            "Epoch 7, dev accuracy: 0.845\n"
          ]
        },
        {
          "output_type": "stream",
          "name": "stderr",
          "text": [
            "100%|██████████| 19/19 [00:23<00:00,  1.25s/it]\n"
          ]
        },
        {
          "output_type": "stream",
          "name": "stdout",
          "text": [
            "Accuracy: 0.815\n",
            "F1 Score: 0.8270994946021113\n",
            "<class 'float'>\n",
            "<class 'numpy.float64'>\n",
            "Epoch 8, dev accuracy: 0.815\n"
          ]
        },
        {
          "output_type": "stream",
          "name": "stderr",
          "text": [
            "100%|██████████| 19/19 [00:23<00:00,  1.25s/it]\n"
          ]
        },
        {
          "output_type": "stream",
          "name": "stdout",
          "text": [
            "Accuracy: 0.89\n",
            "F1 Score: 0.8915679824561402\n",
            "<class 'float'>\n",
            "<class 'numpy.float64'>\n",
            "Epoch 9, dev accuracy: 0.890\n"
          ]
        },
        {
          "output_type": "stream",
          "name": "stderr",
          "text": [
            "100%|██████████| 19/19 [00:23<00:00,  1.25s/it]\n"
          ]
        },
        {
          "output_type": "stream",
          "name": "stdout",
          "text": [
            "Accuracy: 0.865\n",
            "F1 Score: 0.8549853242732499\n",
            "<class 'float'>\n",
            "<class 'numpy.float64'>\n",
            "Epoch 10, dev accuracy: 0.865\n"
          ]
        },
        {
          "output_type": "stream",
          "name": "stderr",
          "text": [
            "100%|██████████| 19/19 [00:23<00:00,  1.26s/it]\n"
          ]
        },
        {
          "output_type": "stream",
          "name": "stdout",
          "text": [
            "Accuracy: 0.825\n",
            "F1 Score: 0.801913393756294\n",
            "<class 'float'>\n",
            "<class 'numpy.float64'>\n",
            "Epoch 11, dev accuracy: 0.825\n"
          ]
        },
        {
          "output_type": "stream",
          "name": "stderr",
          "text": [
            "100%|██████████| 19/19 [00:23<00:00,  1.26s/it]\n"
          ]
        },
        {
          "output_type": "stream",
          "name": "stdout",
          "text": [
            "Accuracy: 0.83\n",
            "F1 Score: 0.8163027940220923\n",
            "<class 'float'>\n",
            "<class 'numpy.float64'>\n",
            "Epoch 12, dev accuracy: 0.830\n"
          ]
        },
        {
          "output_type": "stream",
          "name": "stderr",
          "text": [
            "100%|██████████| 19/19 [00:23<00:00,  1.25s/it]\n"
          ]
        },
        {
          "output_type": "stream",
          "name": "stdout",
          "text": [
            "Accuracy: 0.835\n",
            "F1 Score: 0.8183209752419254\n",
            "<class 'float'>\n",
            "<class 'numpy.float64'>\n",
            "Epoch 13, dev accuracy: 0.835\n"
          ]
        },
        {
          "output_type": "stream",
          "name": "stderr",
          "text": [
            "100%|██████████| 19/19 [00:23<00:00,  1.25s/it]\n"
          ]
        },
        {
          "output_type": "stream",
          "name": "stdout",
          "text": [
            "Accuracy: 0.815\n",
            "F1 Score: 0.7874295190713102\n",
            "<class 'float'>\n",
            "<class 'numpy.float64'>\n",
            "Epoch 14, dev accuracy: 0.815\n",
            "\n",
            "Best Performing Model achieves dev accuracy of : 0.890\n",
            "Time: 418.197 seconds ---\n"
          ]
        }
      ],
      "source": [
        "train_and_evaluate(\"bert-base-cased\", \"convote-bert-base-cased\", train_x, train_y, dev_x, dev_y, labels, embedding_size=768, doLowerCase=False)"
      ]
    },
    {
      "cell_type": "code",
      "source": [
        "test_x, test_y=read_data(\"/content/test.tsv\", labels, max_data_points=1000)\n",
        "\n",
        "def test_model(model_filename, bert_model_name, test_x, test_y, labels, embedding_size=768, doLowerCase=None):\n",
        "    bert_model = BERTClassifier(params={\"doLowerCase\": doLowerCase, \"model_name\": bert_model_name, \"embedding_size\": embedding_size, \"label_length\": len(labels)})\n",
        "    bert_model.to(device)\n",
        "    bert_model.load_state_dict(torch.load(model_filename))\n",
        "\n",
        "    test_batch_x, test_batch_y = bert_model.get_batches(test_x, test_y)\n",
        "\n",
        "    test_accuracy, test_F1 = evaluate(bert_model, test_batch_x, test_batch_y)\n",
        "    print(\"Test accuracy: %.3f\" % test_accuracy)\n",
        "    print(\"Test F1 score: %.3f\" % test_F1)\n",
        "\n",
        "\n",
        "test_model(\"convote-bert-base-cased\", \"bert-base-cased\", test_x, test_y, labels)"
      ],
      "metadata": {
        "id": "t8SmrZD0PKFF",
        "colab": {
          "base_uri": "https://localhost:8080/"
        },
        "outputId": "f378afc5-3173-42ea-bae8-226c3d907de9"
      },
      "execution_count": null,
      "outputs": [
        {
          "output_type": "stream",
          "name": "stdout",
          "text": [
            "Accuracy: 0.81\n",
            "F1 Score: 0.8191695546142986\n",
            "Test accuracy: 0.810\n",
            "Test F1 score: 0.819\n"
          ]
        }
      ]
    },
    {
      "cell_type": "code",
      "source": [
        "import scipy.stats as stats\n",
        "\n",
        "def calculate_confidence_interval(correct_predictions, total_predictions, confidence_level=0.95):\n",
        "    # Calculate the proportion (accuracy)\n",
        "    p_hat = correct_predictions / total_predictions\n",
        "\n",
        "    # Calculate the z-score\n",
        "    z = stats.norm.ppf(1 - (1 - confidence_level) / 2)\n",
        "\n",
        "    # Calculate the margin of error\n",
        "    margin_of_error = z * ((p_hat * (1 - p_hat) / total_predictions) + (z**2 / (4 * total_predictions**2)))**0.5\n",
        "\n",
        "    # Calculate the confidence interval\n",
        "    ci_lower = p_hat - margin_of_error\n",
        "    ci_upper = p_hat + margin_of_error\n",
        "\n",
        "    return ci_lower, ci_upper\n",
        "\n",
        "# Example usage\n",
        "ci_lower, ci_upper = calculate_confidence_interval(160, 200)\n",
        "print(f\"The 95% confidence interval for the accuracy is: {ci_lower:.2f} to {ci_upper:.2f}\")\n"
      ],
      "metadata": {
        "id": "S-sOGDKnQDjY",
        "colab": {
          "base_uri": "https://localhost:8080/"
        },
        "outputId": "824212ee-f4f8-488a-b700-c5d90691134a"
      },
      "execution_count": null,
      "outputs": [
        {
          "output_type": "stream",
          "name": "stdout",
          "text": [
            "The 95% confidence interval for the accuracy is: 0.74 to 0.86\n"
          ]
        }
      ]
    },
    {
      "cell_type": "code",
      "source": [
        "#Finally the majority class function and evaluation\n",
        "def majority_class(trainY, devY):\n",
        "    labelCounts=Counter()\n",
        "    for label in trainY:\n",
        "        labelCounts[label]+=1\n",
        "    majority=labelCounts.most_common(1)[0][0]\n",
        "\n",
        "    correct=0.\n",
        "    for label in devY:\n",
        "        if label == majority:\n",
        "            correct+=1\n",
        "\n",
        "    print(\"%s\\t%.3f\" % (majority, correct/len(devY)))"
      ],
      "metadata": {
        "id": "u9DR3iA8AvkV"
      },
      "execution_count": null,
      "outputs": []
    },
    {
      "cell_type": "code",
      "source": [
        "baseline=majority_class(train_y,test_y)"
      ],
      "metadata": {
        "id": "LtojaP4TA6tU",
        "colab": {
          "base_uri": "https://localhost:8080/"
        },
        "outputId": "1fe8cd5c-5cfe-487b-eb80-d8971c428031"
      },
      "execution_count": null,
      "outputs": [
        {
          "output_type": "stream",
          "name": "stdout",
          "text": [
            "0\t0.775\n"
          ]
        }
      ]
    },
    {
      "cell_type": "code",
      "source": [
        "def test_model_and_save_results(model_filename, bert_model_name, test_x, test_y, labels, output_csv, embedding_size=768, doLowerCase=None):\n",
        "    bert_model = BERTClassifier(params={\"doLowerCase\": doLowerCase, \"model_name\": bert_model_name, \"embedding_size\": embedding_size, \"label_length\": len(labels)})\n",
        "    bert_model.to(device)\n",
        "    bert_model.load_state_dict(torch.load(model_filename))\n",
        "\n",
        "    test_batch_x, test_batch_y = bert_model.get_batches(test_x, test_y)\n",
        "\n",
        "    test_accuracy, test_F1 = evaluate(bert_model, test_batch_x, test_batch_y)\n",
        "    print(\"Test accuracy: %.3f\" % test_accuracy)\n",
        "    print(\"Test F1 score: %.3f\" % test_F1)\n",
        "\n",
        "    # Get predictions and original labels\n",
        "    predictions_list = []\n",
        "    original_labels_list = []\n",
        "\n",
        "    with torch.no_grad():\n",
        "        for x, y in zip(test_batch_x, test_batch_y):\n",
        "            y_pred = bert_model.forward(x)\n",
        "            predictions = torch.argmax(y_pred, dim=-1)\n",
        "\n",
        "            # Save predictions and original labels\n",
        "            predictions_list.extend(predictions.cpu().numpy())\n",
        "            original_labels_list.extend(y.cpu().numpy())\n",
        "\n",
        "    # Write results to CSV\n",
        "    with open(output_csv, 'w', newline='', encoding='utf-8') as csvfile:\n",
        "        fieldnames = ['Input', 'Predicted Label', 'Original Label']\n",
        "        writer = csv.DictWriter(csvfile, fieldnames=fieldnames)\n",
        "\n",
        "        writer.writeheader()\n",
        "\n",
        "        for input_text, predicted_label, original_label in zip(test_x, predictions_list, original_labels_list):\n",
        "            try:\n",
        "                if predicted_label == 0:\n",
        "                  pred_label = 'NK'\n",
        "\n",
        "                else:\n",
        "                  pred_label = 'K'\n",
        "\n",
        "                if original_label == 0:\n",
        "                  org_label = 'NK'\n",
        "\n",
        "                else:\n",
        "                  org_label = 'K'\n",
        "\n",
        "                writer.writerow({'Input': input_text, 'Predicted Label': labels[pred_label], 'Original Label': labels[org_label]})\n",
        "            except KeyError as e:\n",
        "                print(f\"Error: {e} (predicted_label={predicted_label}, original_label={original_label})\")\n",
        "                print(f\"Labels list: {labels}\")\n",
        "\n",
        "    print(f\"Results saved to {output_csv}\")\n"
      ],
      "metadata": {
        "id": "D5z_ar-mQNaM"
      },
      "execution_count": null,
      "outputs": []
    },
    {
      "cell_type": "code",
      "source": [
        "import pandas as pd\n",
        "import csv\n",
        "\n",
        "def final_analysis(model_filename, bert_model_name, input_tsv, output_csv, embedding_size=768, doLowerCase=None):\n",
        "    bert_model = BERTClassifier(params={\"doLowerCase\": doLowerCase, \"model_name\": bert_model_name, \"embedding_size\": embedding_size, \"label_length\": len(labels)})\n",
        "    bert_model.to(device)\n",
        "    bert_model.load_state_dict(torch.load(model_filename))\n",
        "\n",
        "    # Load the TSV file into a DataFrame\n",
        "    file_path = input_tsv\n",
        "    df = pd.read_csv(file_path, sep='\\t')\n",
        "    df['dummy'] = 0\n",
        "\n",
        "    response_list = tuple(df['response'].to_list())\n",
        "    dummy_list = tuple(df['dummy'].to_list())\n",
        "    year_list = df['year'].to_list()\n",
        "    subreddit_list = df['subreddit'].to_list()\n",
        "\n",
        "    test_batch_x, test_batch_y = bert_model.get_batches(response_list, dummy_list)\n",
        "\n",
        "    # Get predictions\n",
        "    predictions_list = []\n",
        "\n",
        "    with torch.no_grad():\n",
        "        for x in test_batch_x:\n",
        "            y_pred = bert_model.forward(x)\n",
        "            predictions = torch.argmax(y_pred, dim=-1)\n",
        "\n",
        "            # Save predictions\n",
        "            predictions_list.extend(predictions.cpu().numpy())\n",
        "\n",
        "    # Write results to CSV\n",
        "    with open(output_csv, 'w', newline='', encoding='utf-8') as csvfile:\n",
        "        fieldnames = ['Input', 'Year', 'Subreddit','Predicted Label']\n",
        "        writer = csv.DictWriter(csvfile, fieldnames=fieldnames)\n",
        "\n",
        "        writer.writeheader()\n",
        "\n",
        "        for input_text, year, subreddit, predicted_label in zip(response_list, year_list, subreddit_list ,predictions_list):\n",
        "            try:\n",
        "                if predicted_label == 0:\n",
        "                  pred_label = 'NK'\n",
        "\n",
        "                else:\n",
        "                  pred_label = 'K'\n",
        "\n",
        "\n",
        "                writer.writerow({'Input': input_text, 'Year': year, 'Subreddit': subreddit, 'Predicted Label': labels[pred_label]})\n",
        "            except KeyError as e:\n",
        "                print(f\"Error: {e} (predicted_label={predicted_label}, input={input_text})\")\n",
        "                print(f\"Labels list: {labels}\")\n",
        "\n",
        "    print(f\"Results saved to {output_csv}\")\n",
        "\n",
        "\n",
        "final_analysis(\"convote-bert-base-cased\", \"bert-base-cased\", \"final_dataset.tsv\", \"test_results_final.csv\")\n",
        "\n",
        "\n",
        "\n"
      ],
      "metadata": {
        "colab": {
          "base_uri": "https://localhost:8080/",
          "height": 506
        },
        "id": "iW11I_BfR-Gy",
        "outputId": "712a6936-51a3-4edb-9689-f336a4b9c820"
      },
      "execution_count": null,
      "outputs": [
        {
          "output_type": "error",
          "ename": "FileNotFoundError",
          "evalue": "ignored",
          "traceback": [
            "\u001b[0;31m---------------------------------------------------------------------------\u001b[0m",
            "\u001b[0;31mFileNotFoundError\u001b[0m                         Traceback (most recent call last)",
            "\u001b[0;32m<ipython-input-32-bc2bd97551c0>\u001b[0m in \u001b[0;36m<cell line: 56>\u001b[0;34m()\u001b[0m\n\u001b[1;32m     54\u001b[0m \u001b[0;34m\u001b[0m\u001b[0m\n\u001b[1;32m     55\u001b[0m \u001b[0;34m\u001b[0m\u001b[0m\n\u001b[0;32m---> 56\u001b[0;31m \u001b[0mfinal_analysis\u001b[0m\u001b[0;34m(\u001b[0m\u001b[0;34m\"convote-bert-base-cased\"\u001b[0m\u001b[0;34m,\u001b[0m \u001b[0;34m\"bert-base-cased\"\u001b[0m\u001b[0;34m,\u001b[0m \u001b[0;34m\"final_dataset.csv\"\u001b[0m\u001b[0;34m,\u001b[0m \u001b[0;34m\"test_results_final.csv\"\u001b[0m\u001b[0;34m)\u001b[0m\u001b[0;34m\u001b[0m\u001b[0;34m\u001b[0m\u001b[0m\n\u001b[0m\u001b[1;32m     57\u001b[0m \u001b[0;34m\u001b[0m\u001b[0m\n\u001b[1;32m     58\u001b[0m \u001b[0;34m\u001b[0m\u001b[0m\n",
            "\u001b[0;32m<ipython-input-32-bc2bd97551c0>\u001b[0m in \u001b[0;36mfinal_analysis\u001b[0;34m(model_filename, bert_model_name, input_tsv, output_csv, embedding_size, doLowerCase)\u001b[0m\n\u001b[1;32m      9\u001b[0m     \u001b[0;31m# Load the TSV file into a DataFrame\u001b[0m\u001b[0;34m\u001b[0m\u001b[0;34m\u001b[0m\u001b[0m\n\u001b[1;32m     10\u001b[0m     \u001b[0mfile_path\u001b[0m \u001b[0;34m=\u001b[0m \u001b[0minput_tsv\u001b[0m\u001b[0;34m\u001b[0m\u001b[0;34m\u001b[0m\u001b[0m\n\u001b[0;32m---> 11\u001b[0;31m     \u001b[0mdf\u001b[0m \u001b[0;34m=\u001b[0m \u001b[0mpd\u001b[0m\u001b[0;34m.\u001b[0m\u001b[0mread_csv\u001b[0m\u001b[0;34m(\u001b[0m\u001b[0mfile_path\u001b[0m\u001b[0;34m,\u001b[0m \u001b[0msep\u001b[0m\u001b[0;34m=\u001b[0m\u001b[0;34m'\\t'\u001b[0m\u001b[0;34m)\u001b[0m\u001b[0;34m\u001b[0m\u001b[0;34m\u001b[0m\u001b[0m\n\u001b[0m\u001b[1;32m     12\u001b[0m     \u001b[0mdf\u001b[0m\u001b[0;34m[\u001b[0m\u001b[0;34m'dummy'\u001b[0m\u001b[0;34m]\u001b[0m \u001b[0;34m=\u001b[0m \u001b[0;36m0\u001b[0m\u001b[0;34m\u001b[0m\u001b[0;34m\u001b[0m\u001b[0m\n\u001b[1;32m     13\u001b[0m \u001b[0;34m\u001b[0m\u001b[0m\n",
            "\u001b[0;32m/usr/local/lib/python3.10/dist-packages/pandas/util/_decorators.py\u001b[0m in \u001b[0;36mwrapper\u001b[0;34m(*args, **kwargs)\u001b[0m\n\u001b[1;32m    209\u001b[0m                 \u001b[0;32melse\u001b[0m\u001b[0;34m:\u001b[0m\u001b[0;34m\u001b[0m\u001b[0;34m\u001b[0m\u001b[0m\n\u001b[1;32m    210\u001b[0m                     \u001b[0mkwargs\u001b[0m\u001b[0;34m[\u001b[0m\u001b[0mnew_arg_name\u001b[0m\u001b[0;34m]\u001b[0m \u001b[0;34m=\u001b[0m \u001b[0mnew_arg_value\u001b[0m\u001b[0;34m\u001b[0m\u001b[0;34m\u001b[0m\u001b[0m\n\u001b[0;32m--> 211\u001b[0;31m             \u001b[0;32mreturn\u001b[0m \u001b[0mfunc\u001b[0m\u001b[0;34m(\u001b[0m\u001b[0;34m*\u001b[0m\u001b[0margs\u001b[0m\u001b[0;34m,\u001b[0m \u001b[0;34m**\u001b[0m\u001b[0mkwargs\u001b[0m\u001b[0;34m)\u001b[0m\u001b[0;34m\u001b[0m\u001b[0;34m\u001b[0m\u001b[0m\n\u001b[0m\u001b[1;32m    212\u001b[0m \u001b[0;34m\u001b[0m\u001b[0m\n\u001b[1;32m    213\u001b[0m         \u001b[0;32mreturn\u001b[0m \u001b[0mcast\u001b[0m\u001b[0;34m(\u001b[0m\u001b[0mF\u001b[0m\u001b[0;34m,\u001b[0m \u001b[0mwrapper\u001b[0m\u001b[0;34m)\u001b[0m\u001b[0;34m\u001b[0m\u001b[0;34m\u001b[0m\u001b[0m\n",
            "\u001b[0;32m/usr/local/lib/python3.10/dist-packages/pandas/util/_decorators.py\u001b[0m in \u001b[0;36mwrapper\u001b[0;34m(*args, **kwargs)\u001b[0m\n\u001b[1;32m    329\u001b[0m                     \u001b[0mstacklevel\u001b[0m\u001b[0;34m=\u001b[0m\u001b[0mfind_stack_level\u001b[0m\u001b[0;34m(\u001b[0m\u001b[0;34m)\u001b[0m\u001b[0;34m,\u001b[0m\u001b[0;34m\u001b[0m\u001b[0;34m\u001b[0m\u001b[0m\n\u001b[1;32m    330\u001b[0m                 )\n\u001b[0;32m--> 331\u001b[0;31m             \u001b[0;32mreturn\u001b[0m \u001b[0mfunc\u001b[0m\u001b[0;34m(\u001b[0m\u001b[0;34m*\u001b[0m\u001b[0margs\u001b[0m\u001b[0;34m,\u001b[0m \u001b[0;34m**\u001b[0m\u001b[0mkwargs\u001b[0m\u001b[0;34m)\u001b[0m\u001b[0;34m\u001b[0m\u001b[0;34m\u001b[0m\u001b[0m\n\u001b[0m\u001b[1;32m    332\u001b[0m \u001b[0;34m\u001b[0m\u001b[0m\n\u001b[1;32m    333\u001b[0m         \u001b[0;31m# error: \"Callable[[VarArg(Any), KwArg(Any)], Any]\" has no\u001b[0m\u001b[0;34m\u001b[0m\u001b[0;34m\u001b[0m\u001b[0m\n",
            "\u001b[0;32m/usr/local/lib/python3.10/dist-packages/pandas/io/parsers/readers.py\u001b[0m in \u001b[0;36mread_csv\u001b[0;34m(filepath_or_buffer, sep, delimiter, header, names, index_col, usecols, squeeze, prefix, mangle_dupe_cols, dtype, engine, converters, true_values, false_values, skipinitialspace, skiprows, skipfooter, nrows, na_values, keep_default_na, na_filter, verbose, skip_blank_lines, parse_dates, infer_datetime_format, keep_date_col, date_parser, dayfirst, cache_dates, iterator, chunksize, compression, thousands, decimal, lineterminator, quotechar, quoting, doublequote, escapechar, comment, encoding, encoding_errors, dialect, error_bad_lines, warn_bad_lines, on_bad_lines, delim_whitespace, low_memory, memory_map, float_precision, storage_options)\u001b[0m\n\u001b[1;32m    948\u001b[0m     \u001b[0mkwds\u001b[0m\u001b[0;34m.\u001b[0m\u001b[0mupdate\u001b[0m\u001b[0;34m(\u001b[0m\u001b[0mkwds_defaults\u001b[0m\u001b[0;34m)\u001b[0m\u001b[0;34m\u001b[0m\u001b[0;34m\u001b[0m\u001b[0m\n\u001b[1;32m    949\u001b[0m \u001b[0;34m\u001b[0m\u001b[0m\n\u001b[0;32m--> 950\u001b[0;31m     \u001b[0;32mreturn\u001b[0m \u001b[0m_read\u001b[0m\u001b[0;34m(\u001b[0m\u001b[0mfilepath_or_buffer\u001b[0m\u001b[0;34m,\u001b[0m \u001b[0mkwds\u001b[0m\u001b[0;34m)\u001b[0m\u001b[0;34m\u001b[0m\u001b[0;34m\u001b[0m\u001b[0m\n\u001b[0m\u001b[1;32m    951\u001b[0m \u001b[0;34m\u001b[0m\u001b[0m\n\u001b[1;32m    952\u001b[0m \u001b[0;34m\u001b[0m\u001b[0m\n",
            "\u001b[0;32m/usr/local/lib/python3.10/dist-packages/pandas/io/parsers/readers.py\u001b[0m in \u001b[0;36m_read\u001b[0;34m(filepath_or_buffer, kwds)\u001b[0m\n\u001b[1;32m    603\u001b[0m \u001b[0;34m\u001b[0m\u001b[0m\n\u001b[1;32m    604\u001b[0m     \u001b[0;31m# Create the parser.\u001b[0m\u001b[0;34m\u001b[0m\u001b[0;34m\u001b[0m\u001b[0m\n\u001b[0;32m--> 605\u001b[0;31m     \u001b[0mparser\u001b[0m \u001b[0;34m=\u001b[0m \u001b[0mTextFileReader\u001b[0m\u001b[0;34m(\u001b[0m\u001b[0mfilepath_or_buffer\u001b[0m\u001b[0;34m,\u001b[0m \u001b[0;34m**\u001b[0m\u001b[0mkwds\u001b[0m\u001b[0;34m)\u001b[0m\u001b[0;34m\u001b[0m\u001b[0;34m\u001b[0m\u001b[0m\n\u001b[0m\u001b[1;32m    606\u001b[0m \u001b[0;34m\u001b[0m\u001b[0m\n\u001b[1;32m    607\u001b[0m     \u001b[0;32mif\u001b[0m \u001b[0mchunksize\u001b[0m \u001b[0;32mor\u001b[0m \u001b[0miterator\u001b[0m\u001b[0;34m:\u001b[0m\u001b[0;34m\u001b[0m\u001b[0;34m\u001b[0m\u001b[0m\n",
            "\u001b[0;32m/usr/local/lib/python3.10/dist-packages/pandas/io/parsers/readers.py\u001b[0m in \u001b[0;36m__init__\u001b[0;34m(self, f, engine, **kwds)\u001b[0m\n\u001b[1;32m   1440\u001b[0m \u001b[0;34m\u001b[0m\u001b[0m\n\u001b[1;32m   1441\u001b[0m         \u001b[0mself\u001b[0m\u001b[0;34m.\u001b[0m\u001b[0mhandles\u001b[0m\u001b[0;34m:\u001b[0m \u001b[0mIOHandles\u001b[0m \u001b[0;34m|\u001b[0m \u001b[0;32mNone\u001b[0m \u001b[0;34m=\u001b[0m \u001b[0;32mNone\u001b[0m\u001b[0;34m\u001b[0m\u001b[0;34m\u001b[0m\u001b[0m\n\u001b[0;32m-> 1442\u001b[0;31m         \u001b[0mself\u001b[0m\u001b[0;34m.\u001b[0m\u001b[0m_engine\u001b[0m \u001b[0;34m=\u001b[0m \u001b[0mself\u001b[0m\u001b[0;34m.\u001b[0m\u001b[0m_make_engine\u001b[0m\u001b[0;34m(\u001b[0m\u001b[0mf\u001b[0m\u001b[0;34m,\u001b[0m \u001b[0mself\u001b[0m\u001b[0;34m.\u001b[0m\u001b[0mengine\u001b[0m\u001b[0;34m)\u001b[0m\u001b[0;34m\u001b[0m\u001b[0;34m\u001b[0m\u001b[0m\n\u001b[0m\u001b[1;32m   1443\u001b[0m \u001b[0;34m\u001b[0m\u001b[0m\n\u001b[1;32m   1444\u001b[0m     \u001b[0;32mdef\u001b[0m \u001b[0mclose\u001b[0m\u001b[0;34m(\u001b[0m\u001b[0mself\u001b[0m\u001b[0;34m)\u001b[0m \u001b[0;34m->\u001b[0m \u001b[0;32mNone\u001b[0m\u001b[0;34m:\u001b[0m\u001b[0;34m\u001b[0m\u001b[0;34m\u001b[0m\u001b[0m\n",
            "\u001b[0;32m/usr/local/lib/python3.10/dist-packages/pandas/io/parsers/readers.py\u001b[0m in \u001b[0;36m_make_engine\u001b[0;34m(self, f, engine)\u001b[0m\n\u001b[1;32m   1733\u001b[0m                 \u001b[0;32mif\u001b[0m \u001b[0;34m\"b\"\u001b[0m \u001b[0;32mnot\u001b[0m \u001b[0;32min\u001b[0m \u001b[0mmode\u001b[0m\u001b[0;34m:\u001b[0m\u001b[0;34m\u001b[0m\u001b[0;34m\u001b[0m\u001b[0m\n\u001b[1;32m   1734\u001b[0m                     \u001b[0mmode\u001b[0m \u001b[0;34m+=\u001b[0m \u001b[0;34m\"b\"\u001b[0m\u001b[0;34m\u001b[0m\u001b[0;34m\u001b[0m\u001b[0m\n\u001b[0;32m-> 1735\u001b[0;31m             self.handles = get_handle(\n\u001b[0m\u001b[1;32m   1736\u001b[0m                 \u001b[0mf\u001b[0m\u001b[0;34m,\u001b[0m\u001b[0;34m\u001b[0m\u001b[0;34m\u001b[0m\u001b[0m\n\u001b[1;32m   1737\u001b[0m                 \u001b[0mmode\u001b[0m\u001b[0;34m,\u001b[0m\u001b[0;34m\u001b[0m\u001b[0;34m\u001b[0m\u001b[0m\n",
            "\u001b[0;32m/usr/local/lib/python3.10/dist-packages/pandas/io/common.py\u001b[0m in \u001b[0;36mget_handle\u001b[0;34m(path_or_buf, mode, encoding, compression, memory_map, is_text, errors, storage_options)\u001b[0m\n\u001b[1;32m    854\u001b[0m         \u001b[0;32mif\u001b[0m \u001b[0mioargs\u001b[0m\u001b[0;34m.\u001b[0m\u001b[0mencoding\u001b[0m \u001b[0;32mand\u001b[0m \u001b[0;34m\"b\"\u001b[0m \u001b[0;32mnot\u001b[0m \u001b[0;32min\u001b[0m \u001b[0mioargs\u001b[0m\u001b[0;34m.\u001b[0m\u001b[0mmode\u001b[0m\u001b[0;34m:\u001b[0m\u001b[0;34m\u001b[0m\u001b[0;34m\u001b[0m\u001b[0m\n\u001b[1;32m    855\u001b[0m             \u001b[0;31m# Encoding\u001b[0m\u001b[0;34m\u001b[0m\u001b[0;34m\u001b[0m\u001b[0m\n\u001b[0;32m--> 856\u001b[0;31m             handle = open(\n\u001b[0m\u001b[1;32m    857\u001b[0m                 \u001b[0mhandle\u001b[0m\u001b[0;34m,\u001b[0m\u001b[0;34m\u001b[0m\u001b[0;34m\u001b[0m\u001b[0m\n\u001b[1;32m    858\u001b[0m                 \u001b[0mioargs\u001b[0m\u001b[0;34m.\u001b[0m\u001b[0mmode\u001b[0m\u001b[0;34m,\u001b[0m\u001b[0;34m\u001b[0m\u001b[0;34m\u001b[0m\u001b[0m\n",
            "\u001b[0;31mFileNotFoundError\u001b[0m: [Errno 2] No such file or directory: 'final_dataset.csv'"
          ]
        }
      ]
    }
  ],
  "metadata": {
    "accelerator": "GPU",
    "colab": {
      "provenance": [],
      "gpuType": "T4",
      "machine_shape": "hm"
    },
    "kernelspec": {
      "display_name": "Python 3",
      "name": "python3"
    },
    "language_info": {
      "codemirror_mode": {
        "name": "ipython",
        "version": 3
      },
      "file_extension": ".py",
      "mimetype": "text/x-python",
      "name": "python",
      "nbconvert_exporter": "python",
      "pygments_lexer": "ipython3",
      "version": "3.8.3"
    },
    "widgets": {
      "application/vnd.jupyter.widget-state+json": {
        "68953db9549a43b695b55a5936b47683": {
          "model_module": "@jupyter-widgets/controls",
          "model_name": "HBoxModel",
          "model_module_version": "1.5.0",
          "state": {
            "_dom_classes": [],
            "_model_module": "@jupyter-widgets/controls",
            "_model_module_version": "1.5.0",
            "_model_name": "HBoxModel",
            "_view_count": null,
            "_view_module": "@jupyter-widgets/controls",
            "_view_module_version": "1.5.0",
            "_view_name": "HBoxView",
            "box_style": "",
            "children": [
              "IPY_MODEL_3e3f82a1fc934ce6aa29b23aec2ba02a",
              "IPY_MODEL_ca8f57ed65134130a2352f254247d89a",
              "IPY_MODEL_8c91751350d445ae8269ac83921495c7"
            ],
            "layout": "IPY_MODEL_a31993b4a1cc4b3a8c419bb9ea5164ae"
          }
        },
        "3e3f82a1fc934ce6aa29b23aec2ba02a": {
          "model_module": "@jupyter-widgets/controls",
          "model_name": "HTMLModel",
          "model_module_version": "1.5.0",
          "state": {
            "_dom_classes": [],
            "_model_module": "@jupyter-widgets/controls",
            "_model_module_version": "1.5.0",
            "_model_name": "HTMLModel",
            "_view_count": null,
            "_view_module": "@jupyter-widgets/controls",
            "_view_module_version": "1.5.0",
            "_view_name": "HTMLView",
            "description": "",
            "description_tooltip": null,
            "layout": "IPY_MODEL_348010e7ab1c4b379f07d9fca0068176",
            "placeholder": "​",
            "style": "IPY_MODEL_84b95029b91f4dcdabb0c8c9ed689254",
            "value": "tokenizer_config.json: 100%"
          }
        },
        "ca8f57ed65134130a2352f254247d89a": {
          "model_module": "@jupyter-widgets/controls",
          "model_name": "FloatProgressModel",
          "model_module_version": "1.5.0",
          "state": {
            "_dom_classes": [],
            "_model_module": "@jupyter-widgets/controls",
            "_model_module_version": "1.5.0",
            "_model_name": "FloatProgressModel",
            "_view_count": null,
            "_view_module": "@jupyter-widgets/controls",
            "_view_module_version": "1.5.0",
            "_view_name": "ProgressView",
            "bar_style": "success",
            "description": "",
            "description_tooltip": null,
            "layout": "IPY_MODEL_2521b3797fc143a7b7398534f5ab13ac",
            "max": 29,
            "min": 0,
            "orientation": "horizontal",
            "style": "IPY_MODEL_34b78669addf4e9db2efe86446f2b391",
            "value": 29
          }
        },
        "8c91751350d445ae8269ac83921495c7": {
          "model_module": "@jupyter-widgets/controls",
          "model_name": "HTMLModel",
          "model_module_version": "1.5.0",
          "state": {
            "_dom_classes": [],
            "_model_module": "@jupyter-widgets/controls",
            "_model_module_version": "1.5.0",
            "_model_name": "HTMLModel",
            "_view_count": null,
            "_view_module": "@jupyter-widgets/controls",
            "_view_module_version": "1.5.0",
            "_view_name": "HTMLView",
            "description": "",
            "description_tooltip": null,
            "layout": "IPY_MODEL_ab98679616544012be0e89c1a044701d",
            "placeholder": "​",
            "style": "IPY_MODEL_31792c347aee4c068b571752d6f49681",
            "value": " 29.0/29.0 [00:00&lt;00:00, 2.41kB/s]"
          }
        },
        "a31993b4a1cc4b3a8c419bb9ea5164ae": {
          "model_module": "@jupyter-widgets/base",
          "model_name": "LayoutModel",
          "model_module_version": "1.2.0",
          "state": {
            "_model_module": "@jupyter-widgets/base",
            "_model_module_version": "1.2.0",
            "_model_name": "LayoutModel",
            "_view_count": null,
            "_view_module": "@jupyter-widgets/base",
            "_view_module_version": "1.2.0",
            "_view_name": "LayoutView",
            "align_content": null,
            "align_items": null,
            "align_self": null,
            "border": null,
            "bottom": null,
            "display": null,
            "flex": null,
            "flex_flow": null,
            "grid_area": null,
            "grid_auto_columns": null,
            "grid_auto_flow": null,
            "grid_auto_rows": null,
            "grid_column": null,
            "grid_gap": null,
            "grid_row": null,
            "grid_template_areas": null,
            "grid_template_columns": null,
            "grid_template_rows": null,
            "height": null,
            "justify_content": null,
            "justify_items": null,
            "left": null,
            "margin": null,
            "max_height": null,
            "max_width": null,
            "min_height": null,
            "min_width": null,
            "object_fit": null,
            "object_position": null,
            "order": null,
            "overflow": null,
            "overflow_x": null,
            "overflow_y": null,
            "padding": null,
            "right": null,
            "top": null,
            "visibility": null,
            "width": null
          }
        },
        "348010e7ab1c4b379f07d9fca0068176": {
          "model_module": "@jupyter-widgets/base",
          "model_name": "LayoutModel",
          "model_module_version": "1.2.0",
          "state": {
            "_model_module": "@jupyter-widgets/base",
            "_model_module_version": "1.2.0",
            "_model_name": "LayoutModel",
            "_view_count": null,
            "_view_module": "@jupyter-widgets/base",
            "_view_module_version": "1.2.0",
            "_view_name": "LayoutView",
            "align_content": null,
            "align_items": null,
            "align_self": null,
            "border": null,
            "bottom": null,
            "display": null,
            "flex": null,
            "flex_flow": null,
            "grid_area": null,
            "grid_auto_columns": null,
            "grid_auto_flow": null,
            "grid_auto_rows": null,
            "grid_column": null,
            "grid_gap": null,
            "grid_row": null,
            "grid_template_areas": null,
            "grid_template_columns": null,
            "grid_template_rows": null,
            "height": null,
            "justify_content": null,
            "justify_items": null,
            "left": null,
            "margin": null,
            "max_height": null,
            "max_width": null,
            "min_height": null,
            "min_width": null,
            "object_fit": null,
            "object_position": null,
            "order": null,
            "overflow": null,
            "overflow_x": null,
            "overflow_y": null,
            "padding": null,
            "right": null,
            "top": null,
            "visibility": null,
            "width": null
          }
        },
        "84b95029b91f4dcdabb0c8c9ed689254": {
          "model_module": "@jupyter-widgets/controls",
          "model_name": "DescriptionStyleModel",
          "model_module_version": "1.5.0",
          "state": {
            "_model_module": "@jupyter-widgets/controls",
            "_model_module_version": "1.5.0",
            "_model_name": "DescriptionStyleModel",
            "_view_count": null,
            "_view_module": "@jupyter-widgets/base",
            "_view_module_version": "1.2.0",
            "_view_name": "StyleView",
            "description_width": ""
          }
        },
        "2521b3797fc143a7b7398534f5ab13ac": {
          "model_module": "@jupyter-widgets/base",
          "model_name": "LayoutModel",
          "model_module_version": "1.2.0",
          "state": {
            "_model_module": "@jupyter-widgets/base",
            "_model_module_version": "1.2.0",
            "_model_name": "LayoutModel",
            "_view_count": null,
            "_view_module": "@jupyter-widgets/base",
            "_view_module_version": "1.2.0",
            "_view_name": "LayoutView",
            "align_content": null,
            "align_items": null,
            "align_self": null,
            "border": null,
            "bottom": null,
            "display": null,
            "flex": null,
            "flex_flow": null,
            "grid_area": null,
            "grid_auto_columns": null,
            "grid_auto_flow": null,
            "grid_auto_rows": null,
            "grid_column": null,
            "grid_gap": null,
            "grid_row": null,
            "grid_template_areas": null,
            "grid_template_columns": null,
            "grid_template_rows": null,
            "height": null,
            "justify_content": null,
            "justify_items": null,
            "left": null,
            "margin": null,
            "max_height": null,
            "max_width": null,
            "min_height": null,
            "min_width": null,
            "object_fit": null,
            "object_position": null,
            "order": null,
            "overflow": null,
            "overflow_x": null,
            "overflow_y": null,
            "padding": null,
            "right": null,
            "top": null,
            "visibility": null,
            "width": null
          }
        },
        "34b78669addf4e9db2efe86446f2b391": {
          "model_module": "@jupyter-widgets/controls",
          "model_name": "ProgressStyleModel",
          "model_module_version": "1.5.0",
          "state": {
            "_model_module": "@jupyter-widgets/controls",
            "_model_module_version": "1.5.0",
            "_model_name": "ProgressStyleModel",
            "_view_count": null,
            "_view_module": "@jupyter-widgets/base",
            "_view_module_version": "1.2.0",
            "_view_name": "StyleView",
            "bar_color": null,
            "description_width": ""
          }
        },
        "ab98679616544012be0e89c1a044701d": {
          "model_module": "@jupyter-widgets/base",
          "model_name": "LayoutModel",
          "model_module_version": "1.2.0",
          "state": {
            "_model_module": "@jupyter-widgets/base",
            "_model_module_version": "1.2.0",
            "_model_name": "LayoutModel",
            "_view_count": null,
            "_view_module": "@jupyter-widgets/base",
            "_view_module_version": "1.2.0",
            "_view_name": "LayoutView",
            "align_content": null,
            "align_items": null,
            "align_self": null,
            "border": null,
            "bottom": null,
            "display": null,
            "flex": null,
            "flex_flow": null,
            "grid_area": null,
            "grid_auto_columns": null,
            "grid_auto_flow": null,
            "grid_auto_rows": null,
            "grid_column": null,
            "grid_gap": null,
            "grid_row": null,
            "grid_template_areas": null,
            "grid_template_columns": null,
            "grid_template_rows": null,
            "height": null,
            "justify_content": null,
            "justify_items": null,
            "left": null,
            "margin": null,
            "max_height": null,
            "max_width": null,
            "min_height": null,
            "min_width": null,
            "object_fit": null,
            "object_position": null,
            "order": null,
            "overflow": null,
            "overflow_x": null,
            "overflow_y": null,
            "padding": null,
            "right": null,
            "top": null,
            "visibility": null,
            "width": null
          }
        },
        "31792c347aee4c068b571752d6f49681": {
          "model_module": "@jupyter-widgets/controls",
          "model_name": "DescriptionStyleModel",
          "model_module_version": "1.5.0",
          "state": {
            "_model_module": "@jupyter-widgets/controls",
            "_model_module_version": "1.5.0",
            "_model_name": "DescriptionStyleModel",
            "_view_count": null,
            "_view_module": "@jupyter-widgets/base",
            "_view_module_version": "1.2.0",
            "_view_name": "StyleView",
            "description_width": ""
          }
        },
        "bd2c332b3948400481327f86f19e9521": {
          "model_module": "@jupyter-widgets/controls",
          "model_name": "HBoxModel",
          "model_module_version": "1.5.0",
          "state": {
            "_dom_classes": [],
            "_model_module": "@jupyter-widgets/controls",
            "_model_module_version": "1.5.0",
            "_model_name": "HBoxModel",
            "_view_count": null,
            "_view_module": "@jupyter-widgets/controls",
            "_view_module_version": "1.5.0",
            "_view_name": "HBoxView",
            "box_style": "",
            "children": [
              "IPY_MODEL_17d5f635493645469c6e18cb9ce53537",
              "IPY_MODEL_169028876f2c463396e6818ccedbf4b1",
              "IPY_MODEL_463c203ef0fb4b8dbc82d6fa99d08c09"
            ],
            "layout": "IPY_MODEL_557f3f73b7ee4b4fb6bef0482ccd6a35"
          }
        },
        "17d5f635493645469c6e18cb9ce53537": {
          "model_module": "@jupyter-widgets/controls",
          "model_name": "HTMLModel",
          "model_module_version": "1.5.0",
          "state": {
            "_dom_classes": [],
            "_model_module": "@jupyter-widgets/controls",
            "_model_module_version": "1.5.0",
            "_model_name": "HTMLModel",
            "_view_count": null,
            "_view_module": "@jupyter-widgets/controls",
            "_view_module_version": "1.5.0",
            "_view_name": "HTMLView",
            "description": "",
            "description_tooltip": null,
            "layout": "IPY_MODEL_97ecd0ff43404c4e8305cca4d62f90f8",
            "placeholder": "​",
            "style": "IPY_MODEL_dc78a91907634b35aa6d8b15f0ff5d9d",
            "value": "vocab.txt: 100%"
          }
        },
        "169028876f2c463396e6818ccedbf4b1": {
          "model_module": "@jupyter-widgets/controls",
          "model_name": "FloatProgressModel",
          "model_module_version": "1.5.0",
          "state": {
            "_dom_classes": [],
            "_model_module": "@jupyter-widgets/controls",
            "_model_module_version": "1.5.0",
            "_model_name": "FloatProgressModel",
            "_view_count": null,
            "_view_module": "@jupyter-widgets/controls",
            "_view_module_version": "1.5.0",
            "_view_name": "ProgressView",
            "bar_style": "success",
            "description": "",
            "description_tooltip": null,
            "layout": "IPY_MODEL_618318bfa72140fb97bde6cf19c7c11d",
            "max": 213450,
            "min": 0,
            "orientation": "horizontal",
            "style": "IPY_MODEL_ea61fe31c68845b39ee14f324becd1ee",
            "value": 213450
          }
        },
        "463c203ef0fb4b8dbc82d6fa99d08c09": {
          "model_module": "@jupyter-widgets/controls",
          "model_name": "HTMLModel",
          "model_module_version": "1.5.0",
          "state": {
            "_dom_classes": [],
            "_model_module": "@jupyter-widgets/controls",
            "_model_module_version": "1.5.0",
            "_model_name": "HTMLModel",
            "_view_count": null,
            "_view_module": "@jupyter-widgets/controls",
            "_view_module_version": "1.5.0",
            "_view_name": "HTMLView",
            "description": "",
            "description_tooltip": null,
            "layout": "IPY_MODEL_2b12e29bba034d63806475644e92fc75",
            "placeholder": "​",
            "style": "IPY_MODEL_276b25533b194eaca5e07a16c09f49d6",
            "value": " 213k/213k [00:00&lt;00:00, 10.8MB/s]"
          }
        },
        "557f3f73b7ee4b4fb6bef0482ccd6a35": {
          "model_module": "@jupyter-widgets/base",
          "model_name": "LayoutModel",
          "model_module_version": "1.2.0",
          "state": {
            "_model_module": "@jupyter-widgets/base",
            "_model_module_version": "1.2.0",
            "_model_name": "LayoutModel",
            "_view_count": null,
            "_view_module": "@jupyter-widgets/base",
            "_view_module_version": "1.2.0",
            "_view_name": "LayoutView",
            "align_content": null,
            "align_items": null,
            "align_self": null,
            "border": null,
            "bottom": null,
            "display": null,
            "flex": null,
            "flex_flow": null,
            "grid_area": null,
            "grid_auto_columns": null,
            "grid_auto_flow": null,
            "grid_auto_rows": null,
            "grid_column": null,
            "grid_gap": null,
            "grid_row": null,
            "grid_template_areas": null,
            "grid_template_columns": null,
            "grid_template_rows": null,
            "height": null,
            "justify_content": null,
            "justify_items": null,
            "left": null,
            "margin": null,
            "max_height": null,
            "max_width": null,
            "min_height": null,
            "min_width": null,
            "object_fit": null,
            "object_position": null,
            "order": null,
            "overflow": null,
            "overflow_x": null,
            "overflow_y": null,
            "padding": null,
            "right": null,
            "top": null,
            "visibility": null,
            "width": null
          }
        },
        "97ecd0ff43404c4e8305cca4d62f90f8": {
          "model_module": "@jupyter-widgets/base",
          "model_name": "LayoutModel",
          "model_module_version": "1.2.0",
          "state": {
            "_model_module": "@jupyter-widgets/base",
            "_model_module_version": "1.2.0",
            "_model_name": "LayoutModel",
            "_view_count": null,
            "_view_module": "@jupyter-widgets/base",
            "_view_module_version": "1.2.0",
            "_view_name": "LayoutView",
            "align_content": null,
            "align_items": null,
            "align_self": null,
            "border": null,
            "bottom": null,
            "display": null,
            "flex": null,
            "flex_flow": null,
            "grid_area": null,
            "grid_auto_columns": null,
            "grid_auto_flow": null,
            "grid_auto_rows": null,
            "grid_column": null,
            "grid_gap": null,
            "grid_row": null,
            "grid_template_areas": null,
            "grid_template_columns": null,
            "grid_template_rows": null,
            "height": null,
            "justify_content": null,
            "justify_items": null,
            "left": null,
            "margin": null,
            "max_height": null,
            "max_width": null,
            "min_height": null,
            "min_width": null,
            "object_fit": null,
            "object_position": null,
            "order": null,
            "overflow": null,
            "overflow_x": null,
            "overflow_y": null,
            "padding": null,
            "right": null,
            "top": null,
            "visibility": null,
            "width": null
          }
        },
        "dc78a91907634b35aa6d8b15f0ff5d9d": {
          "model_module": "@jupyter-widgets/controls",
          "model_name": "DescriptionStyleModel",
          "model_module_version": "1.5.0",
          "state": {
            "_model_module": "@jupyter-widgets/controls",
            "_model_module_version": "1.5.0",
            "_model_name": "DescriptionStyleModel",
            "_view_count": null,
            "_view_module": "@jupyter-widgets/base",
            "_view_module_version": "1.2.0",
            "_view_name": "StyleView",
            "description_width": ""
          }
        },
        "618318bfa72140fb97bde6cf19c7c11d": {
          "model_module": "@jupyter-widgets/base",
          "model_name": "LayoutModel",
          "model_module_version": "1.2.0",
          "state": {
            "_model_module": "@jupyter-widgets/base",
            "_model_module_version": "1.2.0",
            "_model_name": "LayoutModel",
            "_view_count": null,
            "_view_module": "@jupyter-widgets/base",
            "_view_module_version": "1.2.0",
            "_view_name": "LayoutView",
            "align_content": null,
            "align_items": null,
            "align_self": null,
            "border": null,
            "bottom": null,
            "display": null,
            "flex": null,
            "flex_flow": null,
            "grid_area": null,
            "grid_auto_columns": null,
            "grid_auto_flow": null,
            "grid_auto_rows": null,
            "grid_column": null,
            "grid_gap": null,
            "grid_row": null,
            "grid_template_areas": null,
            "grid_template_columns": null,
            "grid_template_rows": null,
            "height": null,
            "justify_content": null,
            "justify_items": null,
            "left": null,
            "margin": null,
            "max_height": null,
            "max_width": null,
            "min_height": null,
            "min_width": null,
            "object_fit": null,
            "object_position": null,
            "order": null,
            "overflow": null,
            "overflow_x": null,
            "overflow_y": null,
            "padding": null,
            "right": null,
            "top": null,
            "visibility": null,
            "width": null
          }
        },
        "ea61fe31c68845b39ee14f324becd1ee": {
          "model_module": "@jupyter-widgets/controls",
          "model_name": "ProgressStyleModel",
          "model_module_version": "1.5.0",
          "state": {
            "_model_module": "@jupyter-widgets/controls",
            "_model_module_version": "1.5.0",
            "_model_name": "ProgressStyleModel",
            "_view_count": null,
            "_view_module": "@jupyter-widgets/base",
            "_view_module_version": "1.2.0",
            "_view_name": "StyleView",
            "bar_color": null,
            "description_width": ""
          }
        },
        "2b12e29bba034d63806475644e92fc75": {
          "model_module": "@jupyter-widgets/base",
          "model_name": "LayoutModel",
          "model_module_version": "1.2.0",
          "state": {
            "_model_module": "@jupyter-widgets/base",
            "_model_module_version": "1.2.0",
            "_model_name": "LayoutModel",
            "_view_count": null,
            "_view_module": "@jupyter-widgets/base",
            "_view_module_version": "1.2.0",
            "_view_name": "LayoutView",
            "align_content": null,
            "align_items": null,
            "align_self": null,
            "border": null,
            "bottom": null,
            "display": null,
            "flex": null,
            "flex_flow": null,
            "grid_area": null,
            "grid_auto_columns": null,
            "grid_auto_flow": null,
            "grid_auto_rows": null,
            "grid_column": null,
            "grid_gap": null,
            "grid_row": null,
            "grid_template_areas": null,
            "grid_template_columns": null,
            "grid_template_rows": null,
            "height": null,
            "justify_content": null,
            "justify_items": null,
            "left": null,
            "margin": null,
            "max_height": null,
            "max_width": null,
            "min_height": null,
            "min_width": null,
            "object_fit": null,
            "object_position": null,
            "order": null,
            "overflow": null,
            "overflow_x": null,
            "overflow_y": null,
            "padding": null,
            "right": null,
            "top": null,
            "visibility": null,
            "width": null
          }
        },
        "276b25533b194eaca5e07a16c09f49d6": {
          "model_module": "@jupyter-widgets/controls",
          "model_name": "DescriptionStyleModel",
          "model_module_version": "1.5.0",
          "state": {
            "_model_module": "@jupyter-widgets/controls",
            "_model_module_version": "1.5.0",
            "_model_name": "DescriptionStyleModel",
            "_view_count": null,
            "_view_module": "@jupyter-widgets/base",
            "_view_module_version": "1.2.0",
            "_view_name": "StyleView",
            "description_width": ""
          }
        },
        "ffd20fe26e0e4a92a6f8148ac45661d0": {
          "model_module": "@jupyter-widgets/controls",
          "model_name": "HBoxModel",
          "model_module_version": "1.5.0",
          "state": {
            "_dom_classes": [],
            "_model_module": "@jupyter-widgets/controls",
            "_model_module_version": "1.5.0",
            "_model_name": "HBoxModel",
            "_view_count": null,
            "_view_module": "@jupyter-widgets/controls",
            "_view_module_version": "1.5.0",
            "_view_name": "HBoxView",
            "box_style": "",
            "children": [
              "IPY_MODEL_11fa0c009c2a4e3e9286b2013c5c9c8f",
              "IPY_MODEL_cbb73dc0df5d4deab800028b6dcab2ce",
              "IPY_MODEL_3df42e1ff5fe4ab5847fdda23076eec6"
            ],
            "layout": "IPY_MODEL_44132c243ac3459e98e760050ba15ec6"
          }
        },
        "11fa0c009c2a4e3e9286b2013c5c9c8f": {
          "model_module": "@jupyter-widgets/controls",
          "model_name": "HTMLModel",
          "model_module_version": "1.5.0",
          "state": {
            "_dom_classes": [],
            "_model_module": "@jupyter-widgets/controls",
            "_model_module_version": "1.5.0",
            "_model_name": "HTMLModel",
            "_view_count": null,
            "_view_module": "@jupyter-widgets/controls",
            "_view_module_version": "1.5.0",
            "_view_name": "HTMLView",
            "description": "",
            "description_tooltip": null,
            "layout": "IPY_MODEL_c022eea8a9ee4a53b44c6529b4a73427",
            "placeholder": "​",
            "style": "IPY_MODEL_230381db804f489984d3428c52627394",
            "value": "tokenizer.json: 100%"
          }
        },
        "cbb73dc0df5d4deab800028b6dcab2ce": {
          "model_module": "@jupyter-widgets/controls",
          "model_name": "FloatProgressModel",
          "model_module_version": "1.5.0",
          "state": {
            "_dom_classes": [],
            "_model_module": "@jupyter-widgets/controls",
            "_model_module_version": "1.5.0",
            "_model_name": "FloatProgressModel",
            "_view_count": null,
            "_view_module": "@jupyter-widgets/controls",
            "_view_module_version": "1.5.0",
            "_view_name": "ProgressView",
            "bar_style": "success",
            "description": "",
            "description_tooltip": null,
            "layout": "IPY_MODEL_813fb20add28437bbcbf0b4aec5400fa",
            "max": 435797,
            "min": 0,
            "orientation": "horizontal",
            "style": "IPY_MODEL_de8df84823544b06a68713624334cd49",
            "value": 435797
          }
        },
        "3df42e1ff5fe4ab5847fdda23076eec6": {
          "model_module": "@jupyter-widgets/controls",
          "model_name": "HTMLModel",
          "model_module_version": "1.5.0",
          "state": {
            "_dom_classes": [],
            "_model_module": "@jupyter-widgets/controls",
            "_model_module_version": "1.5.0",
            "_model_name": "HTMLModel",
            "_view_count": null,
            "_view_module": "@jupyter-widgets/controls",
            "_view_module_version": "1.5.0",
            "_view_name": "HTMLView",
            "description": "",
            "description_tooltip": null,
            "layout": "IPY_MODEL_17129c678d604756b587c81738803c81",
            "placeholder": "​",
            "style": "IPY_MODEL_86914b429d484c46808f038f27487d4b",
            "value": " 436k/436k [00:00&lt;00:00, 33.6MB/s]"
          }
        },
        "44132c243ac3459e98e760050ba15ec6": {
          "model_module": "@jupyter-widgets/base",
          "model_name": "LayoutModel",
          "model_module_version": "1.2.0",
          "state": {
            "_model_module": "@jupyter-widgets/base",
            "_model_module_version": "1.2.0",
            "_model_name": "LayoutModel",
            "_view_count": null,
            "_view_module": "@jupyter-widgets/base",
            "_view_module_version": "1.2.0",
            "_view_name": "LayoutView",
            "align_content": null,
            "align_items": null,
            "align_self": null,
            "border": null,
            "bottom": null,
            "display": null,
            "flex": null,
            "flex_flow": null,
            "grid_area": null,
            "grid_auto_columns": null,
            "grid_auto_flow": null,
            "grid_auto_rows": null,
            "grid_column": null,
            "grid_gap": null,
            "grid_row": null,
            "grid_template_areas": null,
            "grid_template_columns": null,
            "grid_template_rows": null,
            "height": null,
            "justify_content": null,
            "justify_items": null,
            "left": null,
            "margin": null,
            "max_height": null,
            "max_width": null,
            "min_height": null,
            "min_width": null,
            "object_fit": null,
            "object_position": null,
            "order": null,
            "overflow": null,
            "overflow_x": null,
            "overflow_y": null,
            "padding": null,
            "right": null,
            "top": null,
            "visibility": null,
            "width": null
          }
        },
        "c022eea8a9ee4a53b44c6529b4a73427": {
          "model_module": "@jupyter-widgets/base",
          "model_name": "LayoutModel",
          "model_module_version": "1.2.0",
          "state": {
            "_model_module": "@jupyter-widgets/base",
            "_model_module_version": "1.2.0",
            "_model_name": "LayoutModel",
            "_view_count": null,
            "_view_module": "@jupyter-widgets/base",
            "_view_module_version": "1.2.0",
            "_view_name": "LayoutView",
            "align_content": null,
            "align_items": null,
            "align_self": null,
            "border": null,
            "bottom": null,
            "display": null,
            "flex": null,
            "flex_flow": null,
            "grid_area": null,
            "grid_auto_columns": null,
            "grid_auto_flow": null,
            "grid_auto_rows": null,
            "grid_column": null,
            "grid_gap": null,
            "grid_row": null,
            "grid_template_areas": null,
            "grid_template_columns": null,
            "grid_template_rows": null,
            "height": null,
            "justify_content": null,
            "justify_items": null,
            "left": null,
            "margin": null,
            "max_height": null,
            "max_width": null,
            "min_height": null,
            "min_width": null,
            "object_fit": null,
            "object_position": null,
            "order": null,
            "overflow": null,
            "overflow_x": null,
            "overflow_y": null,
            "padding": null,
            "right": null,
            "top": null,
            "visibility": null,
            "width": null
          }
        },
        "230381db804f489984d3428c52627394": {
          "model_module": "@jupyter-widgets/controls",
          "model_name": "DescriptionStyleModel",
          "model_module_version": "1.5.0",
          "state": {
            "_model_module": "@jupyter-widgets/controls",
            "_model_module_version": "1.5.0",
            "_model_name": "DescriptionStyleModel",
            "_view_count": null,
            "_view_module": "@jupyter-widgets/base",
            "_view_module_version": "1.2.0",
            "_view_name": "StyleView",
            "description_width": ""
          }
        },
        "813fb20add28437bbcbf0b4aec5400fa": {
          "model_module": "@jupyter-widgets/base",
          "model_name": "LayoutModel",
          "model_module_version": "1.2.0",
          "state": {
            "_model_module": "@jupyter-widgets/base",
            "_model_module_version": "1.2.0",
            "_model_name": "LayoutModel",
            "_view_count": null,
            "_view_module": "@jupyter-widgets/base",
            "_view_module_version": "1.2.0",
            "_view_name": "LayoutView",
            "align_content": null,
            "align_items": null,
            "align_self": null,
            "border": null,
            "bottom": null,
            "display": null,
            "flex": null,
            "flex_flow": null,
            "grid_area": null,
            "grid_auto_columns": null,
            "grid_auto_flow": null,
            "grid_auto_rows": null,
            "grid_column": null,
            "grid_gap": null,
            "grid_row": null,
            "grid_template_areas": null,
            "grid_template_columns": null,
            "grid_template_rows": null,
            "height": null,
            "justify_content": null,
            "justify_items": null,
            "left": null,
            "margin": null,
            "max_height": null,
            "max_width": null,
            "min_height": null,
            "min_width": null,
            "object_fit": null,
            "object_position": null,
            "order": null,
            "overflow": null,
            "overflow_x": null,
            "overflow_y": null,
            "padding": null,
            "right": null,
            "top": null,
            "visibility": null,
            "width": null
          }
        },
        "de8df84823544b06a68713624334cd49": {
          "model_module": "@jupyter-widgets/controls",
          "model_name": "ProgressStyleModel",
          "model_module_version": "1.5.0",
          "state": {
            "_model_module": "@jupyter-widgets/controls",
            "_model_module_version": "1.5.0",
            "_model_name": "ProgressStyleModel",
            "_view_count": null,
            "_view_module": "@jupyter-widgets/base",
            "_view_module_version": "1.2.0",
            "_view_name": "StyleView",
            "bar_color": null,
            "description_width": ""
          }
        },
        "17129c678d604756b587c81738803c81": {
          "model_module": "@jupyter-widgets/base",
          "model_name": "LayoutModel",
          "model_module_version": "1.2.0",
          "state": {
            "_model_module": "@jupyter-widgets/base",
            "_model_module_version": "1.2.0",
            "_model_name": "LayoutModel",
            "_view_count": null,
            "_view_module": "@jupyter-widgets/base",
            "_view_module_version": "1.2.0",
            "_view_name": "LayoutView",
            "align_content": null,
            "align_items": null,
            "align_self": null,
            "border": null,
            "bottom": null,
            "display": null,
            "flex": null,
            "flex_flow": null,
            "grid_area": null,
            "grid_auto_columns": null,
            "grid_auto_flow": null,
            "grid_auto_rows": null,
            "grid_column": null,
            "grid_gap": null,
            "grid_row": null,
            "grid_template_areas": null,
            "grid_template_columns": null,
            "grid_template_rows": null,
            "height": null,
            "justify_content": null,
            "justify_items": null,
            "left": null,
            "margin": null,
            "max_height": null,
            "max_width": null,
            "min_height": null,
            "min_width": null,
            "object_fit": null,
            "object_position": null,
            "order": null,
            "overflow": null,
            "overflow_x": null,
            "overflow_y": null,
            "padding": null,
            "right": null,
            "top": null,
            "visibility": null,
            "width": null
          }
        },
        "86914b429d484c46808f038f27487d4b": {
          "model_module": "@jupyter-widgets/controls",
          "model_name": "DescriptionStyleModel",
          "model_module_version": "1.5.0",
          "state": {
            "_model_module": "@jupyter-widgets/controls",
            "_model_module_version": "1.5.0",
            "_model_name": "DescriptionStyleModel",
            "_view_count": null,
            "_view_module": "@jupyter-widgets/base",
            "_view_module_version": "1.2.0",
            "_view_name": "StyleView",
            "description_width": ""
          }
        },
        "08f84deba4874f26b8101cfb6cff9e6c": {
          "model_module": "@jupyter-widgets/controls",
          "model_name": "HBoxModel",
          "model_module_version": "1.5.0",
          "state": {
            "_dom_classes": [],
            "_model_module": "@jupyter-widgets/controls",
            "_model_module_version": "1.5.0",
            "_model_name": "HBoxModel",
            "_view_count": null,
            "_view_module": "@jupyter-widgets/controls",
            "_view_module_version": "1.5.0",
            "_view_name": "HBoxView",
            "box_style": "",
            "children": [
              "IPY_MODEL_283ef2bf7fa44af9b38d1a19026c13dd",
              "IPY_MODEL_058b5479c8064c3eb33cf934f351885a",
              "IPY_MODEL_2dbef53d7cd14fe5844f17a1bb238561"
            ],
            "layout": "IPY_MODEL_396c8558684242fda084f0fa16b08aae"
          }
        },
        "283ef2bf7fa44af9b38d1a19026c13dd": {
          "model_module": "@jupyter-widgets/controls",
          "model_name": "HTMLModel",
          "model_module_version": "1.5.0",
          "state": {
            "_dom_classes": [],
            "_model_module": "@jupyter-widgets/controls",
            "_model_module_version": "1.5.0",
            "_model_name": "HTMLModel",
            "_view_count": null,
            "_view_module": "@jupyter-widgets/controls",
            "_view_module_version": "1.5.0",
            "_view_name": "HTMLView",
            "description": "",
            "description_tooltip": null,
            "layout": "IPY_MODEL_81bca4c1cd744badba65002db55a1e2e",
            "placeholder": "​",
            "style": "IPY_MODEL_5462fd2990e946cb9df265aa80711e3a",
            "value": "config.json: 100%"
          }
        },
        "058b5479c8064c3eb33cf934f351885a": {
          "model_module": "@jupyter-widgets/controls",
          "model_name": "FloatProgressModel",
          "model_module_version": "1.5.0",
          "state": {
            "_dom_classes": [],
            "_model_module": "@jupyter-widgets/controls",
            "_model_module_version": "1.5.0",
            "_model_name": "FloatProgressModel",
            "_view_count": null,
            "_view_module": "@jupyter-widgets/controls",
            "_view_module_version": "1.5.0",
            "_view_name": "ProgressView",
            "bar_style": "success",
            "description": "",
            "description_tooltip": null,
            "layout": "IPY_MODEL_dde8c863fc3e4555b6ad02ece0b8bf2f",
            "max": 570,
            "min": 0,
            "orientation": "horizontal",
            "style": "IPY_MODEL_5911eae3d90644ce9ba2ff67646ba2bc",
            "value": 570
          }
        },
        "2dbef53d7cd14fe5844f17a1bb238561": {
          "model_module": "@jupyter-widgets/controls",
          "model_name": "HTMLModel",
          "model_module_version": "1.5.0",
          "state": {
            "_dom_classes": [],
            "_model_module": "@jupyter-widgets/controls",
            "_model_module_version": "1.5.0",
            "_model_name": "HTMLModel",
            "_view_count": null,
            "_view_module": "@jupyter-widgets/controls",
            "_view_module_version": "1.5.0",
            "_view_name": "HTMLView",
            "description": "",
            "description_tooltip": null,
            "layout": "IPY_MODEL_5649d7f63aa94203b9511e2225840c6a",
            "placeholder": "​",
            "style": "IPY_MODEL_c49e79a156a84f518a963ee9e485483f",
            "value": " 570/570 [00:00&lt;00:00, 50.8kB/s]"
          }
        },
        "396c8558684242fda084f0fa16b08aae": {
          "model_module": "@jupyter-widgets/base",
          "model_name": "LayoutModel",
          "model_module_version": "1.2.0",
          "state": {
            "_model_module": "@jupyter-widgets/base",
            "_model_module_version": "1.2.0",
            "_model_name": "LayoutModel",
            "_view_count": null,
            "_view_module": "@jupyter-widgets/base",
            "_view_module_version": "1.2.0",
            "_view_name": "LayoutView",
            "align_content": null,
            "align_items": null,
            "align_self": null,
            "border": null,
            "bottom": null,
            "display": null,
            "flex": null,
            "flex_flow": null,
            "grid_area": null,
            "grid_auto_columns": null,
            "grid_auto_flow": null,
            "grid_auto_rows": null,
            "grid_column": null,
            "grid_gap": null,
            "grid_row": null,
            "grid_template_areas": null,
            "grid_template_columns": null,
            "grid_template_rows": null,
            "height": null,
            "justify_content": null,
            "justify_items": null,
            "left": null,
            "margin": null,
            "max_height": null,
            "max_width": null,
            "min_height": null,
            "min_width": null,
            "object_fit": null,
            "object_position": null,
            "order": null,
            "overflow": null,
            "overflow_x": null,
            "overflow_y": null,
            "padding": null,
            "right": null,
            "top": null,
            "visibility": null,
            "width": null
          }
        },
        "81bca4c1cd744badba65002db55a1e2e": {
          "model_module": "@jupyter-widgets/base",
          "model_name": "LayoutModel",
          "model_module_version": "1.2.0",
          "state": {
            "_model_module": "@jupyter-widgets/base",
            "_model_module_version": "1.2.0",
            "_model_name": "LayoutModel",
            "_view_count": null,
            "_view_module": "@jupyter-widgets/base",
            "_view_module_version": "1.2.0",
            "_view_name": "LayoutView",
            "align_content": null,
            "align_items": null,
            "align_self": null,
            "border": null,
            "bottom": null,
            "display": null,
            "flex": null,
            "flex_flow": null,
            "grid_area": null,
            "grid_auto_columns": null,
            "grid_auto_flow": null,
            "grid_auto_rows": null,
            "grid_column": null,
            "grid_gap": null,
            "grid_row": null,
            "grid_template_areas": null,
            "grid_template_columns": null,
            "grid_template_rows": null,
            "height": null,
            "justify_content": null,
            "justify_items": null,
            "left": null,
            "margin": null,
            "max_height": null,
            "max_width": null,
            "min_height": null,
            "min_width": null,
            "object_fit": null,
            "object_position": null,
            "order": null,
            "overflow": null,
            "overflow_x": null,
            "overflow_y": null,
            "padding": null,
            "right": null,
            "top": null,
            "visibility": null,
            "width": null
          }
        },
        "5462fd2990e946cb9df265aa80711e3a": {
          "model_module": "@jupyter-widgets/controls",
          "model_name": "DescriptionStyleModel",
          "model_module_version": "1.5.0",
          "state": {
            "_model_module": "@jupyter-widgets/controls",
            "_model_module_version": "1.5.0",
            "_model_name": "DescriptionStyleModel",
            "_view_count": null,
            "_view_module": "@jupyter-widgets/base",
            "_view_module_version": "1.2.0",
            "_view_name": "StyleView",
            "description_width": ""
          }
        },
        "dde8c863fc3e4555b6ad02ece0b8bf2f": {
          "model_module": "@jupyter-widgets/base",
          "model_name": "LayoutModel",
          "model_module_version": "1.2.0",
          "state": {
            "_model_module": "@jupyter-widgets/base",
            "_model_module_version": "1.2.0",
            "_model_name": "LayoutModel",
            "_view_count": null,
            "_view_module": "@jupyter-widgets/base",
            "_view_module_version": "1.2.0",
            "_view_name": "LayoutView",
            "align_content": null,
            "align_items": null,
            "align_self": null,
            "border": null,
            "bottom": null,
            "display": null,
            "flex": null,
            "flex_flow": null,
            "grid_area": null,
            "grid_auto_columns": null,
            "grid_auto_flow": null,
            "grid_auto_rows": null,
            "grid_column": null,
            "grid_gap": null,
            "grid_row": null,
            "grid_template_areas": null,
            "grid_template_columns": null,
            "grid_template_rows": null,
            "height": null,
            "justify_content": null,
            "justify_items": null,
            "left": null,
            "margin": null,
            "max_height": null,
            "max_width": null,
            "min_height": null,
            "min_width": null,
            "object_fit": null,
            "object_position": null,
            "order": null,
            "overflow": null,
            "overflow_x": null,
            "overflow_y": null,
            "padding": null,
            "right": null,
            "top": null,
            "visibility": null,
            "width": null
          }
        },
        "5911eae3d90644ce9ba2ff67646ba2bc": {
          "model_module": "@jupyter-widgets/controls",
          "model_name": "ProgressStyleModel",
          "model_module_version": "1.5.0",
          "state": {
            "_model_module": "@jupyter-widgets/controls",
            "_model_module_version": "1.5.0",
            "_model_name": "ProgressStyleModel",
            "_view_count": null,
            "_view_module": "@jupyter-widgets/base",
            "_view_module_version": "1.2.0",
            "_view_name": "StyleView",
            "bar_color": null,
            "description_width": ""
          }
        },
        "5649d7f63aa94203b9511e2225840c6a": {
          "model_module": "@jupyter-widgets/base",
          "model_name": "LayoutModel",
          "model_module_version": "1.2.0",
          "state": {
            "_model_module": "@jupyter-widgets/base",
            "_model_module_version": "1.2.0",
            "_model_name": "LayoutModel",
            "_view_count": null,
            "_view_module": "@jupyter-widgets/base",
            "_view_module_version": "1.2.0",
            "_view_name": "LayoutView",
            "align_content": null,
            "align_items": null,
            "align_self": null,
            "border": null,
            "bottom": null,
            "display": null,
            "flex": null,
            "flex_flow": null,
            "grid_area": null,
            "grid_auto_columns": null,
            "grid_auto_flow": null,
            "grid_auto_rows": null,
            "grid_column": null,
            "grid_gap": null,
            "grid_row": null,
            "grid_template_areas": null,
            "grid_template_columns": null,
            "grid_template_rows": null,
            "height": null,
            "justify_content": null,
            "justify_items": null,
            "left": null,
            "margin": null,
            "max_height": null,
            "max_width": null,
            "min_height": null,
            "min_width": null,
            "object_fit": null,
            "object_position": null,
            "order": null,
            "overflow": null,
            "overflow_x": null,
            "overflow_y": null,
            "padding": null,
            "right": null,
            "top": null,
            "visibility": null,
            "width": null
          }
        },
        "c49e79a156a84f518a963ee9e485483f": {
          "model_module": "@jupyter-widgets/controls",
          "model_name": "DescriptionStyleModel",
          "model_module_version": "1.5.0",
          "state": {
            "_model_module": "@jupyter-widgets/controls",
            "_model_module_version": "1.5.0",
            "_model_name": "DescriptionStyleModel",
            "_view_count": null,
            "_view_module": "@jupyter-widgets/base",
            "_view_module_version": "1.2.0",
            "_view_name": "StyleView",
            "description_width": ""
          }
        },
        "a9699357b1e445718c2cec11a1dd9082": {
          "model_module": "@jupyter-widgets/controls",
          "model_name": "HBoxModel",
          "model_module_version": "1.5.0",
          "state": {
            "_dom_classes": [],
            "_model_module": "@jupyter-widgets/controls",
            "_model_module_version": "1.5.0",
            "_model_name": "HBoxModel",
            "_view_count": null,
            "_view_module": "@jupyter-widgets/controls",
            "_view_module_version": "1.5.0",
            "_view_name": "HBoxView",
            "box_style": "",
            "children": [
              "IPY_MODEL_d52ced7e561c491f945a2e49d235c2bd",
              "IPY_MODEL_bbe784b20a2145b283d76ce78260eea6",
              "IPY_MODEL_29e29441870d4262932a10da7ae2bca2"
            ],
            "layout": "IPY_MODEL_49387415081c45a8816328d4d4a40e65"
          }
        },
        "d52ced7e561c491f945a2e49d235c2bd": {
          "model_module": "@jupyter-widgets/controls",
          "model_name": "HTMLModel",
          "model_module_version": "1.5.0",
          "state": {
            "_dom_classes": [],
            "_model_module": "@jupyter-widgets/controls",
            "_model_module_version": "1.5.0",
            "_model_name": "HTMLModel",
            "_view_count": null,
            "_view_module": "@jupyter-widgets/controls",
            "_view_module_version": "1.5.0",
            "_view_name": "HTMLView",
            "description": "",
            "description_tooltip": null,
            "layout": "IPY_MODEL_e777e105dd1344ada9d11aa34a3a002d",
            "placeholder": "​",
            "style": "IPY_MODEL_44a2100e6de540c7befcf4fc809cfc0c",
            "value": "model.safetensors: 100%"
          }
        },
        "bbe784b20a2145b283d76ce78260eea6": {
          "model_module": "@jupyter-widgets/controls",
          "model_name": "FloatProgressModel",
          "model_module_version": "1.5.0",
          "state": {
            "_dom_classes": [],
            "_model_module": "@jupyter-widgets/controls",
            "_model_module_version": "1.5.0",
            "_model_name": "FloatProgressModel",
            "_view_count": null,
            "_view_module": "@jupyter-widgets/controls",
            "_view_module_version": "1.5.0",
            "_view_name": "ProgressView",
            "bar_style": "success",
            "description": "",
            "description_tooltip": null,
            "layout": "IPY_MODEL_4d64735eb7bf46b9b7479082ee5551f6",
            "max": 435755784,
            "min": 0,
            "orientation": "horizontal",
            "style": "IPY_MODEL_e5538ee7fb0245eeaf7b73e1e114931f",
            "value": 435755784
          }
        },
        "29e29441870d4262932a10da7ae2bca2": {
          "model_module": "@jupyter-widgets/controls",
          "model_name": "HTMLModel",
          "model_module_version": "1.5.0",
          "state": {
            "_dom_classes": [],
            "_model_module": "@jupyter-widgets/controls",
            "_model_module_version": "1.5.0",
            "_model_name": "HTMLModel",
            "_view_count": null,
            "_view_module": "@jupyter-widgets/controls",
            "_view_module_version": "1.5.0",
            "_view_name": "HTMLView",
            "description": "",
            "description_tooltip": null,
            "layout": "IPY_MODEL_9e1263f20c6e460c9eed9599f9e4886d",
            "placeholder": "​",
            "style": "IPY_MODEL_01197f37ab5949468b54e4e931ea4f17",
            "value": " 436M/436M [00:00&lt;00:00, 536MB/s]"
          }
        },
        "49387415081c45a8816328d4d4a40e65": {
          "model_module": "@jupyter-widgets/base",
          "model_name": "LayoutModel",
          "model_module_version": "1.2.0",
          "state": {
            "_model_module": "@jupyter-widgets/base",
            "_model_module_version": "1.2.0",
            "_model_name": "LayoutModel",
            "_view_count": null,
            "_view_module": "@jupyter-widgets/base",
            "_view_module_version": "1.2.0",
            "_view_name": "LayoutView",
            "align_content": null,
            "align_items": null,
            "align_self": null,
            "border": null,
            "bottom": null,
            "display": null,
            "flex": null,
            "flex_flow": null,
            "grid_area": null,
            "grid_auto_columns": null,
            "grid_auto_flow": null,
            "grid_auto_rows": null,
            "grid_column": null,
            "grid_gap": null,
            "grid_row": null,
            "grid_template_areas": null,
            "grid_template_columns": null,
            "grid_template_rows": null,
            "height": null,
            "justify_content": null,
            "justify_items": null,
            "left": null,
            "margin": null,
            "max_height": null,
            "max_width": null,
            "min_height": null,
            "min_width": null,
            "object_fit": null,
            "object_position": null,
            "order": null,
            "overflow": null,
            "overflow_x": null,
            "overflow_y": null,
            "padding": null,
            "right": null,
            "top": null,
            "visibility": null,
            "width": null
          }
        },
        "e777e105dd1344ada9d11aa34a3a002d": {
          "model_module": "@jupyter-widgets/base",
          "model_name": "LayoutModel",
          "model_module_version": "1.2.0",
          "state": {
            "_model_module": "@jupyter-widgets/base",
            "_model_module_version": "1.2.0",
            "_model_name": "LayoutModel",
            "_view_count": null,
            "_view_module": "@jupyter-widgets/base",
            "_view_module_version": "1.2.0",
            "_view_name": "LayoutView",
            "align_content": null,
            "align_items": null,
            "align_self": null,
            "border": null,
            "bottom": null,
            "display": null,
            "flex": null,
            "flex_flow": null,
            "grid_area": null,
            "grid_auto_columns": null,
            "grid_auto_flow": null,
            "grid_auto_rows": null,
            "grid_column": null,
            "grid_gap": null,
            "grid_row": null,
            "grid_template_areas": null,
            "grid_template_columns": null,
            "grid_template_rows": null,
            "height": null,
            "justify_content": null,
            "justify_items": null,
            "left": null,
            "margin": null,
            "max_height": null,
            "max_width": null,
            "min_height": null,
            "min_width": null,
            "object_fit": null,
            "object_position": null,
            "order": null,
            "overflow": null,
            "overflow_x": null,
            "overflow_y": null,
            "padding": null,
            "right": null,
            "top": null,
            "visibility": null,
            "width": null
          }
        },
        "44a2100e6de540c7befcf4fc809cfc0c": {
          "model_module": "@jupyter-widgets/controls",
          "model_name": "DescriptionStyleModel",
          "model_module_version": "1.5.0",
          "state": {
            "_model_module": "@jupyter-widgets/controls",
            "_model_module_version": "1.5.0",
            "_model_name": "DescriptionStyleModel",
            "_view_count": null,
            "_view_module": "@jupyter-widgets/base",
            "_view_module_version": "1.2.0",
            "_view_name": "StyleView",
            "description_width": ""
          }
        },
        "4d64735eb7bf46b9b7479082ee5551f6": {
          "model_module": "@jupyter-widgets/base",
          "model_name": "LayoutModel",
          "model_module_version": "1.2.0",
          "state": {
            "_model_module": "@jupyter-widgets/base",
            "_model_module_version": "1.2.0",
            "_model_name": "LayoutModel",
            "_view_count": null,
            "_view_module": "@jupyter-widgets/base",
            "_view_module_version": "1.2.0",
            "_view_name": "LayoutView",
            "align_content": null,
            "align_items": null,
            "align_self": null,
            "border": null,
            "bottom": null,
            "display": null,
            "flex": null,
            "flex_flow": null,
            "grid_area": null,
            "grid_auto_columns": null,
            "grid_auto_flow": null,
            "grid_auto_rows": null,
            "grid_column": null,
            "grid_gap": null,
            "grid_row": null,
            "grid_template_areas": null,
            "grid_template_columns": null,
            "grid_template_rows": null,
            "height": null,
            "justify_content": null,
            "justify_items": null,
            "left": null,
            "margin": null,
            "max_height": null,
            "max_width": null,
            "min_height": null,
            "min_width": null,
            "object_fit": null,
            "object_position": null,
            "order": null,
            "overflow": null,
            "overflow_x": null,
            "overflow_y": null,
            "padding": null,
            "right": null,
            "top": null,
            "visibility": null,
            "width": null
          }
        },
        "e5538ee7fb0245eeaf7b73e1e114931f": {
          "model_module": "@jupyter-widgets/controls",
          "model_name": "ProgressStyleModel",
          "model_module_version": "1.5.0",
          "state": {
            "_model_module": "@jupyter-widgets/controls",
            "_model_module_version": "1.5.0",
            "_model_name": "ProgressStyleModel",
            "_view_count": null,
            "_view_module": "@jupyter-widgets/base",
            "_view_module_version": "1.2.0",
            "_view_name": "StyleView",
            "bar_color": null,
            "description_width": ""
          }
        },
        "9e1263f20c6e460c9eed9599f9e4886d": {
          "model_module": "@jupyter-widgets/base",
          "model_name": "LayoutModel",
          "model_module_version": "1.2.0",
          "state": {
            "_model_module": "@jupyter-widgets/base",
            "_model_module_version": "1.2.0",
            "_model_name": "LayoutModel",
            "_view_count": null,
            "_view_module": "@jupyter-widgets/base",
            "_view_module_version": "1.2.0",
            "_view_name": "LayoutView",
            "align_content": null,
            "align_items": null,
            "align_self": null,
            "border": null,
            "bottom": null,
            "display": null,
            "flex": null,
            "flex_flow": null,
            "grid_area": null,
            "grid_auto_columns": null,
            "grid_auto_flow": null,
            "grid_auto_rows": null,
            "grid_column": null,
            "grid_gap": null,
            "grid_row": null,
            "grid_template_areas": null,
            "grid_template_columns": null,
            "grid_template_rows": null,
            "height": null,
            "justify_content": null,
            "justify_items": null,
            "left": null,
            "margin": null,
            "max_height": null,
            "max_width": null,
            "min_height": null,
            "min_width": null,
            "object_fit": null,
            "object_position": null,
            "order": null,
            "overflow": null,
            "overflow_x": null,
            "overflow_y": null,
            "padding": null,
            "right": null,
            "top": null,
            "visibility": null,
            "width": null
          }
        },
        "01197f37ab5949468b54e4e931ea4f17": {
          "model_module": "@jupyter-widgets/controls",
          "model_name": "DescriptionStyleModel",
          "model_module_version": "1.5.0",
          "state": {
            "_model_module": "@jupyter-widgets/controls",
            "_model_module_version": "1.5.0",
            "_model_name": "DescriptionStyleModel",
            "_view_count": null,
            "_view_module": "@jupyter-widgets/base",
            "_view_module_version": "1.2.0",
            "_view_name": "StyleView",
            "description_width": ""
          }
        }
      }
    }
  },
  "nbformat": 4,
  "nbformat_minor": 0
}